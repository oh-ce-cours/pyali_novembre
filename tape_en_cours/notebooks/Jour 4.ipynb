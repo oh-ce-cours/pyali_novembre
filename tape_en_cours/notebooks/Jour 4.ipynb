{
 "cells": [
  {
   "cell_type": "markdown",
   "id": "f24c2058-191b-4a3b-9ef7-333866e8b2c2",
   "metadata": {},
   "source": [
    "# Rappel jour 3\n",
    "\n",
    "* programmation fonctionnelle\n",
    "    * décorateurs\n",
    "* paramètres des fonctions\n",
    "    * args / kwargs\n",
    "    * pas de type mutable comme paramètres par défaut d'une fonction\n"
   ]
  }
 ],
 "metadata": {
  "kernelspec": {
   "display_name": "Python 3 (ipykernel)",
   "language": "python",
   "name": "python3"
  },
  "language_info": {
   "codemirror_mode": {
    "name": "ipython",
    "version": 3
   },
   "file_extension": ".py",
   "mimetype": "text/x-python",
   "name": "python",
   "nbconvert_exporter": "python",
   "pygments_lexer": "ipython3",
   "version": "3.12.0"
  }
 },
 "nbformat": 4,
 "nbformat_minor": 5
}
