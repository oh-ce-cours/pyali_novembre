{
 "cells": [
  {
   "cell_type": "markdown",
   "id": "f24c2058-191b-4a3b-9ef7-333866e8b2c2",
   "metadata": {},
   "source": [
    "# Rappel jour 3\n",
    "\n",
    "* programmation fonctionnelle\n",
    "    * décorateurs\n",
    "* paramètres des fonctions\n",
    "    * args / kwargs\n",
    "    * pas de type mutable comme paramètres par défaut d'une fonction\n",
    "* manipulation de structures de données\n",
    "* exceptions "
   ]
  },
  {
   "cell_type": "code",
   "execution_count": 2,
   "id": "94e7a754-b0ab-4792-aa80-965c21b22a20",
   "metadata": {},
   "outputs": [
    {
     "name": "stdout",
     "output_type": "stream",
     "text": [
      "*** print_tb:\n",
      "  File \"/var/folders/45/mykz63gx201cdrs_lb6qwcj80000gn/T/ipykernel_64270/4154600435.py\", line 12, in <module>\n",
      "    lumberjack()\n",
      "*** print_exception:\n",
      "Traceback (most recent call last):\n",
      "  File \"/var/folders/45/mykz63gx201cdrs_lb6qwcj80000gn/T/ipykernel_64270/4154600435.py\", line 12, in <module>\n",
      "    lumberjack()\n",
      "  File \"/var/folders/45/mykz63gx201cdrs_lb6qwcj80000gn/T/ipykernel_64270/4154600435.py\", line 6, in lumberjack\n",
      "    bright_side_of_life()\n",
      "IndexError: tuple index out of range\n",
      "*** print_exc:\n",
      "Traceback (most recent call last):\n",
      "  File \"/var/folders/45/mykz63gx201cdrs_lb6qwcj80000gn/T/ipykernel_64270/4154600435.py\", line 12, in <module>\n",
      "    lumberjack()\n",
      "  File \"/var/folders/45/mykz63gx201cdrs_lb6qwcj80000gn/T/ipykernel_64270/4154600435.py\", line 6, in lumberjack\n",
      "    bright_side_of_life()\n",
      "IndexError: tuple index out of range\n",
      "*** format_exc, first and last line:\n",
      "Traceback (most recent call last):\n",
      "IndexError: tuple index out of range\n",
      "*** format_exception:\n",
      "['Traceback (most recent call last):\\n', '  File \"/var/folders/45/mykz63gx201cdrs_lb6qwcj80000gn/T/ipykernel_64270/4154600435.py\", line 12, in <module>\\n    lumberjack()\\n', '  File \"/var/folders/45/mykz63gx201cdrs_lb6qwcj80000gn/T/ipykernel_64270/4154600435.py\", line 6, in lumberjack\\n    bright_side_of_life()\\n', '  File \"/var/folders/45/mykz63gx201cdrs_lb6qwcj80000gn/T/ipykernel_64270/4154600435.py\", line 9, in bright_side_of_life\\n    return tuple()[0]\\n           ~~~~~~~^^^\\n', 'IndexError: tuple index out of range\\n']\n",
      "*** extract_tb:\n",
      "[<FrameSummary file /var/folders/45/mykz63gx201cdrs_lb6qwcj80000gn/T/ipykernel_64270/4154600435.py, line 12 in <module>>, <FrameSummary file /var/folders/45/mykz63gx201cdrs_lb6qwcj80000gn/T/ipykernel_64270/4154600435.py, line 6 in lumberjack>, <FrameSummary file /var/folders/45/mykz63gx201cdrs_lb6qwcj80000gn/T/ipykernel_64270/4154600435.py, line 9 in bright_side_of_life>]\n",
      "*** format_tb:\n",
      "['  File \"/var/folders/45/mykz63gx201cdrs_lb6qwcj80000gn/T/ipykernel_64270/4154600435.py\", line 12, in <module>\\n    lumberjack()\\n', '  File \"/var/folders/45/mykz63gx201cdrs_lb6qwcj80000gn/T/ipykernel_64270/4154600435.py\", line 6, in lumberjack\\n    bright_side_of_life()\\n', '  File \"/var/folders/45/mykz63gx201cdrs_lb6qwcj80000gn/T/ipykernel_64270/4154600435.py\", line 9, in bright_side_of_life\\n    return tuple()[0]\\n           ~~~~~~~^^^\\n']\n",
      "*** tb_lineno: 12\n"
     ]
    }
   ],
   "source": [
    "# https://docs.python.org/3/library/traceback.html\n",
    "\n",
    "import sys, traceback\n",
    "\n",
    "def lumberjack():\n",
    "    bright_side_of_life()\n",
    "\n",
    "def bright_side_of_life():\n",
    "    return tuple()[0]\n",
    "\n",
    "try:\n",
    "    lumberjack()\n",
    "except IndexError:\n",
    "    exc = sys.exception()\n",
    "    print(\"*** print_tb:\")\n",
    "    traceback.print_tb(exc.__traceback__, limit=1, file=sys.stdout)\n",
    "    print(\"*** print_exception:\")\n",
    "    traceback.print_exception(exc, limit=2, file=sys.stdout)\n",
    "    print(\"*** print_exc:\")\n",
    "    traceback.print_exc(limit=2, file=sys.stdout)\n",
    "    print(\"*** format_exc, first and last line:\")\n",
    "    formatted_lines = traceback.format_exc().splitlines()\n",
    "    print(formatted_lines[0])\n",
    "    print(formatted_lines[-1])\n",
    "    print(\"*** format_exception:\")\n",
    "    print(repr(traceback.format_exception(exc)))\n",
    "    print(\"*** extract_tb:\")\n",
    "    print(repr(traceback.extract_tb(exc.__traceback__)))\n",
    "    print(\"*** format_tb:\")\n",
    "    print(repr(traceback.format_tb(exc.__traceback__)))\n",
    "    print(\"*** tb_lineno:\", exc.__traceback__.tb_lineno)\n"
   ]
  },
  {
   "cell_type": "markdown",
   "id": "fa54c6b2-f66e-4b67-bb58-68bebc9352b2",
   "metadata": {},
   "source": [
    "# POO "
   ]
  },
  {
   "cell_type": "code",
   "execution_count": 8,
   "id": "adfdc285-3094-4a6e-99df-68489d5a8123",
   "metadata": {},
   "outputs": [
    {
     "name": "stdout",
     "output_type": "stream",
     "text": [
      "<__main__.CastorJunior object at 0x103ac1bb0> 4356578224\n",
      "<__main__.CastorJunior object at 0x103ac1bb0> 4356578224\n",
      "**********\n",
      "<__main__.CastorJunior object at 0x103ce9460> 4358837344\n",
      "<__main__.CastorJunior object at 0x103ce9460> 4358837344\n"
     ]
    }
   ],
   "source": [
    "class CastorJunior:\n",
    "    def __init__(self, name):\n",
    "        print(self, id(self))\n",
    "        self.name = name \n",
    "\n",
    "    def parle(self):\n",
    "        print(self.name)\n",
    "\n",
    "riri = CastorJunior(\"riri\")\n",
    "print(riri, id(riri))\n",
    "print(\"*\"*10)\n",
    "fifi = CastorJunior(\"fifi\")\n",
    "print(fifi, id(fifi))"
   ]
  },
  {
   "cell_type": "code",
   "execution_count": 16,
   "id": "0d0a1c60-3731-45fe-9912-33a13c2656df",
   "metadata": {},
   "outputs": [
    {
     "name": "stdout",
     "output_type": "stream",
     "text": [
      "fifi\n"
     ]
    }
   ],
   "source": [
    "type(riri).parle(fifi)"
   ]
  },
  {
   "cell_type": "code",
   "execution_count": 10,
   "id": "0874dec2-12fe-4c9c-80a4-9e882ce0f35f",
   "metadata": {},
   "outputs": [
    {
     "name": "stdout",
     "output_type": "stream",
     "text": [
      "fifi\n"
     ]
    }
   ],
   "source": [
    "CastorJunior.parle(fifi)"
   ]
  },
  {
   "cell_type": "code",
   "execution_count": 13,
   "id": "68007bd3-cf77-4caf-a6ab-f1d7949986be",
   "metadata": {},
   "outputs": [
    {
     "name": "stdout",
     "output_type": "stream",
     "text": [
      "<__main__.CastorJunior object at 0x103d66f00> 4359352064\n"
     ]
    },
    {
     "data": {
      "text/plain": [
       "<__main__.CastorJunior at 0x103d66f00>"
      ]
     },
     "execution_count": 13,
     "metadata": {},
     "output_type": "execute_result"
    }
   ],
   "source": [
    "type(riri)(\"toto\")"
   ]
  },
  {
   "cell_type": "code",
   "execution_count": 15,
   "id": "1d4da60e-b955-437d-8f40-c53cb54536af",
   "metadata": {},
   "outputs": [
    {
     "data": {
      "text/plain": [
       "<bound method CastorJunior.parle of <__main__.CastorJunior object at 0x103ac1bb0>>"
      ]
     },
     "execution_count": 15,
     "metadata": {},
     "output_type": "execute_result"
    }
   ],
   "source": [
    "riri.parle"
   ]
  },
  {
   "cell_type": "markdown",
   "id": "8d67db27-77ba-4b95-b267-8fff151a3603",
   "metadata": {},
   "source": [
    "## Héritage"
   ]
  },
  {
   "cell_type": "code",
   "execution_count": 51,
   "id": "6d501eeb-367b-430d-9657-3ecbef91b4b0",
   "metadata": {},
   "outputs": [],
   "source": [
    "class Mere: \n",
    "    def propriete(self, nom):\n",
    "        print(\"dans propriete de mere\", nom)\n",
    "\n",
    "class Fille(Mere):\n",
    "    def exemple(self):\n",
    "        print(\"dans exemple de fille\")\n",
    "\n",
    "    def propriete(self):\n",
    "        super().propriete(\"defaut\")\n",
    "        print(\"dans propriete de fille\")"
   ]
  },
  {
   "cell_type": "code",
   "execution_count": 35,
   "id": "4fc63365-b0c4-4a6d-9d59-ad37aa74f158",
   "metadata": {},
   "outputs": [
    {
     "name": "stdout",
     "output_type": "stream",
     "text": [
      "dans exemple de fille\n",
      "dans propriete de mere defaut\n",
      "dans propriete de fille\n"
     ]
    }
   ],
   "source": [
    "f = Fille()\n",
    "f.exemple()\n",
    "f.propriete()"
   ]
  },
  {
   "cell_type": "code",
   "execution_count": null,
   "id": "26875887-ec8f-4f8c-98d8-d7f7f717069b",
   "metadata": {},
   "outputs": [],
   "source": []
  },
  {
   "cell_type": "code",
   "execution_count": 60,
   "id": "b14ee541-4d76-4e5e-b17d-111465a7a9a7",
   "metadata": {},
   "outputs": [],
   "source": [
    "class A:\n",
    "    def met(self): print(\"dans A\")\n",
    "\n",
    "class B1(A):\n",
    "    def met(self): print(\"dans B1\")\n",
    "\n",
    "class B2(A):\n",
    "    def met(self): \n",
    "        # super().met()\n",
    "        print(\"dans B2\")\n",
    "\n",
    "class C(B2, B1):\n",
    "    def met(self): \n",
    "        A.met(self)\n",
    "        super().met()\n",
    "        print(\"dans C\")"
   ]
  },
  {
   "cell_type": "code",
   "execution_count": 61,
   "id": "e37efd89-2ebb-4e10-9023-1491a544bffa",
   "metadata": {},
   "outputs": [
    {
     "name": "stdout",
     "output_type": "stream",
     "text": [
      "dans A\n",
      "dans B2\n",
      "dans C\n"
     ]
    }
   ],
   "source": [
    "C().met()"
   ]
  },
  {
   "cell_type": "code",
   "execution_count": 46,
   "id": "a0d821f2-da3e-4601-bd38-5c17be02638b",
   "metadata": {},
   "outputs": [
    {
     "data": {
      "text/plain": [
       "(__main__.C, __main__.B2, __main__.B1, __main__.A, object)"
      ]
     },
     "execution_count": 46,
     "metadata": {},
     "output_type": "execute_result"
    }
   ],
   "source": [
    "C.__mro__"
   ]
  },
  {
   "cell_type": "markdown",
   "id": "63e7618f-1cb2-427b-b116-78e4b93bc777",
   "metadata": {},
   "source": [
    "### Mixins"
   ]
  },
  {
   "cell_type": "code",
   "execution_count": 76,
   "id": "ebdb6861-cd0c-4466-95fd-39a8a23064c8",
   "metadata": {},
   "outputs": [],
   "source": [
    "from abc import ABC, abstractmethod\n",
    "\n",
    "class CastorJuniorAbstract(ABC):\n",
    "    def __init__(self, name):\n",
    "        print(self, id(self))\n",
    "        self.name = name \n",
    "\n",
    "    @abstractmethod\n",
    "    def parle(self): pass \n",
    "\n",
    "class Cri():\n",
    "    def parle(self):\n",
    "        print(self.name.upper())\n",
    "\n",
    "class Chuchote():\n",
    "    def parle(self):\n",
    "        print(self.name + \"...\")\n",
    "\n",
    "class CastorJunior(Chuchote, CastorJuniorAbstract):\n",
    "    pass "
   ]
  },
  {
   "cell_type": "code",
   "execution_count": 77,
   "id": "58faf4ea-2d6e-48f9-95fd-c80a14e6d79b",
   "metadata": {},
   "outputs": [
    {
     "name": "stdout",
     "output_type": "stream",
     "text": [
      "<__main__.CastorJunior object at 0x104541bb0> 4367588272\n",
      "riri...\n"
     ]
    }
   ],
   "source": [
    "riri = CastorJunior(\"riri\")\n",
    "riri.parle()"
   ]
  },
  {
   "cell_type": "markdown",
   "id": "95b76a41-15a9-451d-b61e-00b1112565ef",
   "metadata": {},
   "source": [
    "## Méthodes magiques "
   ]
  },
  {
   "cell_type": "code",
   "execution_count": 92,
   "id": "4b028707-bd89-4fdb-8911-3385291398a6",
   "metadata": {},
   "outputs": [],
   "source": [
    "class Toto:\n",
    "    def __str__(self):\n",
    "        return \"dans str\"\n",
    "\n",
    "    def __repr__(self):\n",
    "        return str(self)\n",
    "    #    return \"dans repr\"\n",
    "\n",
    "    def __call__"
   ]
  },
  {
   "cell_type": "code",
   "execution_count": 93,
   "id": "4d33e644-0089-44f0-bc49-2a6aa39ba78e",
   "metadata": {},
   "outputs": [
    {
     "data": {
      "text/plain": [
       "'dans str'"
      ]
     },
     "execution_count": 93,
     "metadata": {},
     "output_type": "execute_result"
    }
   ],
   "source": [
    "t = Toto()\n",
    "str(t)"
   ]
  },
  {
   "cell_type": "code",
   "execution_count": 94,
   "id": "a20d60ed-a6e8-4d6c-980b-f9226166e9a8",
   "metadata": {},
   "outputs": [
    {
     "data": {
      "text/plain": [
       "'dans str'"
      ]
     },
     "execution_count": 94,
     "metadata": {},
     "output_type": "execute_result"
    }
   ],
   "source": [
    "t.__str__()"
   ]
  },
  {
   "cell_type": "code",
   "execution_count": 95,
   "id": "af48c860-4c64-4243-9410-2d9f51fb0441",
   "metadata": {},
   "outputs": [
    {
     "data": {
      "text/plain": [
       "'dans str'"
      ]
     },
     "execution_count": 95,
     "metadata": {},
     "output_type": "execute_result"
    }
   ],
   "source": [
    "repr(t)"
   ]
  },
  {
   "cell_type": "code",
   "execution_count": 96,
   "id": "87fd9fd7-dd3f-4e3b-a6ea-5bbfeff53682",
   "metadata": {},
   "outputs": [
    {
     "data": {
      "text/plain": [
       "[dans str, dans str]"
      ]
     },
     "execution_count": 96,
     "metadata": {},
     "output_type": "execute_result"
    }
   ],
   "source": [
    "[Toto(), Toto()]"
   ]
  },
  {
   "cell_type": "code",
   "execution_count": 98,
   "id": "4aacdc6b-cee0-41d0-a78c-7837402b92d1",
   "metadata": {},
   "outputs": [
    {
     "ename": "TypeError",
     "evalue": "'Toto' object is not callable",
     "output_type": "error",
     "traceback": [
      "\u001b[0;31m---------------------------------------------------------------------------\u001b[0m",
      "\u001b[0;31mTypeError\u001b[0m                                 Traceback (most recent call last)",
      "Cell \u001b[0;32mIn[98], line 1\u001b[0m\n\u001b[0;32m----> 1\u001b[0m \u001b[43mt\u001b[49m\u001b[43m(\u001b[49m\u001b[43m)\u001b[49m\n",
      "\u001b[0;31mTypeError\u001b[0m: 'Toto' object is not callable"
     ]
    }
   ],
   "source": [
    "t()"
   ]
  },
  {
   "cell_type": "code",
   "execution_count": null,
   "id": "edf93101-aad5-49f7-a2d5-d44d6b10c0d4",
   "metadata": {},
   "outputs": [],
   "source": []
  },
  {
   "cell_type": "code",
   "execution_count": null,
   "id": "23a55e72-65d1-4dc1-8d58-a9c6c4c6dfe2",
   "metadata": {},
   "outputs": [],
   "source": []
  },
  {
   "cell_type": "code",
   "execution_count": null,
   "id": "5d954a89-32d9-4f60-8e6d-0ecc97839f67",
   "metadata": {},
   "outputs": [],
   "source": []
  }
 ],
 "metadata": {
  "kernelspec": {
   "display_name": "Python 3 (ipykernel)",
   "language": "python",
   "name": "python3"
  },
  "language_info": {
   "codemirror_mode": {
    "name": "ipython",
    "version": 3
   },
   "file_extension": ".py",
   "mimetype": "text/x-python",
   "name": "python",
   "nbconvert_exporter": "python",
   "pygments_lexer": "ipython3",
   "version": "3.12.0"
  }
 },
 "nbformat": 4,
 "nbformat_minor": 5
}
