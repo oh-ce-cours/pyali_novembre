{
 "cells": [
  {
   "cell_type": "markdown",
   "id": "f24c2058-191b-4a3b-9ef7-333866e8b2c2",
   "metadata": {},
   "source": [
    "# Rappel jour 3\n",
    "\n",
    "* programmation fonctionnelle\n",
    "    * décorateurs\n",
    "* paramètres des fonctions\n",
    "    * args / kwargs\n",
    "    * pas de type mutable comme paramètres par défaut d'une fonction\n",
    "* manipulation de structures de données\n",
    "* exceptions "
   ]
  },
  {
   "cell_type": "code",
   "execution_count": 2,
   "id": "94e7a754-b0ab-4792-aa80-965c21b22a20",
   "metadata": {},
   "outputs": [
    {
     "name": "stdout",
     "output_type": "stream",
     "text": [
      "*** print_tb:\n",
      "  File \"/var/folders/45/mykz63gx201cdrs_lb6qwcj80000gn/T/ipykernel_64270/4154600435.py\", line 12, in <module>\n",
      "    lumberjack()\n",
      "*** print_exception:\n",
      "Traceback (most recent call last):\n",
      "  File \"/var/folders/45/mykz63gx201cdrs_lb6qwcj80000gn/T/ipykernel_64270/4154600435.py\", line 12, in <module>\n",
      "    lumberjack()\n",
      "  File \"/var/folders/45/mykz63gx201cdrs_lb6qwcj80000gn/T/ipykernel_64270/4154600435.py\", line 6, in lumberjack\n",
      "    bright_side_of_life()\n",
      "IndexError: tuple index out of range\n",
      "*** print_exc:\n",
      "Traceback (most recent call last):\n",
      "  File \"/var/folders/45/mykz63gx201cdrs_lb6qwcj80000gn/T/ipykernel_64270/4154600435.py\", line 12, in <module>\n",
      "    lumberjack()\n",
      "  File \"/var/folders/45/mykz63gx201cdrs_lb6qwcj80000gn/T/ipykernel_64270/4154600435.py\", line 6, in lumberjack\n",
      "    bright_side_of_life()\n",
      "IndexError: tuple index out of range\n",
      "*** format_exc, first and last line:\n",
      "Traceback (most recent call last):\n",
      "IndexError: tuple index out of range\n",
      "*** format_exception:\n",
      "['Traceback (most recent call last):\\n', '  File \"/var/folders/45/mykz63gx201cdrs_lb6qwcj80000gn/T/ipykernel_64270/4154600435.py\", line 12, in <module>\\n    lumberjack()\\n', '  File \"/var/folders/45/mykz63gx201cdrs_lb6qwcj80000gn/T/ipykernel_64270/4154600435.py\", line 6, in lumberjack\\n    bright_side_of_life()\\n', '  File \"/var/folders/45/mykz63gx201cdrs_lb6qwcj80000gn/T/ipykernel_64270/4154600435.py\", line 9, in bright_side_of_life\\n    return tuple()[0]\\n           ~~~~~~~^^^\\n', 'IndexError: tuple index out of range\\n']\n",
      "*** extract_tb:\n",
      "[<FrameSummary file /var/folders/45/mykz63gx201cdrs_lb6qwcj80000gn/T/ipykernel_64270/4154600435.py, line 12 in <module>>, <FrameSummary file /var/folders/45/mykz63gx201cdrs_lb6qwcj80000gn/T/ipykernel_64270/4154600435.py, line 6 in lumberjack>, <FrameSummary file /var/folders/45/mykz63gx201cdrs_lb6qwcj80000gn/T/ipykernel_64270/4154600435.py, line 9 in bright_side_of_life>]\n",
      "*** format_tb:\n",
      "['  File \"/var/folders/45/mykz63gx201cdrs_lb6qwcj80000gn/T/ipykernel_64270/4154600435.py\", line 12, in <module>\\n    lumberjack()\\n', '  File \"/var/folders/45/mykz63gx201cdrs_lb6qwcj80000gn/T/ipykernel_64270/4154600435.py\", line 6, in lumberjack\\n    bright_side_of_life()\\n', '  File \"/var/folders/45/mykz63gx201cdrs_lb6qwcj80000gn/T/ipykernel_64270/4154600435.py\", line 9, in bright_side_of_life\\n    return tuple()[0]\\n           ~~~~~~~^^^\\n']\n",
      "*** tb_lineno: 12\n"
     ]
    }
   ],
   "source": [
    "# https://docs.python.org/3/library/traceback.html\n",
    "\n",
    "import sys, traceback\n",
    "\n",
    "def lumberjack():\n",
    "    bright_side_of_life()\n",
    "\n",
    "def bright_side_of_life():\n",
    "    return tuple()[0]\n",
    "\n",
    "try:\n",
    "    lumberjack()\n",
    "except IndexError:\n",
    "    exc = sys.exception()\n",
    "    print(\"*** print_tb:\")\n",
    "    traceback.print_tb(exc.__traceback__, limit=1, file=sys.stdout)\n",
    "    print(\"*** print_exception:\")\n",
    "    traceback.print_exception(exc, limit=2, file=sys.stdout)\n",
    "    print(\"*** print_exc:\")\n",
    "    traceback.print_exc(limit=2, file=sys.stdout)\n",
    "    print(\"*** format_exc, first and last line:\")\n",
    "    formatted_lines = traceback.format_exc().splitlines()\n",
    "    print(formatted_lines[0])\n",
    "    print(formatted_lines[-1])\n",
    "    print(\"*** format_exception:\")\n",
    "    print(repr(traceback.format_exception(exc)))\n",
    "    print(\"*** extract_tb:\")\n",
    "    print(repr(traceback.extract_tb(exc.__traceback__)))\n",
    "    print(\"*** format_tb:\")\n",
    "    print(repr(traceback.format_tb(exc.__traceback__)))\n",
    "    print(\"*** tb_lineno:\", exc.__traceback__.tb_lineno)\n"
   ]
  },
  {
   "cell_type": "markdown",
   "id": "fa54c6b2-f66e-4b67-bb58-68bebc9352b2",
   "metadata": {},
   "source": [
    "# POO "
   ]
  },
  {
   "cell_type": "code",
   "execution_count": 8,
   "id": "adfdc285-3094-4a6e-99df-68489d5a8123",
   "metadata": {},
   "outputs": [
    {
     "name": "stdout",
     "output_type": "stream",
     "text": [
      "<__main__.CastorJunior object at 0x103ac1bb0> 4356578224\n",
      "<__main__.CastorJunior object at 0x103ac1bb0> 4356578224\n",
      "**********\n",
      "<__main__.CastorJunior object at 0x103ce9460> 4358837344\n",
      "<__main__.CastorJunior object at 0x103ce9460> 4358837344\n"
     ]
    }
   ],
   "source": [
    "class CastorJunior:\n",
    "    def __init__(self, name):\n",
    "        print(self, id(self))\n",
    "        self.name = name \n",
    "\n",
    "    def parle(self):\n",
    "        print(self.name)\n",
    "\n",
    "riri = CastorJunior(\"riri\")\n",
    "print(riri, id(riri))\n",
    "print(\"*\"*10)\n",
    "fifi = CastorJunior(\"fifi\")\n",
    "print(fifi, id(fifi))"
   ]
  },
  {
   "cell_type": "code",
   "execution_count": 16,
   "id": "0d0a1c60-3731-45fe-9912-33a13c2656df",
   "metadata": {},
   "outputs": [
    {
     "name": "stdout",
     "output_type": "stream",
     "text": [
      "fifi\n"
     ]
    }
   ],
   "source": [
    "type(riri).parle(fifi)"
   ]
  },
  {
   "cell_type": "code",
   "execution_count": 10,
   "id": "0874dec2-12fe-4c9c-80a4-9e882ce0f35f",
   "metadata": {},
   "outputs": [
    {
     "name": "stdout",
     "output_type": "stream",
     "text": [
      "fifi\n"
     ]
    }
   ],
   "source": [
    "CastorJunior.parle(fifi)"
   ]
  },
  {
   "cell_type": "code",
   "execution_count": 13,
   "id": "68007bd3-cf77-4caf-a6ab-f1d7949986be",
   "metadata": {},
   "outputs": [
    {
     "name": "stdout",
     "output_type": "stream",
     "text": [
      "<__main__.CastorJunior object at 0x103d66f00> 4359352064\n"
     ]
    },
    {
     "data": {
      "text/plain": [
       "<__main__.CastorJunior at 0x103d66f00>"
      ]
     },
     "execution_count": 13,
     "metadata": {},
     "output_type": "execute_result"
    }
   ],
   "source": [
    "type(riri)(\"toto\")"
   ]
  },
  {
   "cell_type": "code",
   "execution_count": 15,
   "id": "1d4da60e-b955-437d-8f40-c53cb54536af",
   "metadata": {},
   "outputs": [
    {
     "data": {
      "text/plain": [
       "<bound method CastorJunior.parle of <__main__.CastorJunior object at 0x103ac1bb0>>"
      ]
     },
     "execution_count": 15,
     "metadata": {},
     "output_type": "execute_result"
    }
   ],
   "source": [
    "riri.parle"
   ]
  },
  {
   "cell_type": "markdown",
   "id": "8d67db27-77ba-4b95-b267-8fff151a3603",
   "metadata": {},
   "source": [
    "## Héritage"
   ]
  },
  {
   "cell_type": "code",
   "execution_count": 22,
   "id": "6d501eeb-367b-430d-9657-3ecbef91b4b0",
   "metadata": {},
   "outputs": [],
   "source": [
    "class Mere: \n",
    "    def propriete(self):\n",
    "        print(\"dans propriete de mere\")\n",
    "\n",
    "class Fille(Mere):\n",
    "    def exemple(self):\n",
    "        print(\"dans exemple de fille\")\n",
    "\n",
    "    def propriete(self):\n",
    "        super().\n",
    "        print(\"dans propriete de fille\")"
   ]
  },
  {
   "cell_type": "code",
   "execution_count": 23,
   "id": "4fc63365-b0c4-4a6d-9d59-ad37aa74f158",
   "metadata": {},
   "outputs": [
    {
     "name": "stdout",
     "output_type": "stream",
     "text": [
      "dans exemple de fille\n",
      "dans propriete de fille\n"
     ]
    }
   ],
   "source": [
    "f = Fille()\n",
    "f.exemple()\n",
    "f.propriete()"
   ]
  },
  {
   "cell_type": "code",
   "execution_count": null,
   "id": "26875887-ec8f-4f8c-98d8-d7f7f717069b",
   "metadata": {},
   "outputs": [],
   "source": []
  }
 ],
 "metadata": {
  "kernelspec": {
   "display_name": "Python 3 (ipykernel)",
   "language": "python",
   "name": "python3"
  },
  "language_info": {
   "codemirror_mode": {
    "name": "ipython",
    "version": 3
   },
   "file_extension": ".py",
   "mimetype": "text/x-python",
   "name": "python",
   "nbconvert_exporter": "python",
   "pygments_lexer": "ipython3",
   "version": "3.12.0"
  }
 },
 "nbformat": 4,
 "nbformat_minor": 5
}
