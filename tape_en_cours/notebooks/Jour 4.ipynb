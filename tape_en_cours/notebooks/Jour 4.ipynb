{
 "cells": [
  {
   "cell_type": "markdown",
   "id": "f24c2058-191b-4a3b-9ef7-333866e8b2c2",
   "metadata": {},
   "source": [
    "# Rappel jour 3\n",
    "\n",
    "* programmation fonctionnelle\n",
    "    * décorateurs\n",
    "* paramètres des fonctions\n",
    "    * args / kwargs\n",
    "    * pas de type mutable comme paramètres par défaut d'une fonction\n",
    "* manipulation de structures de données\n",
    "* exceptions "
   ]
  },
  {
   "cell_type": "code",
   "execution_count": 2,
   "id": "94e7a754-b0ab-4792-aa80-965c21b22a20",
   "metadata": {},
   "outputs": [
    {
     "name": "stdout",
     "output_type": "stream",
     "text": [
      "*** print_tb:\n",
      "  File \"/var/folders/45/mykz63gx201cdrs_lb6qwcj80000gn/T/ipykernel_64270/4154600435.py\", line 12, in <module>\n",
      "    lumberjack()\n",
      "*** print_exception:\n",
      "Traceback (most recent call last):\n",
      "  File \"/var/folders/45/mykz63gx201cdrs_lb6qwcj80000gn/T/ipykernel_64270/4154600435.py\", line 12, in <module>\n",
      "    lumberjack()\n",
      "  File \"/var/folders/45/mykz63gx201cdrs_lb6qwcj80000gn/T/ipykernel_64270/4154600435.py\", line 6, in lumberjack\n",
      "    bright_side_of_life()\n",
      "IndexError: tuple index out of range\n",
      "*** print_exc:\n",
      "Traceback (most recent call last):\n",
      "  File \"/var/folders/45/mykz63gx201cdrs_lb6qwcj80000gn/T/ipykernel_64270/4154600435.py\", line 12, in <module>\n",
      "    lumberjack()\n",
      "  File \"/var/folders/45/mykz63gx201cdrs_lb6qwcj80000gn/T/ipykernel_64270/4154600435.py\", line 6, in lumberjack\n",
      "    bright_side_of_life()\n",
      "IndexError: tuple index out of range\n",
      "*** format_exc, first and last line:\n",
      "Traceback (most recent call last):\n",
      "IndexError: tuple index out of range\n",
      "*** format_exception:\n",
      "['Traceback (most recent call last):\\n', '  File \"/var/folders/45/mykz63gx201cdrs_lb6qwcj80000gn/T/ipykernel_64270/4154600435.py\", line 12, in <module>\\n    lumberjack()\\n', '  File \"/var/folders/45/mykz63gx201cdrs_lb6qwcj80000gn/T/ipykernel_64270/4154600435.py\", line 6, in lumberjack\\n    bright_side_of_life()\\n', '  File \"/var/folders/45/mykz63gx201cdrs_lb6qwcj80000gn/T/ipykernel_64270/4154600435.py\", line 9, in bright_side_of_life\\n    return tuple()[0]\\n           ~~~~~~~^^^\\n', 'IndexError: tuple index out of range\\n']\n",
      "*** extract_tb:\n",
      "[<FrameSummary file /var/folders/45/mykz63gx201cdrs_lb6qwcj80000gn/T/ipykernel_64270/4154600435.py, line 12 in <module>>, <FrameSummary file /var/folders/45/mykz63gx201cdrs_lb6qwcj80000gn/T/ipykernel_64270/4154600435.py, line 6 in lumberjack>, <FrameSummary file /var/folders/45/mykz63gx201cdrs_lb6qwcj80000gn/T/ipykernel_64270/4154600435.py, line 9 in bright_side_of_life>]\n",
      "*** format_tb:\n",
      "['  File \"/var/folders/45/mykz63gx201cdrs_lb6qwcj80000gn/T/ipykernel_64270/4154600435.py\", line 12, in <module>\\n    lumberjack()\\n', '  File \"/var/folders/45/mykz63gx201cdrs_lb6qwcj80000gn/T/ipykernel_64270/4154600435.py\", line 6, in lumberjack\\n    bright_side_of_life()\\n', '  File \"/var/folders/45/mykz63gx201cdrs_lb6qwcj80000gn/T/ipykernel_64270/4154600435.py\", line 9, in bright_side_of_life\\n    return tuple()[0]\\n           ~~~~~~~^^^\\n']\n",
      "*** tb_lineno: 12\n"
     ]
    }
   ],
   "source": [
    "# https://docs.python.org/3/library/traceback.html\n",
    "\n",
    "import sys, traceback\n",
    "\n",
    "def lumberjack():\n",
    "    bright_side_of_life()\n",
    "\n",
    "def bright_side_of_life():\n",
    "    return tuple()[0]\n",
    "\n",
    "try:\n",
    "    lumberjack()\n",
    "except IndexError:\n",
    "    exc = sys.exception()\n",
    "    print(\"*** print_tb:\")\n",
    "    traceback.print_tb(exc.__traceback__, limit=1, file=sys.stdout)\n",
    "    print(\"*** print_exception:\")\n",
    "    traceback.print_exception(exc, limit=2, file=sys.stdout)\n",
    "    print(\"*** print_exc:\")\n",
    "    traceback.print_exc(limit=2, file=sys.stdout)\n",
    "    print(\"*** format_exc, first and last line:\")\n",
    "    formatted_lines = traceback.format_exc().splitlines()\n",
    "    print(formatted_lines[0])\n",
    "    print(formatted_lines[-1])\n",
    "    print(\"*** format_exception:\")\n",
    "    print(repr(traceback.format_exception(exc)))\n",
    "    print(\"*** extract_tb:\")\n",
    "    print(repr(traceback.extract_tb(exc.__traceback__)))\n",
    "    print(\"*** format_tb:\")\n",
    "    print(repr(traceback.format_tb(exc.__traceback__)))\n",
    "    print(\"*** tb_lineno:\", exc.__traceback__.tb_lineno)\n"
   ]
  },
  {
   "cell_type": "markdown",
   "id": "fa54c6b2-f66e-4b67-bb58-68bebc9352b2",
   "metadata": {},
   "source": [
    "# POO "
   ]
  },
  {
   "cell_type": "code",
   "execution_count": null,
   "id": "adfdc285-3094-4a6e-99df-68489d5a8123",
   "metadata": {},
   "outputs": [],
   "source": [
    "class CastorJunior:\n",
    "    "
   ]
  }
 ],
 "metadata": {
  "kernelspec": {
   "display_name": "Python 3 (ipykernel)",
   "language": "python",
   "name": "python3"
  },
  "language_info": {
   "codemirror_mode": {
    "name": "ipython",
    "version": 3
   },
   "file_extension": ".py",
   "mimetype": "text/x-python",
   "name": "python",
   "nbconvert_exporter": "python",
   "pygments_lexer": "ipython3",
   "version": "3.12.0"
  }
 },
 "nbformat": 4,
 "nbformat_minor": 5
}
