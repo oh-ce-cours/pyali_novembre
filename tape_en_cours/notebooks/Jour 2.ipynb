{
 "cells": [
  {
   "cell_type": "markdown",
   "id": "8b915999-bcde-4786-9794-f0a3d6dad54e",
   "metadata": {},
   "source": [
    "# Rappel du Jour 1 \n",
    "\n",
    "## Matin \n",
    "\n",
    "* QCM de niveau + correction\n",
    "* discussion sur les origines / historique de python\n",
    "* `virtualenv`\n",
    "    * création : `python -m venv NOM_DU_VENV`\n",
    "    * activation :\n",
    "        * windows : `NOM_DU_VENV\\Scripts\\activate`\n",
    "        * unix : `source NOM_DU_VENV\\bin\\activate`\n",
    "    * désactivation :\n",
    "        * `deactivate`\n",
    "        * fermer le shell (les modifications de `PATH` sont uniquement pour le shell en cours)\n",
    "    * destruction : on supprime le dossier \n",
    "* intérêt des environnements virtuels :\n",
    "    * on ne peut avoir qu'une seule version d'un paquet par exécutable python\n",
    "    * les `venv` permettent de dupliquer les exécutables pour avoir un environnement isolé des autres \n",
    "* les `wheels` pour l'installation\n",
    "    * ce sont des paquets qui sont compilés pour une architecture précise (définie dans le nom du fichier)\n",
    "    * `pip` va automatiquement chercher le bon fichier (s'il existe)\n",
    "\n",
    " \n",
    "## Après-midi \n",
    "\n",
    "* bonnes pratiques et VScode\n",
    "    * linters (le collègues pointilleux) : mypy / pylint / ruff\n",
    "    * formatter : black / isort\n",
    "\n",
    "* pour répliquer un environnement virtuel, on a juste besoin du `requirements.txt`\n",
    "    * pour le créer / mettre à jour : `pip freeze > requirements.txt`\n",
    "    * pour installer : `pip install -r requirements.txt`\n",
    " * exo `fizzbuzz`\n",
    "     * `match / case` (python > 3.10)"
   ]
  },
  {
   "cell_type": "markdown",
   "id": "54b55f94-7f86-455e-a699-aa8d896932e0",
   "metadata": {},
   "source": [
    "# Types en python \n",
    "\n",
    "## scalaires\n",
    "* int / float\n",
    "* booléens\n",
    "* None\n",
    "\n",
    "## conteneurs \n",
    "\n",
    "* listes\n",
    "* string\n",
    "* dictionnaires\n",
    "* tuples\n",
    "* set "
   ]
  },
  {
   "cell_type": "markdown",
   "id": "d014c855-6635-42df-8320-d2c534168f34",
   "metadata": {},
   "source": [
    "## Vérifier des égalités d'objets \n",
    "\n",
    "* `a == b` : contenu équivalent\n",
    "* `a is b` : meme case mémoire"
   ]
  },
  {
   "cell_type": "code",
   "execution_count": 12,
   "id": "f7aa5f09-8fc6-495e-9a26-61959e5d9de3",
   "metadata": {},
   "outputs": [],
   "source": [
    "a = [1]\n",
    "b = [1]"
   ]
  },
  {
   "cell_type": "code",
   "execution_count": 16,
   "id": "3e137cf1-af08-4003-a701-073bcb8d1fbc",
   "metadata": {},
   "outputs": [
    {
     "data": {
      "text/plain": [
       "(4459333568, 4459159680)"
      ]
     },
     "execution_count": 16,
     "metadata": {},
     "output_type": "execute_result"
    }
   ],
   "source": [
    "id(a), id(b) # on cherche la case mémoire où est stockée la variable "
   ]
  },
  {
   "cell_type": "code",
   "execution_count": 20,
   "id": "66c4eda8-4362-45d4-8549-2acfa78e3156",
   "metadata": {},
   "outputs": [
    {
     "data": {
      "text/plain": [
       "<method-wrapper '__repr__' of list object at 0x109cc07c0>"
      ]
     },
     "execution_count": 20,
     "metadata": {},
     "output_type": "execute_result"
    }
   ],
   "source": [
    "a.__repr__"
   ]
  },
  {
   "cell_type": "code",
   "execution_count": 14,
   "id": "7abbfbf0-3cad-4bad-9503-0cbedd1e6c3d",
   "metadata": {},
   "outputs": [
    {
     "data": {
      "text/plain": [
       "True"
      ]
     },
     "execution_count": 14,
     "metadata": {},
     "output_type": "execute_result"
    }
   ],
   "source": [
    "a == b"
   ]
  },
  {
   "cell_type": "code",
   "execution_count": 15,
   "id": "e9932ab4-73e6-4011-95ce-d6bd842097ca",
   "metadata": {},
   "outputs": [
    {
     "data": {
      "text/plain": [
       "False"
      ]
     },
     "execution_count": 15,
     "metadata": {},
     "output_type": "execute_result"
    }
   ],
   "source": [
    "a is b"
   ]
  },
  {
   "cell_type": "code",
   "execution_count": null,
   "id": "5cf3909f-3660-41e0-bdf6-6c54597f1488",
   "metadata": {},
   "outputs": [],
   "source": []
  },
  {
   "cell_type": "markdown",
   "id": "2fd476e0-19e3-45d3-9122-b4ff2086a381",
   "metadata": {},
   "source": [
    "# Exercice\n",
    "\n",
    "## Fusion de listes \n",
    "\n",
    "On a 3 listes, on veut une fusion sans doublons\n",
    "* a = list(range(5))\n",
    "* b = list(range(3, 7))\n",
    "* c = list(range(10, 15))"
   ]
  },
  {
   "cell_type": "code",
   "execution_count": 29,
   "id": "fbdba9b9-198a-4968-b21f-669824d028b1",
   "metadata": {},
   "outputs": [
    {
     "name": "stdout",
     "output_type": "stream",
     "text": [
      "[0, 1, 2, 3, 4] [3, 4, 5, 6] [10, 11, 12, 13, 14]\n"
     ]
    }
   ],
   "source": [
    "a = list(range(5))\n",
    "b = list(range(3, 7))\n",
    "c = list(range(10, 15))\n",
    "d = list(range(2, 8))\n",
    "\n",
    "print(a, b, c)"
   ]
  },
  {
   "cell_type": "code",
   "execution_count": 32,
   "id": "16c30dd4-4cc0-411a-a858-99ec8b5a703b",
   "metadata": {},
   "outputs": [
    {
     "data": {
      "text/plain": [
       "{2, 3, 4, 5, 6}"
      ]
     },
     "execution_count": 32,
     "metadata": {},
     "output_type": "execute_result"
    }
   ],
   "source": [
    "(set(a) | set(b) | set(c)).intersection(set(d))"
   ]
  },
  {
   "cell_type": "code",
   "execution_count": 33,
   "id": "f114b7c4-6ea6-4118-bed3-a2b00e18cd37",
   "metadata": {},
   "outputs": [],
   "source": [
    "a = list(range(100_000_000))\n",
    "b = set(a)"
   ]
  },
  {
   "cell_type": "code",
   "execution_count": 36,
   "id": "5dc5496a-5312-464f-ba3b-d0c1fdec00d4",
   "metadata": {},
   "outputs": [
    {
     "name": "stdout",
     "output_type": "stream",
     "text": [
      "386 ms ± 2.21 ms per loop (mean ± std. dev. of 7 runs, 1 loop each)\n"
     ]
    }
   ],
   "source": [
    "%timeit 100_000_000 in a"
   ]
  },
  {
   "cell_type": "code",
   "execution_count": 37,
   "id": "8ec4b4b8-fbf8-4cef-854a-887a7e01f0e2",
   "metadata": {},
   "outputs": [
    {
     "name": "stdout",
     "output_type": "stream",
     "text": [
      "11.3 ns ± 0.0425 ns per loop (mean ± std. dev. of 7 runs, 100,000,000 loops each)\n"
     ]
    }
   ],
   "source": [
    "%timeit 100_000_000 in b"
   ]
  },
  {
   "cell_type": "code",
   "execution_count": 38,
   "id": "9ef2e672-2ce3-4257-bd59-0b487a5018ba",
   "metadata": {},
   "outputs": [
    {
     "name": "stdout",
     "output_type": "stream",
     "text": [
      "10.6 ns ± 0.031 ns per loop (mean ± std. dev. of 7 runs, 100,000,000 loops each)\n"
     ]
    }
   ],
   "source": [
    "%timeit 0 in a"
   ]
  },
  {
   "cell_type": "markdown",
   "id": "e09637d0-135e-4620-9a80-d11b875e32de",
   "metadata": {},
   "source": [
    "# Rappel du matin \n",
    "\n",
    "* les types de données\n",
    "* les tests unitaires\n",
    "    * on peut facilement tester les fonctions pures\n",
    "    * une fonction pure possède une sortie uniquement dépendante de son entrée (et pas de son contexte)\n",
    "* `jupyter notebook` :\n",
    "    * interpréteur python dans une page web\n",
    "    * programmation littérale (code, résultats et explications au même endroit)"
   ]
  },
  {
   "cell_type": "code",
   "execution_count": 41,
   "id": "470b0266-3761-4373-a1ad-93203aeca6ca",
   "metadata": {},
   "outputs": [
    {
     "data": {
      "text/plain": [
       "'r,i,r,i'"
      ]
     },
     "execution_count": 41,
     "metadata": {},
     "output_type": "execute_result"
    }
   ],
   "source": [
    "#[\"r\", \"i\", \"r\", \"i\"] => \"riri\"\n",
    "\",\".join([\"r\", \"i\", \"r\", \"i\"])"
   ]
  },
  {
   "cell_type": "code",
   "execution_count": 42,
   "id": "b7f313d3-c3e0-43fe-8862-e7754b907602",
   "metadata": {},
   "outputs": [
    {
     "data": {
      "text/plain": [
       "['r', 'i', 'r', 'i']"
      ]
     },
     "execution_count": 42,
     "metadata": {},
     "output_type": "execute_result"
    }
   ],
   "source": [
    "'r,i,r,i'.split(\",\")"
   ]
  },
  {
   "cell_type": "markdown",
   "id": "36f95caa-d9e2-4bf0-846a-34e68a634fa5",
   "metadata": {},
   "source": [
    "## Chaines de caractères\n",
    "\n",
    "Utiliser les `fstrings` : https://fstring.help/ "
   ]
  },
  {
   "cell_type": "code",
   "execution_count": 48,
   "id": "e997a0ed-142f-448b-a812-fba6ef5a7abb",
   "metadata": {},
   "outputs": [
    {
     "name": "stdout",
     "output_type": "stream",
     "text": [
      "1100\n"
     ]
    }
   ],
   "source": [
    "a = 12\n",
    "print(f\"{a:b}\")"
   ]
  },
  {
   "cell_type": "markdown",
   "id": "fe1f8013-ba6b-440e-b2bf-acebc41a9f3e",
   "metadata": {},
   "source": [
    "# Excercice"
   ]
  },
  {
   "cell_type": "markdown",
   "id": "02dbf365-824d-4cfa-9937-7bf0f3a29b12",
   "metadata": {},
   "source": [
    "Donner la table des fréquences de la chaine suivante : \"l’objectif de notre rendez-vous d’aujourd’hui est double. D’abord, définir la réalité de nos problèmes, sans tabou mais sans facilité non plus – qu’est-ce qui aujourd’hui, dans notre société, met en danger notre République, notre capacité à vivre ensemble ? – et vous faire part des décisions prises en conséquence qui sont le fruit d’un travail méthodique conduit depuis près de trois ans, et que nous avons, ces dernières semaines, finalisé avec le gouvernement.\""
   ]
  },
  {
   "cell_type": "code",
   "execution_count": 80,
   "id": "cc9121db-ec30-4761-ae16-701d06077b35",
   "metadata": {},
   "outputs": [],
   "source": [
    "chaine = \"\"\"Vous pouvez partager un article en cliquant sur les icônes de partage en haut à droite de celui-ci. \n",
    "La reproduction totale ou partielle d’un article, sans l’autorisation écrite et préalable du Monde, est strictement interdite. \n",
    "Pour plus d’informations, consultez nos conditions générales de vente. \n",
    "Pour toute demande d’autorisation, contactez syndication@lemonde.fr. \n",
    "\n",
    "L’objectif de notre rendez-vous d’aujourd’hui est double. D’abord, définir la réalité de nos problèmes, sans tabou mais sans facilité non plus – qu’est-ce qui aujourd’hui, dans notre société, met en danger notre République, notre capacité à vivre ensemble ? – et vous faire part des décisions prises en conséquence qui sont le fruit d’un travail méthodique conduit depuis près de trois ans, et que nous avons, ces dernières semaines, finalisé avec le gouvernement.\n",
    "\n",
    "Le problème, ce n’est pas la laïcité. Je l’ai plusieurs fois rappelé, la laïcité en République française, c’est la liberté de croire ou de ne pas croire, la possibilité d’exercer son culte à partir du moment où l’ordre public est assuré. La laïcité, c’est la neutralité de l’Etat et en aucun cas l’effacement des religions dans la société dans l’espace public. La laïcité, c’est le ciment de la France unie. Si la spiritualité relève du domaine de chacun, la laïcité est notre affaire à tous. Et donc, les républicains sincères ne doivent jamais céder à ceux qui, au nom du principe de laïcité, tentent de susciter des divisions, des confrontations à partir de multiples sujets qui, bien souvent, sont l’essentiel de nos discussions, mais pas l’essentiel du problème. En la matière, nous avons des règles, il nous faut les faire respecter fermement et justement. Partout, sans concession. De la même manière, ne nous laissons pas entraîner dans le piège de l’amalgame tendu par les polémistes et par les extrêmes qui consisterait à stigmatiser tous les musulmans. Ce piège, c’est celui que nous tendent les ennemis de la République, qui consisterait à faire de chaque citoyen de confession musulmane un allié objectif parce qu’il serait la victime d’un système bien organisé. Trop facile.\n",
    "\n",
    "Ce à quoi nous devons nous attaquer, c’est le séparatisme islamiste. C’est un projet conscient, théorisé, politico-religieux, qui se concrétise par des écarts répétés avec les valeurs de la République, qui se traduit souvent par la constitution d’une contre-société et dont les manifestations sont la déscolarisation des enfants, le développement de pratiques sportives, culturelles, communautarisées qui sont le prétexte pour l’enseignement de principes qui ne sont pas conformes aux lois de la République. C’est l’endoctrinement et, par celui-ci, la négation de nos principes, l’égalité entre les femmes et les hommes, la dignité humaine.\n",
    "\n",
    "Le problème, c’est cette idéologie, qui affirme que ses lois propres sont supérieures à celles de la République. Et je l’ai souvent dit, je ne demande à aucun de nos citoyens de croire ou de ne pas croire, de croire un peu ou modérément, ça n’est pas l’affaire de la République, mais je demande à tout citoyen, quelle que soit sa religion ou pas, de respecter absolument toutes les lois de la République. Et il y a dans cet islamisme radical, puisque c’est le cœur du sujet, abordons-le et nommons-le, une volonté revendiquée, affichée, une organisation méthodique pour contrevenir aux lois de la République et créer un ordre parallèle, ériger d’autres valeurs, développer une autre organisation de la société, séparatiste dans un premier temps, mais dont le but final est de prendre le contrôle, complet celui-ci. Et c’est ce qui fait qu’on en vient ainsi progressivement à rejeter la liberté d’expression, la liberté de conscience, le droit au blasphème. Qu’insidieusement, on conduit à se radicaliser. (…)\n",
    "\n",
    "Mais en disant tout cela, en rappelant chacune de ces étapes, si je puis dire, qui n’est pas un chemin univoque ni une fatalité, je veux qu’il n’y ait aucune confusion ni aucun amalgame. Aucune de ces réalités ne doit être écrasée l’une sur l’autre. Mais force est de constater qu’il y a un islamisme radical qui conduit à nier les lois de la République, qui conduit à banaliser la violence et qui a conduit certains de nos citoyens, de nos enfants à choisir le pire ou à considérer que le pire était devenu naturel, et donc à créer des conditions de dérives politiques mais aussi de dérives violentes, celles du terrorisme islamiste. Ce qui est aujourd’hui notre défi, c’est de lutter contre la dérive de certains au nom de la religion en veillant à ce que ne soient pas visés ceux qui veulent croire en l’islam et sont pleinement citoyens de notre République. Et au fond, depuis des années, nous sommes encombrés par cette réalité.\n",
    "\n",
    "Voulez-vous dire les choses et considérer que des millions de nos citoyens vivent dans la République comme citoyens pleins et entiers et croient dans l’islam ? On vous dit : vous êtes naïfs, vous les couvrez, vous ne regardez pas le problème en face. Voulons-nous répondre à ces dérives que j’évoque, y compris dans leurs formes les plus radicales ? On tombe dans le piège de stigmatiser toute une religion. Le chemin, c’est celui que je viens de tracer. Isoler le problème, celui de l’islamisme radical, savoir que chacune de ces étapes peut mécaniquement entretenir l’autre, et donc ne céder à aucune facilité, aucun cynisme, dire les choses et accepter aussi que nous sommes face à un défi qui a mis des décennies à se constituer dans notre pays et que nous ne le terrasserons pas en un jour. Mais c’est ensemble que nous devons dans un réveil républicain nous opposer à ceux qui veulent nous séparer.\n",
    "\n",
    "Beaucoup de choses ont été écrites, décrites, analysées très profondément sur ce que notre pays vit à cet égard. J’aurai l’humilité de ne pas me prétendre un spécialiste, mais en quelques mots partager les choses telles que je les vois. L’isl am est une religion qui vit une crise, aujourd’hui, partout dans le monde. Nous ne le voyons pas que dans notre pays, c’est une crise profonde qui est liée à des tensions entre des fondamentalismes, des projets justement religieux et politiques qui, on le voit dans toutes les régions du monde, conduisent à un durcissement très fort, y compris dans des pays où l’islam est la religion majoritaire. Regardez notre amie la Tunisie, pour ne citer que cet exemple. Il y a trente ans, la situation était radicalement différente dans l’application de cette religion, la manière de la vivre, et les tensions que nous vivons dans notre société sont présentes dans celle-ci qui est sans doute l’une des plus éduquées, développées de la région.\n",
    "\n",
    "Il y a donc une crise de l’islam, partout, qui est gangrené par ces formes radicales, par ces tentations radicales et par une aspiration à un djihad réinventé, qui est la destruction de l’autre. Le projet de califat territorial contre lequel nous avons lutté au Levant, contre lequel nous luttons au Sahel, mais partout, des formes plus ou moins insidieuses, les plus radicales. Cette crise nous touche par définition aussi.\n",
    "\n",
    "A cela s’ajoutent les influences extérieures et une organisation méthodique de pouvoirs\n",
    "politiques, d’organisations privées qui ont poussé ces formes les plus radicales. Il faut bien dire que nous avons laissé faire, chez nous comme à l’étranger. Wahhabisme, salafisme, Frères musulmans, beaucoup de ces formes étaient au début d’ailleurs pacifiques pour certaines. Elles ont progressivement dégénéré dans leur expression. Elles se sont elles-mêmes radicalisées. Elles ont porté des messages de rupture, un projet politique, une radicalité dans la négation par exemple de l’égalité femmes-hommes, et par des financements extérieurs, par un endoctrinement venant de l’extérieur, elles ont atteint notre territoire dans son intimité. Cette réalité nous touche, nous frappe. Elle a grandi ces dernières années. Il faut la nommer.\n",
    "\n",
    "A cela s’ajoute le terreau sur lequel tout ce que je viens de décrire s’est établi. Nous avons nous-mêmes construit notre propre séparatisme. C’est celui de nos quartiers, c’est la ghettoïsation que notre République, avec initialement les meilleures intentions du monde, mais a laissé faire, c’est-à-dire que nous avons eu une politique, on a parfois appelé ça une politique de peuplement, mais nous avons construit une concentration de la misère et des difficultés, et nous le savons très bien. Nous avons concentré les populations souvent en fonction de leurs origines, de leurs milieux sociaux. Nous avons concentré les difficultés éducatives et économiques dans certains quartiers de la République. Nous avons… Malgré les efforts des élus, des préfets de la République dont je salue l’engagement, nous n’avons pas pu, à cause justement de cela, recréer suffisamment de mixité, et surtout, nous n’avons pas réussi à aller aussi vite que ce phénomène en termes de mobilité éducative et sociale. Nous avons créé ainsi des quartiers où la promesse de la République n’a plus été tenue, et donc des quartiers où l’attraction de ces messages, où ces formes les plus radicales qui étaient sources d’espoir, qui apportaient et qui apportent, soyons lucides, des solutions pour éduquer les enfants, apprendre la langue d’origine, s’occuper des personnes âgées, fournir des services, permettre de faire du sport. Au fond, ce que la République n’a plus apporté parce qu’elle était submergée par ses propres difficultés, parce que, parfois, elle avait reculé en termes de services publics, ces organisations, porteuses de cet islam radical, s’y sont méthodiquement substituées. Et donc sur nos reculs, parfois nos lâchetés, ils ont construit leur projet, méthodiquement là aussi. C’est pourquoi les insuffisances de notre politique d’intégration, de nos luttes contre la discrimination, du racisme comme de l’antisémitisme, l’un nourrissant l’autre, ont aussi progressivement favorisé ce développement.\n",
    "\n",
    "S’ajoute à tout cela le fait que nous sommes un pays qui a un passé colonial et qui a des traumatismes qu’il n’a toujours pas réglés avec des faits qui sont fondateurs dans notre psyché collective, dans notre projet, dans notre manière de nous voir. La guerre d’Algérie en fait partie et, au fond, toute cette période de notre histoire est revue comme à rebours, parce que nous n’avons jamais déplié les choses nous-mêmes. Et donc nous voyons des enfants de la République, parfois d’ailleurs, enfants ou petits-enfants de citoyens aujourd’hui issus de l’immigration et venus du Maghreb, de l’Afrique subsaharienne, revisiter leur identité par un discours postcolonial ou anticolonial.\n",
    "\n",
    "Nous voyons des enfants dans la République qui n’ont jamais connu la colonisation, dont les parents sont sur notre sol et les grands-parents depuis longtemps, mais qui tombent dans le piège, là aussi méthodique, de certains autres qui utilisent ce discours, cette forme de haine de soi que la République devrait nourrir contre elle-même, mais aussi de tabous que nous avons nous-mêmes entretenus et, faisant miroiter leurs origines avec notre histoire, nourrissent aussi ce séparatisme. Je distingue chacun de ces éléments méthodiquement, mais ils se mélangent tous dans la réalité de nos vies. Ils se mélangent tous, et se nourrissent les uns des autres. Et le projet politique, d’ailleurs – c’est pour cela que je l’ai appelé séparatisme islamiste parce qu’il s’émancipe parfois même de la stricte religion dans un projet conçu – eh bien mélange toutes ces réalités, mais elles sont là.\n",
    "\n",
    "Il nous faut donc affronter avec beaucoup de détermination et de force les formes inacceptables et radicales aujourd’hui, à court terme. Il nous faut reconquérir tout ce que la République a laissé faire et qui a conduit une partie de notre jeunesse ou de nos citoyens à être attirés par cet islam radical. Et il nous faut aussi revenir sur nos propres traumatismes et nos propres insuffisances pour en quelque sorte ouvrir ce livre. Et je le dis parce que c’est tout cela qu’il nous faut tenir ensemble, si nous avons un discours réducteur, nous enverrons un message simple à toute la jeunesse des quartiers : « Nous ne vous aimons pas. Vous n’avez pas de place dans la République. Filer vers chez eux. »\n",
    "\n",
    "Si nous avons un message naïf, nous laisserons aussi filer toute une partie de notre République qui nous dira : « Ils ne savent pas s’attaquer aux problèmes de mon quotidien. J’en vis les conséquences. Je vois l’école qui ferme à côté de chez moi, les pratiques, l’association, les psalmodieurs. » Il nous faut traiter les deux tout à la fois en dépliant chacun des points que je viens d’évoquer. C’est une action qui commence aujourd’hui et c’est une action tous ensemble que nous devrons mener et qui prendra des années et des années. (…) Notre réponse doit être plus large, puissante, répondre aux problèmes concrets observés sur le terrain. Et la réponse passe par des mesures d’ordre public, elle passe aussi par des mesures de réengagement de la République.\n",
    "\"\"\"\n",
    "chaine = chaine.replace(\".\", \"\").replace(\",\", \"\").replace(\"\\n\", \"\")\n",
    "chaine = chaine.split(\" \")"
   ]
  },
  {
   "cell_type": "code",
   "execution_count": 84,
   "id": "32f5ad4f-f4c9-4b57-99b2-7b2d18b8fe8d",
   "metadata": {},
   "outputs": [],
   "source": [
    "# technique 1 (sans dictionnaires)\n",
    "import pprint\n",
    "\n",
    "def technique1(chaine):\n",
    "    res = []\n",
    "    lettres_parcourues = []\n",
    "    for lettre in set(chaine):\n",
    "        if lettre in lettres_parcourues:\n",
    "            continue \n",
    "            \n",
    "        res.append(chaine.count(lettre))\n",
    "        lettres_parcourues.append(lettre)\n",
    "\n",
    "    # pprint.pprint(list(zip(lettres_parcourues, res)))"
   ]
  },
  {
   "cell_type": "code",
   "execution_count": 82,
   "id": "b75e04b5-9316-4e64-823b-124a912674df",
   "metadata": {},
   "outputs": [
    {
     "name": "stdout",
     "output_type": "stream",
     "text": [
      "{'Vous': 2, 'pouvez': 1, 'partager': 2, 'un': 23, 'article': 2, 'en': 20, 'cliquant': 1, 'sur': 8, 'les': 40, 'icônes': 1, 'de': 108, 'partage': 1, 'haut': 1, 'à': 39, 'droite': 1, 'celui-ci': 3, 'La': 4, 'reproduction': 1, 'totale': 1, 'ou': 10, 'partielle': 1, 'd’un': 3, 'sans': 5, 'l’autorisation': 1, 'écrite': 1, 'et': 45, 'préalable': 1, 'du': 12, 'Monde': 1, 'est': 14, 'strictement': 1, 'interdite': 1, 'Pour': 2, 'plus': 11, 'd’informations': 1, 'consultez': 1, 'nos': 16, 'conditions': 2, 'générales': 1, 'vente': 1, 'toute': 5, 'demande': 3, 'd’autorisation': 1, 'contactez': 1, 'syndication@lemondefr': 1, 'L’objectif': 1, 'notre': 24, 'rendez-vous': 1, 'd’aujourd’hui': 1, 'double': 1, 'D’abord': 1, 'définir': 1, 'la': 62, 'réalité': 3, 'problèmes': 3, 'tabou': 1, 'mais': 13, 'facilité': 2, 'non': 1, '–': 4, 'qu’est-ce': 1, 'qui': 41, 'aujourd’hui': 6, 'dans': 31, 'société': 4, 'met': 1, 'danger': 1, 'République': 24, 'capacité': 1, 'vivre': 2, 'ensemble\\xa0?': 1, 'vous': 6, 'faire': 7, 'part': 1, 'des': 38, 'décisions': 1, 'prises': 1, 'conséquence': 1, 'sont': 13, 'le': 27, 'fruit': 1, 'travail': 1, 'méthodique': 4, 'conduit': 6, 'depuis': 3, 'près': 1, 'trois': 1, 'ans': 2, 'que': 34, 'nous': 42, 'avons': 13, 'ces': 15, 'dernières': 2, 'semaines': 1, 'finalisé': 1, 'avec': 6, 'gouvernementLe': 1, 'problème': 5, 'ce': 12, 'n’est': 3, 'pas': 20, 'laïcité': 6, 'Je': 3, 'l’ai': 3, 'plusieurs': 1, 'fois': 2, 'rappelé': 1, 'française': 1, 'c’est': 16, 'liberté': 3, 'croire': 6, 'ne': 16, 'possibilité': 1, 'd’exercer': 1, 'son': 2, 'culte': 1, 'partir': 2, 'moment': 1, 'où': 5, 'l’ordre': 1, 'public': 3, 'assuré': 1, 'neutralité': 1, 'l’Etat': 1, 'aucun': 4, 'cas': 1, 'l’effacement': 1, 'religions': 1, 'l’espace': 1, 'ciment': 1, 'France': 1, 'unie': 1, 'Si': 1, 'spiritualité': 1, 'relève': 1, 'domaine': 1, 'chacun': 3, 'affaire': 1, 'tous': 5, 'Et': 11, 'donc': 8, 'républicains': 1, 'sincères': 1, 'doivent': 1, 'jamais': 3, 'céder': 2, 'ceux': 3, 'au': 8, 'nom': 2, 'principe': 1, 'tentent': 1, 'susciter': 1, 'divisions': 1, 'confrontations': 1, 'multiples': 1, 'sujets': 1, 'bien': 5, 'souvent': 4, 'l’essentiel': 2, 'discussions': 1, 'En': 1, 'matière': 1, 'règles': 1, 'il': 3, 'faut': 8, 'respecter': 2, 'fermement': 1, 'justement': 3, 'Partout': 1, 'concession': 1, 'De': 1, 'même': 2, 'manière': 3, 'laissons': 1, 'entraîner': 1, 'piège': 4, 'l’amalgame': 1, 'tendu': 1, 'par': 18, 'polémistes': 1, 'extrêmes': 1, 'consisterait': 2, 'stigmatiser': 2, 'musulmans': 2, 'Ce': 2, 'celui': 4, 'tendent': 1, 'ennemis': 1, 'chaque': 1, 'citoyen': 2, 'confession': 1, 'musulmane': 1, 'allié': 1, 'objectif': 1, 'parce': 6, 'qu’il': 6, 'serait': 1, 'victime': 1, 'système': 1, 'organisé': 1, 'Trop': 1, 'facileCe': 1, 'quoi': 1, 'devons': 2, 'attaquer': 1, 'séparatisme': 4, 'islamiste': 3, 'C’est': 5, 'projet': 7, 'conscient': 1, 'théorisé': 1, 'politico-religieux': 1, 'se': 8, 'concrétise': 1, 'écarts': 1, 'répétés': 1, 'valeurs': 2, 'traduit': 1, 'constitution': 1, 'd’une': 1, 'contre-société': 1, 'dont': 4, 'manifestations': 1, 'déscolarisation': 1, 'enfants': 6, 'développement': 1, 'pratiques': 2, 'sportives': 1, 'culturelles': 1, 'communautarisées': 1, 'prétexte': 1, 'pour': 7, 'l’enseignement': 1, 'principes': 2, 'conformes': 1, 'aux': 4, 'lois': 5, 'l’endoctrinement': 1, 'négation': 2, 'l’égalité': 2, 'entre': 2, 'femmes': 1, 'hommes': 1, 'dignité': 1, 'humaineLe': 1, 'cette': 5, 'idéologie': 1, 'affirme': 1, 'ses': 2, 'propres': 4, 'supérieures': 1, 'celles': 2, 'je': 12, 'dit': 1, 'citoyens': 7, 'peu': 1, 'modérément': 1, 'ça': 2, 'l’affaire': 1, 'tout': 7, 'quelle': 1, 'soit': 1, 'sa': 1, 'religion': 7, 'absolument': 1, 'toutes': 3, 'y': 6, 'a': 13, 'cet': 5, 'islamisme': 2, 'radical': 5, 'puisque': 1, 'cœur': 1, 'sujet': 1, 'abordons-le': 1, 'nommons-le': 1, 'une': 19, 'volonté': 1, 'revendiquée': 1, 'affichée': 1, 'organisation': 3, 'contrevenir': 1, 'créer': 2, 'ordre': 1, 'parallèle': 1, 'ériger': 1, 'd’autres': 1, 'développer': 1, 'autre': 1, 'séparatiste': 1, 'premier': 1, 'temps': 1, 'but': 1, 'final': 1, 'prendre': 1, 'contrôle': 1, 'complet': 1, 'fait': 3, 'qu’on': 1, 'vient': 1, 'ainsi': 2, 'progressivement': 3, 'rejeter': 1, 'd’expression': 1, 'conscience': 1, 'droit': 1, 'blasphème': 1, 'Qu’insidieusement': 1, 'on': 3, 'radicaliser': 1, '(…)Mais': 1, 'disant': 1, 'cela': 7, 'rappelant': 1, 'chacune': 2, 'étapes': 2, 'si': 2, 'puis': 1, 'dire': 4, 'chemin': 2, 'univoque': 1, 'ni': 2, 'fatalité': 1, 'veux': 1, 'n’y': 1, 'ait': 1, 'aucune': 2, 'confusion': 1, 'amalgame': 1, 'Aucune': 1, 'réalités': 2, 'doit': 2, 'être': 3, 'écrasée': 1, 'l’une': 2, 'l’autre': 4, 'Mais': 2, 'force': 2, 'constater': 1, 'nier': 1, 'banaliser': 1, 'violence': 1, 'certains': 4, 'choisir': 1, 'pire': 2, 'considérer': 2, 'était': 3, 'devenu': 1, 'naturel': 1, 'dérives': 3, 'politiques': 2, 'aussi': 11, 'violentes': 1, 'terrorisme': 1, 'défi': 2, 'lutter': 1, 'contre': 5, 'dérive': 1, 'veillant': 1, 'soient': 1, 'visés': 1, 'veulent': 2, 'l’islam': 3, 'pleinement': 1, 'fond': 3, 'années': 4, 'sommes': 3, 'encombrés': 1, 'réalitéVoulez-vous': 1, 'choses': 5, 'millions': 1, 'vivent': 1, 'comme': 4, 'pleins': 1, 'entiers': 1, 'croient': 1, 'l’islam\\xa0?': 1, 'On': 2, 'dit\\xa0:': 1, 'êtes': 1, 'naïfs': 1, 'couvrez': 1, 'regardez': 1, 'face': 2, 'Voulons-nous': 1, 'répondre': 2, 'j’évoque': 1, 'compris': 2, 'leurs': 4, 'formes': 7, 'radicales\\xa0?': 1, 'tombe': 1, 'Le': 2, 'viens': 3, 'tracer': 1, 'Isoler': 1, 'l’islamisme': 1, 'savoir': 1, 'peut': 1, 'mécaniquement': 1, 'entretenir': 1, 'cynisme': 1, 'accepter': 1, 'mis': 1, 'décennies': 1, 'constituer': 1, 'pays': 5, 'terrasserons': 1, 'jour': 1, 'ensemble': 3, 'réveil': 1, 'républicain': 1, 'opposer': 1, 'séparerBeaucoup': 1, 'ont': 7, 'été': 2, 'écrites': 1, 'décrites': 1, 'analysées': 1, 'très': 3, 'profondément': 1, 'vit': 2, 'égard': 1, 'J’aurai': 1, 'l’humilité': 1, 'me': 1, 'prétendre': 1, 'spécialiste': 1, 'quelques': 1, 'mots': 1, 'telles': 1, 'vois': 2, 'L’isl': 1, 'am': 1, 'crise': 4, 'partout': 3, 'monde': 3, 'Nous': 6, 'voyons': 3, 'profonde': 1, 'liée': 1, 'tensions': 2, 'fondamentalismes': 1, 'projets': 1, 'religieux': 1, 'voit': 1, 'régions': 1, 'conduisent': 1, 'durcissement': 1, 'fort': 1, 'majoritaire': 1, 'Regardez': 1, 'amie': 1, 'Tunisie': 1, 'citer': 1, 'exemple': 2, 'Il': 5, 'trente': 1, 'situation': 1, 'radicalement': 1, 'différente': 1, 'l’application': 1, 'vivons': 1, 'présentes': 1, 'celle-ci': 1, 'doute': 1, 'éduquées': 1, 'développées': 1, 'régionIl': 1, 'gangrené': 1, 'radicales': 6, 'tentations': 1, 'aspiration': 1, 'djihad': 1, 'réinventé': 1, 'destruction': 1, 'califat': 1, 'territorial': 1, 'lequel': 3, 'lutté': 1, 'Levant': 1, 'luttons': 1, 'Sahel': 1, 'moins': 1, 'insidieuses': 1, 'Cette': 2, 'touche': 2, 'définition': 1, 'aussiA': 1, 's’ajoutent': 1, 'influences': 1, 'extérieures': 1, 'pouvoirspolitiques': 1, 'd’organisations': 1, 'privées': 1, 'poussé': 1, 'laissé': 3, 'chez': 3, 'l’étranger': 1, 'Wahhabisme': 1, 'salafisme': 1, 'Frères': 1, 'beaucoup': 2, 'étaient': 2, 'début': 1, 'd’ailleurs': 3, 'pacifiques': 1, 'certaines': 1, 'Elles': 3, 'dégénéré': 1, 'leur': 3, 'expression': 1, 'elles-mêmes': 1, 'radicalisées': 1, 'porté': 1, 'messages': 2, 'rupture': 1, 'politique': 5, 'radicalité': 1, 'femmes-hommes': 1, 'financements': 1, 'extérieurs': 1, 'endoctrinement': 1, 'venant': 1, 'l’extérieur': 1, 'elles': 2, 'atteint': 1, 'territoire': 1, 'intimité': 1, 'frappe': 1, 'Elle': 1, 'grandi': 1, 'nommerA': 1, 's’ajoute': 1, 'terreau': 1, 'décrire': 1, 's’est': 1, 'établi': 1, 'nous-mêmes': 3, 'construit': 3, 'propre': 1, 'quartiers': 4, 'ghettoïsation': 1, 'initialement': 1, 'meilleures': 1, 'intentions': 1, 'c’est-à-dire': 1, 'eu': 1, 'parfois': 5, 'appelé': 2, 'peuplement': 1, 'concentration': 1, 'misère': 1, 'difficultés': 3, 'savons': 1, 'concentré': 2, 'populations': 1, 'fonction': 1, 'origines': 2, 'milieux': 1, 'sociaux': 1, 'éducatives': 1, 'économiques': 1, 'avons…': 1, 'Malgré': 1, 'efforts': 1, 'élus': 1, 'préfets': 1, 'salue': 1, 'l’engagement': 1, 'n’avons': 3, 'pu': 1, 'cause': 1, 'recréer': 1, 'suffisamment': 1, 'mixité': 1, 'surtout': 1, 'réussi': 1, 'aller': 1, 'vite': 1, 'phénomène': 1, 'termes': 2, 'mobilité': 1, 'éducative': 1, 'sociale': 1, 'créé': 1, 'promesse': 1, 'n’a': 3, 'tenue': 1, 'l’attraction': 1, 'sources': 1, 'd’espoir': 1, 'apportaient': 1, 'apportent': 1, 'soyons': 1, 'lucides': 1, 'solutions': 1, 'éduquer': 1, 'apprendre': 1, 'langue': 1, 'd’origine': 1, 's’occuper': 1, 'personnes': 1, 'âgées': 1, 'fournir': 1, 'services': 2, 'permettre': 1, 'sport': 1, 'Au': 1, 'apporté': 1, 'qu’elle': 1, 'submergée': 1, 'elle': 2, 'avait': 1, 'reculé': 1, 'publics': 1, 'organisations': 1, 'porteuses': 1, 'islam': 2, 's’y': 1, 'méthodiquement': 3, 'substituées': 1, 'reculs': 1, 'lâchetés': 1, 'ils': 2, 'là': 2, 'pourquoi': 1, 'insuffisances': 2, 'd’intégration': 1, 'luttes': 1, 'discrimination': 1, 'racisme': 1, 'l’antisémitisme': 1, 'l’un': 1, 'nourrissant': 1, 'favorisé': 1, 'développementS’ajoute': 1, 'passé': 1, 'colonial': 1, 'traumatismes': 2, 'toujours': 1, 'réglés': 1, 'faits': 1, 'fondateurs': 1, 'psyché': 1, 'collective': 1, 'voir': 1, 'guerre': 1, 'd’Algérie': 1, 'partie': 3, 'période': 1, 'histoire': 2, 'revue': 1, 'rebours': 1, 'déplié': 1, 'petits-enfants': 1, 'issus': 1, 'l’immigration': 1, 'venus': 1, 'Maghreb': 1, 'l’Afrique': 1, 'subsaharienne': 1, 'revisiter': 1, 'identité': 1, 'discours': 3, 'postcolonial': 1, 'anticolonialNous': 1, 'n’ont': 1, 'connu': 1, 'colonisation': 1, 'parents': 1, 'sol': 1, 'grands-parents': 1, 'longtemps': 1, 'tombent': 1, 'autres': 2, 'utilisent': 1, 'forme': 1, 'haine': 1, 'soi': 1, 'devrait': 1, 'nourrir': 1, 'elle-même': 1, 'tabous': 1, 'entretenus': 1, 'faisant': 1, 'miroiter': 1, 'nourrissent': 2, 'distingue': 1, 'éléments': 1, 'mélangent': 2, 'vies': 1, 'Ils': 1, 'uns': 1, 's’émancipe': 1, 'stricte': 1, 'conçu': 1, 'eh': 1, 'mélange': 1, 'làIl': 1, 'affronter': 1, 'détermination': 1, 'inacceptables': 1, 'court': 1, 'terme': 1, 'reconquérir': 1, 'jeunesse': 2, 'attirés': 1, 'revenir': 1, 'quelque': 1, 'sorte': 1, 'ouvrir': 1, 'livre': 1, 'dis': 1, 'tenir': 1, 'réducteur': 1, 'enverrons': 1, 'message': 2, 'simple': 1, 'quartiers\\xa0:': 1, '«\\xa0Nous': 1, 'aimons': 1, 'n’avez': 1, 'place': 1, 'Filer': 1, 'vers': 1, 'eux\\xa0»Si': 1, 'naïf': 1, 'laisserons': 1, 'filer': 1, 'dira\\xa0:': 1, '«\\xa0Ils': 1, 'savent': 1, 's’attaquer': 1, 'mon': 1, 'quotidien': 1, 'J’en': 1, 'vis': 1, 'conséquences': 1, 'l’école': 1, 'ferme': 1, 'côté': 1, 'moi': 1, 'l’association': 1, 'psalmodieurs\\xa0»': 1, 'traiter': 1, 'deux': 1, 'dépliant': 1, 'points': 1, 'd’évoquer': 1, 'action': 2, 'commence': 1, 'devrons': 1, 'mener': 1, 'prendra': 1, '(…)': 1, 'Notre': 1, 'réponse': 2, 'large': 1, 'puissante': 1, 'concrets': 1, 'observés': 1, 'terrain': 1, 'passe': 2, 'mesures': 2, 'd’ordre': 1, 'réengagement': 1}\n"
     ]
    }
   ],
   "source": [
    "# technique 2 (avec dicos)\n",
    "def technique2(chaine):\n",
    "    res = {}\n",
    "    for lettre in chaine:\n",
    "        if lettre not in res:\n",
    "            res[lettre] = 0\n",
    "        res[lettre] += 1\n",
    "    \n",
    "    print(res)"
   ]
  },
  {
   "cell_type": "code",
   "execution_count": 83,
   "id": "d1ad4315-9bbd-4b3b-8687-c1232db82e44",
   "metadata": {},
   "outputs": [
    {
     "name": "stdout",
     "output_type": "stream",
     "text": [
      "Counter({'de': 108, 'la': 62, 'et': 45, 'nous': 42, 'qui': 41, 'les': 40, 'à': 39, 'des': 38, 'que': 34, 'dans': 31, 'le': 27, 'notre': 24, 'République': 24, 'un': 23, 'en': 20, 'pas': 20, 'une': 19, 'par': 18, 'nos': 16, 'c’est': 16, 'ne': 16, 'ces': 15, 'est': 14, 'mais': 13, 'sont': 13, 'avons': 13, 'a': 13, 'du': 12, 'ce': 12, 'je': 12, 'plus': 11, 'Et': 11, 'aussi': 11, 'ou': 10, 'sur': 8, 'donc': 8, 'au': 8, 'faut': 8, 'se': 8, 'faire': 7, 'projet': 7, 'pour': 7, 'citoyens': 7, 'tout': 7, 'religion': 7, 'cela': 7, 'formes': 7, 'ont': 7, 'aujourd’hui': 6, 'vous': 6, 'conduit': 6, 'avec': 6, 'laïcité': 6, 'croire': 6, 'parce': 6, 'qu’il': 6, 'enfants': 6, 'y': 6, 'Nous': 6, 'radicales': 6, 'sans': 5, 'toute': 5, 'problème': 5, 'où': 5, 'tous': 5, 'bien': 5, 'C’est': 5, 'lois': 5, 'cette': 5, 'cet': 5, 'radical': 5, 'contre': 5, 'choses': 5, 'pays': 5, 'Il': 5, 'politique': 5, 'parfois': 5, 'La': 4, '–': 4, 'société': 4, 'méthodique': 4, 'aucun': 4, 'souvent': 4, 'piège': 4, 'celui': 4, 'séparatisme': 4, 'dont': 4, 'aux': 4, 'propres': 4, 'dire': 4, 'l’autre': 4, 'certains': 4, 'années': 4, 'comme': 4, 'leurs': 4, 'crise': 4, 'quartiers': 4, 'celui-ci': 3, 'd’un': 3, 'demande': 3, 'réalité': 3, 'problèmes': 3, 'depuis': 3, 'n’est': 3, 'Je': 3, 'l’ai': 3, 'liberté': 3, 'public': 3, 'chacun': 3, 'jamais': 3, 'ceux': 3, 'il': 3, 'justement': 3, 'manière': 3, 'islamiste': 3, 'toutes': 3, 'organisation': 3, 'fait': 3, 'progressivement': 3, 'on': 3, 'être': 3, 'était': 3, 'dérives': 3, 'l’islam': 3, 'fond': 3, 'sommes': 3, 'viens': 3, 'ensemble': 3, 'très': 3, 'partout': 3, 'monde': 3, 'voyons': 3, 'lequel': 3, 'laissé': 3, 'chez': 3, 'd’ailleurs': 3, 'Elles': 3, 'leur': 3, 'nous-mêmes': 3, 'construit': 3, 'difficultés': 3, 'n’avons': 3, 'n’a': 3, 'méthodiquement': 3, 'partie': 3, 'discours': 3, 'Vous': 2, 'partager': 2, 'article': 2, 'Pour': 2, 'conditions': 2, 'facilité': 2, 'vivre': 2, 'ans': 2, 'dernières': 2, 'fois': 2, 'son': 2, 'partir': 2, 'céder': 2, 'nom': 2, 'l’essentiel': 2, 'respecter': 2, 'même': 2, 'consisterait': 2, 'stigmatiser': 2, 'musulmans': 2, 'Ce': 2, 'citoyen': 2, 'devons': 2, 'valeurs': 2, 'pratiques': 2, 'principes': 2, 'négation': 2, 'l’égalité': 2, 'entre': 2, 'ses': 2, 'celles': 2, 'ça': 2, 'islamisme': 2, 'créer': 2, 'ainsi': 2, 'chacune': 2, 'étapes': 2, 'si': 2, 'chemin': 2, 'ni': 2, 'aucune': 2, 'réalités': 2, 'doit': 2, 'l’une': 2, 'Mais': 2, 'force': 2, 'pire': 2, 'considérer': 2, 'politiques': 2, 'défi': 2, 'veulent': 2, 'On': 2, 'face': 2, 'répondre': 2, 'compris': 2, 'Le': 2, 'été': 2, 'vit': 2, 'vois': 2, 'tensions': 2, 'exemple': 2, 'Cette': 2, 'touche': 2, 'beaucoup': 2, 'étaient': 2, 'messages': 2, 'elles': 2, 'appelé': 2, 'concentré': 2, 'origines': 2, 'termes': 2, 'services': 2, 'elle': 2, 'islam': 2, 'ils': 2, 'là': 2, 'insuffisances': 2, 'traumatismes': 2, 'histoire': 2, 'autres': 2, 'nourrissent': 2, 'mélangent': 2, 'jeunesse': 2, 'message': 2, 'action': 2, 'réponse': 2, 'passe': 2, 'mesures': 2, 'pouvez': 1, 'cliquant': 1, 'icônes': 1, 'partage': 1, 'haut': 1, 'droite': 1, 'reproduction': 1, 'totale': 1, 'partielle': 1, 'l’autorisation': 1, 'écrite': 1, 'préalable': 1, 'Monde': 1, 'strictement': 1, 'interdite': 1, 'd’informations': 1, 'consultez': 1, 'générales': 1, 'vente': 1, 'd’autorisation': 1, 'contactez': 1, 'syndication@lemondefr': 1, 'L’objectif': 1, 'rendez-vous': 1, 'd’aujourd’hui': 1, 'double': 1, 'D’abord': 1, 'définir': 1, 'tabou': 1, 'non': 1, 'qu’est-ce': 1, 'met': 1, 'danger': 1, 'capacité': 1, 'ensemble\\xa0?': 1, 'part': 1, 'décisions': 1, 'prises': 1, 'conséquence': 1, 'fruit': 1, 'travail': 1, 'près': 1, 'trois': 1, 'semaines': 1, 'finalisé': 1, 'gouvernementLe': 1, 'plusieurs': 1, 'rappelé': 1, 'française': 1, 'possibilité': 1, 'd’exercer': 1, 'culte': 1, 'moment': 1, 'l’ordre': 1, 'assuré': 1, 'neutralité': 1, 'l’Etat': 1, 'cas': 1, 'l’effacement': 1, 'religions': 1, 'l’espace': 1, 'ciment': 1, 'France': 1, 'unie': 1, 'Si': 1, 'spiritualité': 1, 'relève': 1, 'domaine': 1, 'affaire': 1, 'républicains': 1, 'sincères': 1, 'doivent': 1, 'principe': 1, 'tentent': 1, 'susciter': 1, 'divisions': 1, 'confrontations': 1, 'multiples': 1, 'sujets': 1, 'discussions': 1, 'En': 1, 'matière': 1, 'règles': 1, 'fermement': 1, 'Partout': 1, 'concession': 1, 'De': 1, 'laissons': 1, 'entraîner': 1, 'l’amalgame': 1, 'tendu': 1, 'polémistes': 1, 'extrêmes': 1, 'tendent': 1, 'ennemis': 1, 'chaque': 1, 'confession': 1, 'musulmane': 1, 'allié': 1, 'objectif': 1, 'serait': 1, 'victime': 1, 'système': 1, 'organisé': 1, 'Trop': 1, 'facileCe': 1, 'quoi': 1, 'attaquer': 1, 'conscient': 1, 'théorisé': 1, 'politico-religieux': 1, 'concrétise': 1, 'écarts': 1, 'répétés': 1, 'traduit': 1, 'constitution': 1, 'd’une': 1, 'contre-société': 1, 'manifestations': 1, 'déscolarisation': 1, 'développement': 1, 'sportives': 1, 'culturelles': 1, 'communautarisées': 1, 'prétexte': 1, 'l’enseignement': 1, 'conformes': 1, 'l’endoctrinement': 1, 'femmes': 1, 'hommes': 1, 'dignité': 1, 'humaineLe': 1, 'idéologie': 1, 'affirme': 1, 'supérieures': 1, 'dit': 1, 'peu': 1, 'modérément': 1, 'l’affaire': 1, 'quelle': 1, 'soit': 1, 'sa': 1, 'absolument': 1, 'puisque': 1, 'cœur': 1, 'sujet': 1, 'abordons-le': 1, 'nommons-le': 1, 'volonté': 1, 'revendiquée': 1, 'affichée': 1, 'contrevenir': 1, 'ordre': 1, 'parallèle': 1, 'ériger': 1, 'd’autres': 1, 'développer': 1, 'autre': 1, 'séparatiste': 1, 'premier': 1, 'temps': 1, 'but': 1, 'final': 1, 'prendre': 1, 'contrôle': 1, 'complet': 1, 'qu’on': 1, 'vient': 1, 'rejeter': 1, 'd’expression': 1, 'conscience': 1, 'droit': 1, 'blasphème': 1, 'Qu’insidieusement': 1, 'radicaliser': 1, '(…)Mais': 1, 'disant': 1, 'rappelant': 1, 'puis': 1, 'univoque': 1, 'fatalité': 1, 'veux': 1, 'n’y': 1, 'ait': 1, 'confusion': 1, 'amalgame': 1, 'Aucune': 1, 'écrasée': 1, 'constater': 1, 'nier': 1, 'banaliser': 1, 'violence': 1, 'choisir': 1, 'devenu': 1, 'naturel': 1, 'violentes': 1, 'terrorisme': 1, 'lutter': 1, 'dérive': 1, 'veillant': 1, 'soient': 1, 'visés': 1, 'pleinement': 1, 'encombrés': 1, 'réalitéVoulez-vous': 1, 'millions': 1, 'vivent': 1, 'pleins': 1, 'entiers': 1, 'croient': 1, 'l’islam\\xa0?': 1, 'dit\\xa0:': 1, 'êtes': 1, 'naïfs': 1, 'couvrez': 1, 'regardez': 1, 'Voulons-nous': 1, 'j’évoque': 1, 'radicales\\xa0?': 1, 'tombe': 1, 'tracer': 1, 'Isoler': 1, 'l’islamisme': 1, 'savoir': 1, 'peut': 1, 'mécaniquement': 1, 'entretenir': 1, 'cynisme': 1, 'accepter': 1, 'mis': 1, 'décennies': 1, 'constituer': 1, 'terrasserons': 1, 'jour': 1, 'réveil': 1, 'républicain': 1, 'opposer': 1, 'séparerBeaucoup': 1, 'écrites': 1, 'décrites': 1, 'analysées': 1, 'profondément': 1, 'égard': 1, 'J’aurai': 1, 'l’humilité': 1, 'me': 1, 'prétendre': 1, 'spécialiste': 1, 'quelques': 1, 'mots': 1, 'telles': 1, 'L’isl': 1, 'am': 1, 'profonde': 1, 'liée': 1, 'fondamentalismes': 1, 'projets': 1, 'religieux': 1, 'voit': 1, 'régions': 1, 'conduisent': 1, 'durcissement': 1, 'fort': 1, 'majoritaire': 1, 'Regardez': 1, 'amie': 1, 'Tunisie': 1, 'citer': 1, 'trente': 1, 'situation': 1, 'radicalement': 1, 'différente': 1, 'l’application': 1, 'vivons': 1, 'présentes': 1, 'celle-ci': 1, 'doute': 1, 'éduquées': 1, 'développées': 1, 'régionIl': 1, 'gangrené': 1, 'tentations': 1, 'aspiration': 1, 'djihad': 1, 'réinventé': 1, 'destruction': 1, 'califat': 1, 'territorial': 1, 'lutté': 1, 'Levant': 1, 'luttons': 1, 'Sahel': 1, 'moins': 1, 'insidieuses': 1, 'définition': 1, 'aussiA': 1, 's’ajoutent': 1, 'influences': 1, 'extérieures': 1, 'pouvoirspolitiques': 1, 'd’organisations': 1, 'privées': 1, 'poussé': 1, 'l’étranger': 1, 'Wahhabisme': 1, 'salafisme': 1, 'Frères': 1, 'début': 1, 'pacifiques': 1, 'certaines': 1, 'dégénéré': 1, 'expression': 1, 'elles-mêmes': 1, 'radicalisées': 1, 'porté': 1, 'rupture': 1, 'radicalité': 1, 'femmes-hommes': 1, 'financements': 1, 'extérieurs': 1, 'endoctrinement': 1, 'venant': 1, 'l’extérieur': 1, 'atteint': 1, 'territoire': 1, 'intimité': 1, 'frappe': 1, 'Elle': 1, 'grandi': 1, 'nommerA': 1, 's’ajoute': 1, 'terreau': 1, 'décrire': 1, 's’est': 1, 'établi': 1, 'propre': 1, 'ghettoïsation': 1, 'initialement': 1, 'meilleures': 1, 'intentions': 1, 'c’est-à-dire': 1, 'eu': 1, 'peuplement': 1, 'concentration': 1, 'misère': 1, 'savons': 1, 'populations': 1, 'fonction': 1, 'milieux': 1, 'sociaux': 1, 'éducatives': 1, 'économiques': 1, 'avons…': 1, 'Malgré': 1, 'efforts': 1, 'élus': 1, 'préfets': 1, 'salue': 1, 'l’engagement': 1, 'pu': 1, 'cause': 1, 'recréer': 1, 'suffisamment': 1, 'mixité': 1, 'surtout': 1, 'réussi': 1, 'aller': 1, 'vite': 1, 'phénomène': 1, 'mobilité': 1, 'éducative': 1, 'sociale': 1, 'créé': 1, 'promesse': 1, 'tenue': 1, 'l’attraction': 1, 'sources': 1, 'd’espoir': 1, 'apportaient': 1, 'apportent': 1, 'soyons': 1, 'lucides': 1, 'solutions': 1, 'éduquer': 1, 'apprendre': 1, 'langue': 1, 'd’origine': 1, 's’occuper': 1, 'personnes': 1, 'âgées': 1, 'fournir': 1, 'permettre': 1, 'sport': 1, 'Au': 1, 'apporté': 1, 'qu’elle': 1, 'submergée': 1, 'avait': 1, 'reculé': 1, 'publics': 1, 'organisations': 1, 'porteuses': 1, 's’y': 1, 'substituées': 1, 'reculs': 1, 'lâchetés': 1, 'pourquoi': 1, 'd’intégration': 1, 'luttes': 1, 'discrimination': 1, 'racisme': 1, 'l’antisémitisme': 1, 'l’un': 1, 'nourrissant': 1, 'favorisé': 1, 'développementS’ajoute': 1, 'passé': 1, 'colonial': 1, 'toujours': 1, 'réglés': 1, 'faits': 1, 'fondateurs': 1, 'psyché': 1, 'collective': 1, 'voir': 1, 'guerre': 1, 'd’Algérie': 1, 'période': 1, 'revue': 1, 'rebours': 1, 'déplié': 1, 'petits-enfants': 1, 'issus': 1, 'l’immigration': 1, 'venus': 1, 'Maghreb': 1, 'l’Afrique': 1, 'subsaharienne': 1, 'revisiter': 1, 'identité': 1, 'postcolonial': 1, 'anticolonialNous': 1, 'n’ont': 1, 'connu': 1, 'colonisation': 1, 'parents': 1, 'sol': 1, 'grands-parents': 1, 'longtemps': 1, 'tombent': 1, 'utilisent': 1, 'forme': 1, 'haine': 1, 'soi': 1, 'devrait': 1, 'nourrir': 1, 'elle-même': 1, 'tabous': 1, 'entretenus': 1, 'faisant': 1, 'miroiter': 1, 'distingue': 1, 'éléments': 1, 'vies': 1, 'Ils': 1, 'uns': 1, 's’émancipe': 1, 'stricte': 1, 'conçu': 1, 'eh': 1, 'mélange': 1, 'làIl': 1, 'affronter': 1, 'détermination': 1, 'inacceptables': 1, 'court': 1, 'terme': 1, 'reconquérir': 1, 'attirés': 1, 'revenir': 1, 'quelque': 1, 'sorte': 1, 'ouvrir': 1, 'livre': 1, 'dis': 1, 'tenir': 1, 'réducteur': 1, 'enverrons': 1, 'simple': 1, 'quartiers\\xa0:': 1, '«\\xa0Nous': 1, 'aimons': 1, 'n’avez': 1, 'place': 1, 'Filer': 1, 'vers': 1, 'eux\\xa0»Si': 1, 'naïf': 1, 'laisserons': 1, 'filer': 1, 'dira\\xa0:': 1, '«\\xa0Ils': 1, 'savent': 1, 's’attaquer': 1, 'mon': 1, 'quotidien': 1, 'J’en': 1, 'vis': 1, 'conséquences': 1, 'l’école': 1, 'ferme': 1, 'côté': 1, 'moi': 1, 'l’association': 1, 'psalmodieurs\\xa0»': 1, 'traiter': 1, 'deux': 1, 'dépliant': 1, 'points': 1, 'd’évoquer': 1, 'commence': 1, 'devrons': 1, 'mener': 1, 'prendra': 1, '(…)': 1, 'Notre': 1, 'large': 1, 'puissante': 1, 'concrets': 1, 'observés': 1, 'terrain': 1, 'd’ordre': 1, 'réengagement': 1})\n"
     ]
    }
   ],
   "source": [
    "# technique 3\n",
    "\n",
    "import collections\n",
    "\n",
    "print(collections.Counter(chaine))"
   ]
  },
  {
   "cell_type": "code",
   "execution_count": null,
   "id": "bb5bc243-fd04-4eb9-a07e-c69fce9e69cf",
   "metadata": {},
   "outputs": [],
   "source": []
  },
  {
   "cell_type": "code",
   "execution_count": null,
   "id": "45a617f8-116c-46c9-9bcd-1d635843015e",
   "metadata": {},
   "outputs": [],
   "source": []
  },
  {
   "cell_type": "code",
   "execution_count": null,
   "id": "270a5da3-e701-4b0f-b0d3-9cd4eb5ac053",
   "metadata": {},
   "outputs": [],
   "source": []
  },
  {
   "cell_type": "code",
   "execution_count": null,
   "id": "3f6e22f4-4279-4f3b-a6cb-187f4d320eeb",
   "metadata": {},
   "outputs": [],
   "source": []
  }
 ],
 "metadata": {
  "kernelspec": {
   "display_name": "Python 3 (ipykernel)",
   "language": "python",
   "name": "python3"
  },
  "language_info": {
   "codemirror_mode": {
    "name": "ipython",
    "version": 3
   },
   "file_extension": ".py",
   "mimetype": "text/x-python",
   "name": "python",
   "nbconvert_exporter": "python",
   "pygments_lexer": "ipython3",
   "version": "3.12.0"
  }
 },
 "nbformat": 4,
 "nbformat_minor": 5
}
