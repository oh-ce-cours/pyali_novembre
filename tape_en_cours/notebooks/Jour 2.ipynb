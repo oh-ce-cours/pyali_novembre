{
 "cells": [
  {
   "cell_type": "markdown",
   "id": "8b915999-bcde-4786-9794-f0a3d6dad54e",
   "metadata": {},
   "source": [
    "# Rappel du Jour 1 \n",
    "\n",
    "## Matin \n",
    "\n",
    "* QCM de niveau + correction\n",
    "* discussion sur les origines / historique de python\n",
    "* `virtualenv`\n",
    "    * création : `python -m venv NOM_DU_VENV`\n",
    "    * activation :\n",
    "        * windows : `NOM_DU_VENV\\Scripts\\activate`\n",
    "        * unix : `source NOM_DU_VENV\\bin\\activate`\n",
    "    * désactivation :\n",
    "        * `deactivate`\n",
    "        * fermer le shell (les modifications de `PATH` sont uniquement pour le shell en cours)\n",
    "    * destruction : on supprime le dossier \n",
    "* intérêt des environnements virtuels :\n",
    "    * on ne peut avoir qu'une seule version d'un paquet par exécutable python\n",
    "    * les `venv` permettent de dupliquer les exécutables pour avoir un environnement isolé des autres \n",
    "* les `wheels` pour l'installation\n",
    "    * ce sont des paquets qui sont compilés pour une architecture précise (définie dans le nom du fichier)\n",
    "    * `pip` va automatiquement chercher le bon fichier (s'il existe)\n",
    "\n",
    " \n",
    "## Après-midi \n",
    "\n",
    "* bonnes pratiques et VScode\n",
    "    * linters (le collègues pointilleux) : mypy / pylint / ruff\n",
    "    * formatter : black / isort\n",
    "\n",
    "* pour répliquer un environnement virtuel, on a juste besoin du `requirements.txt`\n",
    "    * pour le créer / mettre à jour : `pip freeze > requirements.txt`\n",
    "    * pour installer : `pip install -r requirements.txt`\n",
    " * exo `fizzbuzz`\n",
    "     * `match / case` (python > 3.10)"
   ]
  },
  {
   "cell_type": "markdown",
   "id": "54b55f94-7f86-455e-a699-aa8d896932e0",
   "metadata": {},
   "source": [
    "# Types en python \n",
    "\n",
    "* int / float\n",
    "* string\n",
    "* booléens\n",
    "* None"
   ]
  },
  {
   "cell_type": "code",
   "execution_count": 1,
   "id": "8ba15c66-8023-44e5-97fc-37b5b4294874",
   "metadata": {},
   "outputs": [
    {
     "data": {
      "text/plain": [
       "NoneType"
      ]
     },
     "execution_count": 1,
     "metadata": {},
     "output_type": "execute_result"
    }
   ],
   "source": [
    "type(None)"
   ]
  },
  {
   "cell_type": "code",
   "execution_count": null,
   "id": "f7aa5f09-8fc6-495e-9a26-61959e5d9de3",
   "metadata": {},
   "outputs": [],
   "source": []
  }
 ],
 "metadata": {
  "kernelspec": {
   "display_name": "Python 3 (ipykernel)",
   "language": "python",
   "name": "python3"
  },
  "language_info": {
   "codemirror_mode": {
    "name": "ipython",
    "version": 3
   },
   "file_extension": ".py",
   "mimetype": "text/x-python",
   "name": "python",
   "nbconvert_exporter": "python",
   "pygments_lexer": "ipython3",
   "version": "3.12.0"
  }
 },
 "nbformat": 4,
 "nbformat_minor": 5
}
