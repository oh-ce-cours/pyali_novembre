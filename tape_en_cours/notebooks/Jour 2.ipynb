{
 "cells": [
  {
   "cell_type": "markdown",
   "id": "8b915999-bcde-4786-9794-f0a3d6dad54e",
   "metadata": {},
   "source": [
    "# Rappel du Jour 1 \n",
    "\n",
    "## Matin \n",
    "\n",
    "* QCM de niveau + correction\n",
    "* discussion sur les origines / historique de python\n",
    "* `virtualenv`\n",
    "    * création : `python -m venv NOM_DU_VENV`\n",
    "    * activation :\n",
    "        * windows : `NOM_DU_VENV\\Scripts\\activate`\n",
    "        * unix : `source NOM_DU_VENV\\bin\\activate`\n",
    "    * désactivation :\n",
    "        * `deactivate`\n",
    "        * fermer le shell (les modifications de `PATH` sont uniquement pour le shell en cours)\n",
    "    * destruction : on supprime le dossier \n",
    "* intérêt des environnements virtuels :\n",
    "    * on ne peut avoir qu'une seule version d'un paquet par exécutable python\n",
    "    * les `venv` permettent de dupliquer les exécutables pour avoir un environnement isolé des autres \n",
    "* les `wheels` pour l'installation\n",
    "    * ce sont des paquets qui sont compilés pour une architecture précise (définie dans le nom du fichier)\n",
    "    * `pip` va automatiquement chercher le bon fichier (s'il existe)\n",
    "\n",
    " \n",
    "## Après-midi \n",
    "\n",
    "* bonnes pratiques et VScode\n",
    "    * linters (le collègues pointilleux) : mypy / pylint / ruff\n",
    "    * formatter : black / isort\n",
    "\n",
    "* pour répliquer un environnement virtuel, on a juste besoin du `requirements.txt`\n",
    "    * pour le créer / mettre à jour : `pip freeze > requirements.txt`\n",
    "    * pour installer : `pip install -r requirements.txt`\n",
    " * exo `fizzbuzz`\n",
    "     * `match / case` (python > 3.10)"
   ]
  },
  {
   "cell_type": "markdown",
   "id": "54b55f94-7f86-455e-a699-aa8d896932e0",
   "metadata": {},
   "source": [
    "# Types en python \n",
    "\n",
    "## scalaires\n",
    "* int / float\n",
    "* booléens\n",
    "* None\n",
    "\n",
    "## conteneurs \n",
    "\n",
    "* listes\n",
    "* string\n",
    "* dictionnaires\n",
    "* tuples\n",
    "* set "
   ]
  },
  {
   "cell_type": "markdown",
   "id": "d014c855-6635-42df-8320-d2c534168f34",
   "metadata": {},
   "source": [
    "## Vérifier des égalités d'objets \n",
    "\n",
    "* `a == b` : contenu équivalent\n",
    "* `a is b` : meme case mémoire"
   ]
  },
  {
   "cell_type": "code",
   "execution_count": 12,
   "id": "f7aa5f09-8fc6-495e-9a26-61959e5d9de3",
   "metadata": {},
   "outputs": [],
   "source": [
    "a = [1]\n",
    "b = [1]"
   ]
  },
  {
   "cell_type": "code",
   "execution_count": 16,
   "id": "3e137cf1-af08-4003-a701-073bcb8d1fbc",
   "metadata": {},
   "outputs": [
    {
     "data": {
      "text/plain": [
       "(4459333568, 4459159680)"
      ]
     },
     "execution_count": 16,
     "metadata": {},
     "output_type": "execute_result"
    }
   ],
   "source": [
    "id(a), id(b) # on cherche la case mémoire où est stockée la variable "
   ]
  },
  {
   "cell_type": "code",
   "execution_count": 20,
   "id": "66c4eda8-4362-45d4-8549-2acfa78e3156",
   "metadata": {},
   "outputs": [
    {
     "data": {
      "text/plain": [
       "<method-wrapper '__repr__' of list object at 0x109cc07c0>"
      ]
     },
     "execution_count": 20,
     "metadata": {},
     "output_type": "execute_result"
    }
   ],
   "source": [
    "a.__repr__"
   ]
  },
  {
   "cell_type": "code",
   "execution_count": 14,
   "id": "7abbfbf0-3cad-4bad-9503-0cbedd1e6c3d",
   "metadata": {},
   "outputs": [
    {
     "data": {
      "text/plain": [
       "True"
      ]
     },
     "execution_count": 14,
     "metadata": {},
     "output_type": "execute_result"
    }
   ],
   "source": [
    "a == b"
   ]
  },
  {
   "cell_type": "code",
   "execution_count": 15,
   "id": "e9932ab4-73e6-4011-95ce-d6bd842097ca",
   "metadata": {},
   "outputs": [
    {
     "data": {
      "text/plain": [
       "False"
      ]
     },
     "execution_count": 15,
     "metadata": {},
     "output_type": "execute_result"
    }
   ],
   "source": [
    "a is b"
   ]
  },
  {
   "cell_type": "code",
   "execution_count": null,
   "id": "5cf3909f-3660-41e0-bdf6-6c54597f1488",
   "metadata": {},
   "outputs": [],
   "source": []
  },
  {
   "cell_type": "markdown",
   "id": "2fd476e0-19e3-45d3-9122-b4ff2086a381",
   "metadata": {},
   "source": [
    "# Exercice\n",
    "\n",
    "## Fusion de listes \n",
    "\n",
    "On a 3 listes, on veut une fusion sans doublons\n",
    "* a = list(range(5))\n",
    "* b = list(range(3, 7))\n",
    "* c = list(range(10, 15))"
   ]
  },
  {
   "cell_type": "code",
   "execution_count": 29,
   "id": "fbdba9b9-198a-4968-b21f-669824d028b1",
   "metadata": {},
   "outputs": [
    {
     "name": "stdout",
     "output_type": "stream",
     "text": [
      "[0, 1, 2, 3, 4] [3, 4, 5, 6] [10, 11, 12, 13, 14]\n"
     ]
    }
   ],
   "source": [
    "a = list(range(5))\n",
    "b = list(range(3, 7))\n",
    "c = list(range(10, 15))\n",
    "d = list(range(2, 8))\n",
    "\n",
    "print(a, b, c)"
   ]
  },
  {
   "cell_type": "code",
   "execution_count": 32,
   "id": "16c30dd4-4cc0-411a-a858-99ec8b5a703b",
   "metadata": {},
   "outputs": [
    {
     "data": {
      "text/plain": [
       "{2, 3, 4, 5, 6}"
      ]
     },
     "execution_count": 32,
     "metadata": {},
     "output_type": "execute_result"
    }
   ],
   "source": [
    "(set(a) | set(b) | set(c)).intersection(set(d))"
   ]
  },
  {
   "cell_type": "code",
   "execution_count": 33,
   "id": "f114b7c4-6ea6-4118-bed3-a2b00e18cd37",
   "metadata": {},
   "outputs": [],
   "source": [
    "a = list(range(100_000_000))\n",
    "b = set(a)"
   ]
  },
  {
   "cell_type": "code",
   "execution_count": 36,
   "id": "5dc5496a-5312-464f-ba3b-d0c1fdec00d4",
   "metadata": {},
   "outputs": [
    {
     "name": "stdout",
     "output_type": "stream",
     "text": [
      "386 ms ± 2.21 ms per loop (mean ± std. dev. of 7 runs, 1 loop each)\n"
     ]
    }
   ],
   "source": [
    "%timeit 100_000_000 in a"
   ]
  },
  {
   "cell_type": "code",
   "execution_count": 37,
   "id": "8ec4b4b8-fbf8-4cef-854a-887a7e01f0e2",
   "metadata": {},
   "outputs": [
    {
     "name": "stdout",
     "output_type": "stream",
     "text": [
      "11.3 ns ± 0.0425 ns per loop (mean ± std. dev. of 7 runs, 100,000,000 loops each)\n"
     ]
    }
   ],
   "source": [
    "%timeit 100_000_000 in b"
   ]
  },
  {
   "cell_type": "code",
   "execution_count": 38,
   "id": "9ef2e672-2ce3-4257-bd59-0b487a5018ba",
   "metadata": {},
   "outputs": [
    {
     "name": "stdout",
     "output_type": "stream",
     "text": [
      "10.6 ns ± 0.031 ns per loop (mean ± std. dev. of 7 runs, 100,000,000 loops each)\n"
     ]
    }
   ],
   "source": [
    "%timeit 0 in a"
   ]
  },
  {
   "cell_type": "markdown",
   "id": "e09637d0-135e-4620-9a80-d11b875e32de",
   "metadata": {},
   "source": [
    "# Rappel du matin \n",
    "\n",
    "* les types de données\n",
    "* les tests unitaires\n",
    "    * on peut facilement tester les fonctions pures\n",
    "    * une fonction pure possède une sortie uniquement dépendante de son entrée (et pas de son contexte)\n",
    "* `jupyter notebook` :\n",
    "    * interpréteur python dans une page web\n",
    "    * programmation littérale (code, résultats et explications au même endroit)"
   ]
  },
  {
   "cell_type": "code",
   "execution_count": 41,
   "id": "470b0266-3761-4373-a1ad-93203aeca6ca",
   "metadata": {},
   "outputs": [
    {
     "data": {
      "text/plain": [
       "'r,i,r,i'"
      ]
     },
     "execution_count": 41,
     "metadata": {},
     "output_type": "execute_result"
    }
   ],
   "source": [
    "#[\"r\", \"i\", \"r\", \"i\"] => \"riri\"\n",
    "\",\".join([\"r\", \"i\", \"r\", \"i\"])"
   ]
  },
  {
   "cell_type": "code",
   "execution_count": 42,
   "id": "b7f313d3-c3e0-43fe-8862-e7754b907602",
   "metadata": {},
   "outputs": [
    {
     "data": {
      "text/plain": [
       "['r', 'i', 'r', 'i']"
      ]
     },
     "execution_count": 42,
     "metadata": {},
     "output_type": "execute_result"
    }
   ],
   "source": [
    "'r,i,r,i'.split(\",\")"
   ]
  },
  {
   "cell_type": "markdown",
   "id": "36f95caa-d9e2-4bf0-846a-34e68a634fa5",
   "metadata": {},
   "source": [
    "## Chaines de caractères\n",
    "\n",
    "Utiliser les `fstrings` : https://fstring.help/ "
   ]
  },
  {
   "cell_type": "code",
   "execution_count": 48,
   "id": "e997a0ed-142f-448b-a812-fba6ef5a7abb",
   "metadata": {},
   "outputs": [
    {
     "name": "stdout",
     "output_type": "stream",
     "text": [
      "1100\n"
     ]
    }
   ],
   "source": [
    "a = 12\n",
    "print(f\"{a:b}\")"
   ]
  },
  {
   "cell_type": "markdown",
   "id": "fe1f8013-ba6b-440e-b2bf-acebc41a9f3e",
   "metadata": {},
   "source": [
    "# Excercice"
   ]
  },
  {
   "cell_type": "markdown",
   "id": "02dbf365-824d-4cfa-9937-7bf0f3a29b12",
   "metadata": {},
   "source": [
    "Donner la table des fréquences de la chaine suivante : \"l’objectif de notre rendez-vous d’aujourd’hui est double. D’abord, définir la réalité de nos problèmes, sans tabou mais sans facilité non plus – qu’est-ce qui aujourd’hui, dans notre société, met en danger notre République, notre capacité à vivre ensemble ? – et vous faire part des décisions prises en conséquence qui sont le fruit d’un travail méthodique conduit depuis près de trois ans, et que nous avons, ces dernières semaines, finalisé avec le gouvernement.\""
   ]
  },
  {
   "cell_type": "code",
   "execution_count": 80,
   "id": "cc9121db-ec30-4761-ae16-701d06077b35",
   "metadata": {},
   "outputs": [],
   "source": [
    "chaine = \"\"\"Vous pouvez partager un article en cliquant sur les icônes de partage en haut à droite de celui-ci. \n",
    "La reproduction totale ou partielle d’un article, sans l’autorisation écrite et préalable du Monde, est strictement interdite. \n",
    "Pour plus d’informations, consultez nos conditions générales de vente. \n",
    "Pour toute demande d’autorisation, contactez syndication@lemonde.fr. \n",
    "\n",
    "L’objectif de notre rendez-vous d’aujourd’hui est double. D’abord, définir la réalité de nos problèmes, sans tabou mais sans facilité non plus – qu’est-ce qui aujourd’hui, dans notre société, met en danger notre République, notre capacité à vivre ensemble ? – et vous faire part des décisions prises en conséquence qui sont le fruit d’un travail méthodique conduit depuis près de trois ans, et que nous avons, ces dernières semaines, finalisé avec le gouvernement.\n",
    "\n",
    "Le problème, ce n’est pas la laïcité. Je l’ai plusieurs fois rappelé, la laïcité en République française, c’est la liberté de croire ou de ne pas croire, la possibilité d’exercer son culte à partir du moment où l’ordre public est assuré. La laïcité, c’est la neutralité de l’Etat et en aucun cas l’effacement des religions dans la société dans l’espace public. La laïcité, c’est le ciment de la France unie. Si la spiritualité relève du domaine de chacun, la laïcité est notre affaire à tous. Et donc, les républicains sincères ne doivent jamais céder à ceux qui, au nom du principe de laïcité, tentent de susciter des divisions, des confrontations à partir de multiples sujets qui, bien souvent, sont l’essentiel de nos discussions, mais pas l’essentiel du problème. En la matière, nous avons des règles, il nous faut les faire respecter fermement et justement. Partout, sans concession. De la même manière, ne nous laissons pas entraîner dans le piège de l’amalgame tendu par les polémistes et par les extrêmes qui consisterait à stigmatiser tous les musulmans. Ce piège, c’est celui que nous tendent les ennemis de la République, qui consisterait à faire de chaque citoyen de confession musulmane un allié objectif parce qu’il serait la victime d’un système bien organisé. Trop facile.\n",
    "\n",
    "Ce à quoi nous devons nous attaquer, c’est le séparatisme islamiste. C’est un projet conscient, théorisé, politico-religieux, qui se concrétise par des écarts répétés avec les valeurs de la République, qui se traduit souvent par la constitution d’une contre-société et dont les manifestations sont la déscolarisation des enfants, le développement de pratiques sportives, culturelles, communautarisées qui sont le prétexte pour l’enseignement de principes qui ne sont pas conformes aux lois de la République. C’est l’endoctrinement et, par celui-ci, la négation de nos principes, l’égalité entre les femmes et les hommes, la dignité humaine.\n",
    "\n",
    "Le problème, c’est cette idéologie, qui affirme que ses lois propres sont supérieures à celles de la République. Et je l’ai souvent dit, je ne demande à aucun de nos citoyens de croire ou de ne pas croire, de croire un peu ou modérément, ça n’est pas l’affaire de la République, mais je demande à tout citoyen, quelle que soit sa religion ou pas, de respecter absolument toutes les lois de la République. Et il y a dans cet islamisme radical, puisque c’est le cœur du sujet, abordons-le et nommons-le, une volonté revendiquée, affichée, une organisation méthodique pour contrevenir aux lois de la République et créer un ordre parallèle, ériger d’autres valeurs, développer une autre organisation de la société, séparatiste dans un premier temps, mais dont le but final est de prendre le contrôle, complet celui-ci. Et c’est ce qui fait qu’on en vient ainsi progressivement à rejeter la liberté d’expression, la liberté de conscience, le droit au blasphème. Qu’insidieusement, on conduit à se radicaliser. (…)\n",
    "\n",
    "Mais en disant tout cela, en rappelant chacune de ces étapes, si je puis dire, qui n’est pas un chemin univoque ni une fatalité, je veux qu’il n’y ait aucune confusion ni aucun amalgame. Aucune de ces réalités ne doit être écrasée l’une sur l’autre. Mais force est de constater qu’il y a un islamisme radical qui conduit à nier les lois de la République, qui conduit à banaliser la violence et qui a conduit certains de nos citoyens, de nos enfants à choisir le pire ou à considérer que le pire était devenu naturel, et donc à créer des conditions de dérives politiques mais aussi de dérives violentes, celles du terrorisme islamiste. Ce qui est aujourd’hui notre défi, c’est de lutter contre la dérive de certains au nom de la religion en veillant à ce que ne soient pas visés ceux qui veulent croire en l’islam et sont pleinement citoyens de notre République. Et au fond, depuis des années, nous sommes encombrés par cette réalité.\n",
    "\n",
    "Voulez-vous dire les choses et considérer que des millions de nos citoyens vivent dans la République comme citoyens pleins et entiers et croient dans l’islam ? On vous dit : vous êtes naïfs, vous les couvrez, vous ne regardez pas le problème en face. Voulons-nous répondre à ces dérives que j’évoque, y compris dans leurs formes les plus radicales ? On tombe dans le piège de stigmatiser toute une religion. Le chemin, c’est celui que je viens de tracer. Isoler le problème, celui de l’islamisme radical, savoir que chacune de ces étapes peut mécaniquement entretenir l’autre, et donc ne céder à aucune facilité, aucun cynisme, dire les choses et accepter aussi que nous sommes face à un défi qui a mis des décennies à se constituer dans notre pays et que nous ne le terrasserons pas en un jour. Mais c’est ensemble que nous devons dans un réveil républicain nous opposer à ceux qui veulent nous séparer.\n",
    "\n",
    "Beaucoup de choses ont été écrites, décrites, analysées très profondément sur ce que notre pays vit à cet égard. J’aurai l’humilité de ne pas me prétendre un spécialiste, mais en quelques mots partager les choses telles que je les vois. L’isl am est une religion qui vit une crise, aujourd’hui, partout dans le monde. Nous ne le voyons pas que dans notre pays, c’est une crise profonde qui est liée à des tensions entre des fondamentalismes, des projets justement religieux et politiques qui, on le voit dans toutes les régions du monde, conduisent à un durcissement très fort, y compris dans des pays où l’islam est la religion majoritaire. Regardez notre amie la Tunisie, pour ne citer que cet exemple. Il y a trente ans, la situation était radicalement différente dans l’application de cette religion, la manière de la vivre, et les tensions que nous vivons dans notre société sont présentes dans celle-ci qui est sans doute l’une des plus éduquées, développées de la région.\n",
    "\n",
    "Il y a donc une crise de l’islam, partout, qui est gangrené par ces formes radicales, par ces tentations radicales et par une aspiration à un djihad réinventé, qui est la destruction de l’autre. Le projet de califat territorial contre lequel nous avons lutté au Levant, contre lequel nous luttons au Sahel, mais partout, des formes plus ou moins insidieuses, les plus radicales. Cette crise nous touche par définition aussi.\n",
    "\n",
    "A cela s’ajoutent les influences extérieures et une organisation méthodique de pouvoirs\n",
    "politiques, d’organisations privées qui ont poussé ces formes les plus radicales. Il faut bien dire que nous avons laissé faire, chez nous comme à l’étranger. Wahhabisme, salafisme, Frères musulmans, beaucoup de ces formes étaient au début d’ailleurs pacifiques pour certaines. Elles ont progressivement dégénéré dans leur expression. Elles se sont elles-mêmes radicalisées. Elles ont porté des messages de rupture, un projet politique, une radicalité dans la négation par exemple de l’égalité femmes-hommes, et par des financements extérieurs, par un endoctrinement venant de l’extérieur, elles ont atteint notre territoire dans son intimité. Cette réalité nous touche, nous frappe. Elle a grandi ces dernières années. Il faut la nommer.\n",
    "\n",
    "A cela s’ajoute le terreau sur lequel tout ce que je viens de décrire s’est établi. Nous avons nous-mêmes construit notre propre séparatisme. C’est celui de nos quartiers, c’est la ghettoïsation que notre République, avec initialement les meilleures intentions du monde, mais a laissé faire, c’est-à-dire que nous avons eu une politique, on a parfois appelé ça une politique de peuplement, mais nous avons construit une concentration de la misère et des difficultés, et nous le savons très bien. Nous avons concentré les populations souvent en fonction de leurs origines, de leurs milieux sociaux. Nous avons concentré les difficultés éducatives et économiques dans certains quartiers de la République. Nous avons… Malgré les efforts des élus, des préfets de la République dont je salue l’engagement, nous n’avons pas pu, à cause justement de cela, recréer suffisamment de mixité, et surtout, nous n’avons pas réussi à aller aussi vite que ce phénomène en termes de mobilité éducative et sociale. Nous avons créé ainsi des quartiers où la promesse de la République n’a plus été tenue, et donc des quartiers où l’attraction de ces messages, où ces formes les plus radicales qui étaient sources d’espoir, qui apportaient et qui apportent, soyons lucides, des solutions pour éduquer les enfants, apprendre la langue d’origine, s’occuper des personnes âgées, fournir des services, permettre de faire du sport. Au fond, ce que la République n’a plus apporté parce qu’elle était submergée par ses propres difficultés, parce que, parfois, elle avait reculé en termes de services publics, ces organisations, porteuses de cet islam radical, s’y sont méthodiquement substituées. Et donc sur nos reculs, parfois nos lâchetés, ils ont construit leur projet, méthodiquement là aussi. C’est pourquoi les insuffisances de notre politique d’intégration, de nos luttes contre la discrimination, du racisme comme de l’antisémitisme, l’un nourrissant l’autre, ont aussi progressivement favorisé ce développement.\n",
    "\n",
    "S’ajoute à tout cela le fait que nous sommes un pays qui a un passé colonial et qui a des traumatismes qu’il n’a toujours pas réglés avec des faits qui sont fondateurs dans notre psyché collective, dans notre projet, dans notre manière de nous voir. La guerre d’Algérie en fait partie et, au fond, toute cette période de notre histoire est revue comme à rebours, parce que nous n’avons jamais déplié les choses nous-mêmes. Et donc nous voyons des enfants de la République, parfois d’ailleurs, enfants ou petits-enfants de citoyens aujourd’hui issus de l’immigration et venus du Maghreb, de l’Afrique subsaharienne, revisiter leur identité par un discours postcolonial ou anticolonial.\n",
    "\n",
    "Nous voyons des enfants dans la République qui n’ont jamais connu la colonisation, dont les parents sont sur notre sol et les grands-parents depuis longtemps, mais qui tombent dans le piège, là aussi méthodique, de certains autres qui utilisent ce discours, cette forme de haine de soi que la République devrait nourrir contre elle-même, mais aussi de tabous que nous avons nous-mêmes entretenus et, faisant miroiter leurs origines avec notre histoire, nourrissent aussi ce séparatisme. Je distingue chacun de ces éléments méthodiquement, mais ils se mélangent tous dans la réalité de nos vies. Ils se mélangent tous, et se nourrissent les uns des autres. Et le projet politique, d’ailleurs – c’est pour cela que je l’ai appelé séparatisme islamiste parce qu’il s’émancipe parfois même de la stricte religion dans un projet conçu – eh bien mélange toutes ces réalités, mais elles sont là.\n",
    "\n",
    "Il nous faut donc affronter avec beaucoup de détermination et de force les formes inacceptables et radicales aujourd’hui, à court terme. Il nous faut reconquérir tout ce que la République a laissé faire et qui a conduit une partie de notre jeunesse ou de nos citoyens à être attirés par cet islam radical. Et il nous faut aussi revenir sur nos propres traumatismes et nos propres insuffisances pour en quelque sorte ouvrir ce livre. Et je le dis parce que c’est tout cela qu’il nous faut tenir ensemble, si nous avons un discours réducteur, nous enverrons un message simple à toute la jeunesse des quartiers : « Nous ne vous aimons pas. Vous n’avez pas de place dans la République. Filer vers chez eux. »\n",
    "\n",
    "Si nous avons un message naïf, nous laisserons aussi filer toute une partie de notre République qui nous dira : « Ils ne savent pas s’attaquer aux problèmes de mon quotidien. J’en vis les conséquences. Je vois l’école qui ferme à côté de chez moi, les pratiques, l’association, les psalmodieurs. » Il nous faut traiter les deux tout à la fois en dépliant chacun des points que je viens d’évoquer. C’est une action qui commence aujourd’hui et c’est une action tous ensemble que nous devrons mener et qui prendra des années et des années. (…) Notre réponse doit être plus large, puissante, répondre aux problèmes concrets observés sur le terrain. Et la réponse passe par des mesures d’ordre public, elle passe aussi par des mesures de réengagement de la République.\n",
    "\"\"\"\n",
    "chaine = chaine.replace(\".\", \"\").replace(\",\", \"\").replace(\"\\n\", \"\")\n",
    "chaine = chaine.split(\" \")"
   ]
  },
  {
   "cell_type": "code",
   "execution_count": 91,
   "id": "32f5ad4f-f4c9-4b57-99b2-7b2d18b8fe8d",
   "metadata": {},
   "outputs": [],
   "source": [
    "# technique 1 (sans dictionnaires)\n",
    "import pprint\n",
    "\n",
    "def technique_1(chaine):\n",
    "    res = []\n",
    "    lettres_parcourues = []\n",
    "    for lettre in set(chaine):\n",
    "        if lettre in lettres_parcourues:\n",
    "            continue \n",
    "            \n",
    "        res.append(chaine.count(lettre))\n",
    "        lettres_parcourues.append(lettre)\n",
    "    return res, lettres_parcourues\n",
    "    # pprint.pprint(list(zip(lettres_parcourues, res)))"
   ]
  },
  {
   "cell_type": "code",
   "execution_count": 106,
   "id": "b75e04b5-9316-4e64-823b-124a912674df",
   "metadata": {},
   "outputs": [],
   "source": [
    "# technique 2 (avec dicos)\n",
    "def technique_2(chaine):\n",
    "    res = {}\n",
    "    res_get = res.get\n",
    "    for lettre in chaine:\n",
    "        res[lettre] = res_get(lettre, 0) + 1        \n",
    "    return res \n",
    "    # print(res)"
   ]
  },
  {
   "cell_type": "code",
   "execution_count": 103,
   "id": "d1ad4315-9bbd-4b3b-8687-c1232db82e44",
   "metadata": {},
   "outputs": [],
   "source": [
    "# technique 3\n",
    "\n",
    "import collections\n",
    "def technique_3(chaine):\n",
    "    collections.Counter(chaine)"
   ]
  },
  {
   "cell_type": "code",
   "execution_count": null,
   "id": "bb5bc243-fd04-4eb9-a07e-c69fce9e69cf",
   "metadata": {},
   "outputs": [],
   "source": []
  },
  {
   "cell_type": "code",
   "execution_count": 104,
   "id": "45a617f8-116c-46c9-9bcd-1d635843015e",
   "metadata": {},
   "outputs": [
    {
     "name": "stdout",
     "output_type": "stream",
     "text": [
      "11.4 ms ± 53 µs per loop (mean ± std. dev. of 7 runs, 100 loops each)\n"
     ]
    }
   ],
   "source": [
    "%timeit technique_1(chaine)"
   ]
  },
  {
   "cell_type": "code",
   "execution_count": 107,
   "id": "270a5da3-e701-4b0f-b0d3-9cd4eb5ac053",
   "metadata": {},
   "outputs": [
    {
     "name": "stdout",
     "output_type": "stream",
     "text": [
      "86.6 µs ± 571 ns per loop (mean ± std. dev. of 7 runs, 10,000 loops each)\n"
     ]
    }
   ],
   "source": [
    "%timeit technique_2(chaine)"
   ]
  },
  {
   "cell_type": "code",
   "execution_count": 100,
   "id": "3f6e22f4-4279-4f3b-a6cb-187f4d320eeb",
   "metadata": {},
   "outputs": [
    {
     "name": "stdout",
     "output_type": "stream",
     "text": [
      "62.8 µs ± 578 ns per loop (mean ± std. dev. of 7 runs, 10,000 loops each)\n"
     ]
    }
   ],
   "source": [
    "%timeit technique_3(chaine)"
   ]
  },
  {
   "cell_type": "code",
   "execution_count": 110,
   "id": "2b35f3ac-539c-4909-a075-0a72f8fe2f69",
   "metadata": {},
   "outputs": [],
   "source": [
    "a = {}\n",
    "a[1] = []\n",
    "a[1].append(\"toto\")"
   ]
  },
  {
   "cell_type": "code",
   "execution_count": 111,
   "id": "02b8bc80-4338-470a-81bd-5100869c442b",
   "metadata": {},
   "outputs": [
    {
     "data": {
      "text/plain": [
       "{1: ['toto']}"
      ]
     },
     "execution_count": 111,
     "metadata": {},
     "output_type": "execute_result"
    }
   ],
   "source": [
    "a"
   ]
  },
  {
   "cell_type": "code",
   "execution_count": 114,
   "id": "67e26852-c602-431d-83d0-96bffed07386",
   "metadata": {},
   "outputs": [
    {
     "ename": "KeyError",
     "evalue": "2",
     "output_type": "error",
     "traceback": [
      "\u001b[0;31m---------------------------------------------------------------------------\u001b[0m",
      "\u001b[0;31mKeyError\u001b[0m                                  Traceback (most recent call last)",
      "Cell \u001b[0;32mIn[114], line 1\u001b[0m\n\u001b[0;32m----> 1\u001b[0m b \u001b[38;5;241m=\u001b[39m \u001b[43ma\u001b[49m\u001b[43m[\u001b[49m\u001b[38;5;241;43m2\u001b[39;49m\u001b[43m]\u001b[49m\n\u001b[1;32m      2\u001b[0m b\n",
      "\u001b[0;31mKeyError\u001b[0m: 2"
     ]
    }
   ],
   "source": [
    "b = a[2]\n",
    "b"
   ]
  },
  {
   "cell_type": "code",
   "execution_count": 117,
   "id": "5c7ce4fe-3bc4-4c36-ac44-f094be1cc327",
   "metadata": {},
   "outputs": [],
   "source": [
    "a[(1, 2)] = 4"
   ]
  },
  {
   "cell_type": "code",
   "execution_count": 120,
   "id": "4903bccb-7c40-48bb-ad53-44a88d10dd5b",
   "metadata": {},
   "outputs": [],
   "source": [
    "a[1/3] = 3"
   ]
  },
  {
   "cell_type": "code",
   "execution_count": 123,
   "id": "349e75ff-93db-4795-a4dd-902dfb4fc45c",
   "metadata": {},
   "outputs": [
    {
     "data": {
      "text/plain": [
       "3"
      ]
     },
     "execution_count": 123,
     "metadata": {},
     "output_type": "execute_result"
    }
   ],
   "source": [
    "a[1/3]"
   ]
  },
  {
   "cell_type": "markdown",
   "id": "1e21e66c-b97f-4be7-b85e-87f83052b0f3",
   "metadata": {},
   "source": [
    "# Programmation fonctionnelle "
   ]
  },
  {
   "cell_type": "code",
   "execution_count": 124,
   "id": "ffdd9c01-7400-4b80-91fb-a53aa7d192f2",
   "metadata": {},
   "outputs": [
    {
     "data": {
      "text/plain": [
       "\u001b[0;31mInit signature:\u001b[0m \u001b[0mmap\u001b[0m\u001b[0;34m(\u001b[0m\u001b[0mself\u001b[0m\u001b[0;34m,\u001b[0m \u001b[0;34m/\u001b[0m\u001b[0;34m,\u001b[0m \u001b[0;34m*\u001b[0m\u001b[0margs\u001b[0m\u001b[0;34m,\u001b[0m \u001b[0;34m**\u001b[0m\u001b[0mkwargs\u001b[0m\u001b[0;34m)\u001b[0m\u001b[0;34m\u001b[0m\u001b[0;34m\u001b[0m\u001b[0m\n",
       "\u001b[0;31mDocstring:\u001b[0m     \n",
       "map(func, *iterables) --> map object\n",
       "\n",
       "Make an iterator that computes the function using arguments from\n",
       "each of the iterables.  Stops when the shortest iterable is exhausted.\n",
       "\u001b[0;31mType:\u001b[0m           type\n",
       "\u001b[0;31mSubclasses:\u001b[0m     "
      ]
     },
     "metadata": {},
     "output_type": "display_data"
    }
   ],
   "source": [
    "map?"
   ]
  },
  {
   "cell_type": "code",
   "execution_count": null,
   "id": "e52727a7-93ca-4da0-8583-91d3ebcdc85f",
   "metadata": {},
   "outputs": [],
   "source": []
  }
 ],
 "metadata": {
  "kernelspec": {
   "display_name": "Python 3 (ipykernel)",
   "language": "python",
   "name": "python3"
  },
  "language_info": {
   "codemirror_mode": {
    "name": "ipython",
    "version": 3
   },
   "file_extension": ".py",
   "mimetype": "text/x-python",
   "name": "python",
   "nbconvert_exporter": "python",
   "pygments_lexer": "ipython3",
   "version": "3.12.0"
  }
 },
 "nbformat": 4,
 "nbformat_minor": 5
}
