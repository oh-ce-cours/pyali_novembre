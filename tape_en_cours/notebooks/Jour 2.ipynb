{
 "cells": [
  {
   "cell_type": "markdown",
   "id": "8b915999-bcde-4786-9794-f0a3d6dad54e",
   "metadata": {},
   "source": [
    "# Rappel du Jour 1 \n",
    "\n",
    "## Matin \n",
    "\n",
    "* QCM de niveau + correction\n",
    "* discussion sur les origines / historique de python\n",
    "* `virtualenv`\n",
    "    * création : `python -m venv NOM_DU_VENV`\n",
    "    * activation :\n",
    "        * windows : `NOM_DU_VENV\\Scripts\\activate`\n",
    "        * unix : `source NOM_DU_VENV\\bin\\activate`\n",
    "    * désactivation :\n",
    "        * `deactivate`\n",
    "        * fermer le shell (les modifications de `PATH` sont uniquement pour le shell en cours)\n",
    "    * destruction : on supprime le dossier \n",
    "* intérêt des environnements virtuels :\n",
    "    * on ne peut avoir qu'une seule version d'un paquet par exécutable python\n",
    "    * les `venv` permettent de dupliquer les exécutables pour avoir un environnement isolé des autres \n",
    "* les `wheels` pour l'installation\n",
    "    * ce sont des paquets qui sont compilés pour une architecture précise (définie dans le nom du fichier)\n",
    "    * `pip` va automatiquement chercher le bon fichier (s'il existe)\n",
    "\n",
    " \n",
    "## Après-midi \n",
    "\n",
    "* bonnes pratiques et VScode\n",
    "    * linters (le collègues pointilleux) : mypy / pylint / ruff\n",
    "    * formatter : black / isort\n",
    "\n",
    "* pour répliquer un environnement virtuel, on a juste besoin du `requirements.txt`\n",
    "    * pour le créer / mettre à jour : `pip freeze > requirements.txt`\n",
    "    * pour installer : `pip install -r requirements.txt`\n",
    " * exo `fizzbuzz`\n",
    "     * `match / case` (python > 3.10)"
   ]
  },
  {
   "cell_type": "markdown",
   "id": "54b55f94-7f86-455e-a699-aa8d896932e0",
   "metadata": {},
   "source": [
    "# Types en python \n",
    "\n",
    "## scalaires\n",
    "* int / float\n",
    "* booléens\n",
    "* None\n",
    "\n",
    "## conteneurs \n",
    "\n",
    "* listes\n",
    "* string\n",
    "* dictionnaires\n",
    "* tuples\n",
    "* set "
   ]
  },
  {
   "cell_type": "markdown",
   "id": "d014c855-6635-42df-8320-d2c534168f34",
   "metadata": {},
   "source": [
    "## Vérifier des égalités d'objets \n",
    "\n",
    "* `a == b` : contenu équivalent\n",
    "* `a is b` : meme case mémoire"
   ]
  },
  {
   "cell_type": "code",
   "execution_count": 12,
   "id": "f7aa5f09-8fc6-495e-9a26-61959e5d9de3",
   "metadata": {},
   "outputs": [],
   "source": [
    "a = [1]\n",
    "b = [1]"
   ]
  },
  {
   "cell_type": "code",
   "execution_count": 16,
   "id": "3e137cf1-af08-4003-a701-073bcb8d1fbc",
   "metadata": {},
   "outputs": [
    {
     "data": {
      "text/plain": [
       "(4459333568, 4459159680)"
      ]
     },
     "execution_count": 16,
     "metadata": {},
     "output_type": "execute_result"
    }
   ],
   "source": [
    "id(a), id(b) # on cherche la case mémoire où est stockée la variable "
   ]
  },
  {
   "cell_type": "code",
   "execution_count": 20,
   "id": "66c4eda8-4362-45d4-8549-2acfa78e3156",
   "metadata": {},
   "outputs": [
    {
     "data": {
      "text/plain": [
       "<method-wrapper '__repr__' of list object at 0x109cc07c0>"
      ]
     },
     "execution_count": 20,
     "metadata": {},
     "output_type": "execute_result"
    }
   ],
   "source": [
    "a.__repr__"
   ]
  },
  {
   "cell_type": "code",
   "execution_count": 14,
   "id": "7abbfbf0-3cad-4bad-9503-0cbedd1e6c3d",
   "metadata": {},
   "outputs": [
    {
     "data": {
      "text/plain": [
       "True"
      ]
     },
     "execution_count": 14,
     "metadata": {},
     "output_type": "execute_result"
    }
   ],
   "source": [
    "a == b"
   ]
  },
  {
   "cell_type": "code",
   "execution_count": 15,
   "id": "e9932ab4-73e6-4011-95ce-d6bd842097ca",
   "metadata": {},
   "outputs": [
    {
     "data": {
      "text/plain": [
       "False"
      ]
     },
     "execution_count": 15,
     "metadata": {},
     "output_type": "execute_result"
    }
   ],
   "source": [
    "a is b"
   ]
  },
  {
   "cell_type": "code",
   "execution_count": null,
   "id": "5cf3909f-3660-41e0-bdf6-6c54597f1488",
   "metadata": {},
   "outputs": [],
   "source": []
  },
  {
   "cell_type": "markdown",
   "id": "2fd476e0-19e3-45d3-9122-b4ff2086a381",
   "metadata": {},
   "source": [
    "# Exercice\n",
    "\n",
    "## Fusion de listes \n",
    "\n",
    "On a 3 listes, on veut une fusion sans doublons\n",
    "* a = list(range(5))\n",
    "* b = list(range(3, 7))\n",
    "* c = list(range(10, 15))"
   ]
  },
  {
   "cell_type": "code",
   "execution_count": 29,
   "id": "fbdba9b9-198a-4968-b21f-669824d028b1",
   "metadata": {},
   "outputs": [
    {
     "name": "stdout",
     "output_type": "stream",
     "text": [
      "[0, 1, 2, 3, 4] [3, 4, 5, 6] [10, 11, 12, 13, 14]\n"
     ]
    }
   ],
   "source": [
    "a = list(range(5))\n",
    "b = list(range(3, 7))\n",
    "c = list(range(10, 15))\n",
    "d = list(range(2, 8))\n",
    "\n",
    "print(a, b, c)"
   ]
  },
  {
   "cell_type": "code",
   "execution_count": 32,
   "id": "16c30dd4-4cc0-411a-a858-99ec8b5a703b",
   "metadata": {},
   "outputs": [
    {
     "data": {
      "text/plain": [
       "{2, 3, 4, 5, 6}"
      ]
     },
     "execution_count": 32,
     "metadata": {},
     "output_type": "execute_result"
    }
   ],
   "source": [
    "(set(a) | set(b) | set(c)).intersection(set(d))"
   ]
  },
  {
   "cell_type": "code",
   "execution_count": 33,
   "id": "f114b7c4-6ea6-4118-bed3-a2b00e18cd37",
   "metadata": {},
   "outputs": [],
   "source": [
    "a = list(range(100_000_000))\n",
    "b = set(a)"
   ]
  },
  {
   "cell_type": "code",
   "execution_count": 36,
   "id": "5dc5496a-5312-464f-ba3b-d0c1fdec00d4",
   "metadata": {},
   "outputs": [
    {
     "name": "stdout",
     "output_type": "stream",
     "text": [
      "386 ms ± 2.21 ms per loop (mean ± std. dev. of 7 runs, 1 loop each)\n"
     ]
    }
   ],
   "source": [
    "%timeit 100_000_000 in a"
   ]
  },
  {
   "cell_type": "code",
   "execution_count": 37,
   "id": "8ec4b4b8-fbf8-4cef-854a-887a7e01f0e2",
   "metadata": {},
   "outputs": [
    {
     "name": "stdout",
     "output_type": "stream",
     "text": [
      "11.3 ns ± 0.0425 ns per loop (mean ± std. dev. of 7 runs, 100,000,000 loops each)\n"
     ]
    }
   ],
   "source": [
    "%timeit 100_000_000 in b"
   ]
  },
  {
   "cell_type": "code",
   "execution_count": 38,
   "id": "9ef2e672-2ce3-4257-bd59-0b487a5018ba",
   "metadata": {},
   "outputs": [
    {
     "name": "stdout",
     "output_type": "stream",
     "text": [
      "10.6 ns ± 0.031 ns per loop (mean ± std. dev. of 7 runs, 100,000,000 loops each)\n"
     ]
    }
   ],
   "source": [
    "%timeit 0 in a"
   ]
  },
  {
   "cell_type": "markdown",
   "id": "e09637d0-135e-4620-9a80-d11b875e32de",
   "metadata": {},
   "source": [
    "# Rappel du matin \n",
    "\n",
    "* les types de données\n",
    "* les tests unitaires\n",
    "    * on peut facilement tester les fonctions pures\n",
    "    * une fonction pure possède une sortie uniquement dépendante de son entrée (et pas de son contexte)\n",
    "* `jupyter notebook` :\n",
    "    * interpréteur python dans une page web\n",
    "    * programmation littérale (code, résultats et explications au même endroit)"
   ]
  },
  {
   "cell_type": "code",
   "execution_count": 41,
   "id": "470b0266-3761-4373-a1ad-93203aeca6ca",
   "metadata": {},
   "outputs": [
    {
     "data": {
      "text/plain": [
       "'r,i,r,i'"
      ]
     },
     "execution_count": 41,
     "metadata": {},
     "output_type": "execute_result"
    }
   ],
   "source": [
    "#[\"r\", \"i\", \"r\", \"i\"] => \"riri\"\n",
    "\",\".join([\"r\", \"i\", \"r\", \"i\"])"
   ]
  },
  {
   "cell_type": "code",
   "execution_count": 42,
   "id": "b7f313d3-c3e0-43fe-8862-e7754b907602",
   "metadata": {},
   "outputs": [
    {
     "data": {
      "text/plain": [
       "['r', 'i', 'r', 'i']"
      ]
     },
     "execution_count": 42,
     "metadata": {},
     "output_type": "execute_result"
    }
   ],
   "source": [
    "'r,i,r,i'.split(\",\")"
   ]
  },
  {
   "cell_type": "markdown",
   "id": "36f95caa-d9e2-4bf0-846a-34e68a634fa5",
   "metadata": {},
   "source": [
    "## Chaines de caractères\n",
    "\n",
    "Utiliser les `fstrings` : https://fstring.help/ "
   ]
  },
  {
   "cell_type": "code",
   "execution_count": 48,
   "id": "e997a0ed-142f-448b-a812-fba6ef5a7abb",
   "metadata": {},
   "outputs": [
    {
     "name": "stdout",
     "output_type": "stream",
     "text": [
      "1100\n"
     ]
    }
   ],
   "source": [
    "a = 12\n",
    "print(f\"{a:b}\")"
   ]
  },
  {
   "cell_type": "markdown",
   "id": "fe1f8013-ba6b-440e-b2bf-acebc41a9f3e",
   "metadata": {},
   "source": [
    "# Excercice"
   ]
  },
  {
   "cell_type": "markdown",
   "id": "02dbf365-824d-4cfa-9937-7bf0f3a29b12",
   "metadata": {},
   "source": [
    "Donner la table des fréquences de la chaine suivante : \"l’objectif de notre rendez-vous d’aujourd’hui est double. D’abord, définir la réalité de nos problèmes, sans tabou mais sans facilité non plus – qu’est-ce qui aujourd’hui, dans notre société, met en danger notre République, notre capacité à vivre ensemble ? – et vous faire part des décisions prises en conséquence qui sont le fruit d’un travail méthodique conduit depuis près de trois ans, et que nous avons, ces dernières semaines, finalisé avec le gouvernement.\""
   ]
  },
  {
   "cell_type": "code",
   "execution_count": 55,
   "id": "cc9121db-ec30-4761-ae16-701d06077b35",
   "metadata": {},
   "outputs": [],
   "source": [
    "chaine = \"l'objectif de notre rendez-vous d’aujourd’hui est double. D’abord, définir la réalité de nos problèmes, sans tabou mais sans facilité non plus – qu’est-ce qui aujourd’hui, dans notre société, met en danger notre République, notre capacité à vivre ensemble ? – et vous faire part des décisions prises en conséquence qui sont le fruit d’un travail méthodique conduit depuis près de trois ans, et que nous avons, ces dernières semaines, finalisé avec le gouvernement.\""
   ]
  },
  {
   "cell_type": "code",
   "execution_count": 58,
   "id": "32f5ad4f-f4c9-4b57-99b2-7b2d18b8fe8d",
   "metadata": {},
   "outputs": [
    {
     "name": "stdout",
     "output_type": "stream",
     "text": [
      "[('l', 13), (\"'\", 1), ('o', 25), ('b', 7), ('j', 3), ('e', 45), ('c', 12), ('t', 23), ('i', 29), ('f', 6), (' ', 72), ('d', 19), ('n', 30), ('r', 23), ('z', 1), ('-', 2), ('v', 8), ('u', 25), ('s', 33), ('’', 6), ('a', 23), ('h', 3), ('.', 2), ('D', 1), (',', 8), ('é', 12), ('p', 8), ('è', 3), ('m', 7), ('–', 2), ('q', 7), ('g', 2), ('R', 1), ('à', 1), ('?', 1)]\n"
     ]
    }
   ],
   "source": [
    "# technique 1 (sans dictionnaires)\n",
    "\n",
    "res = []\n",
    "lettres_parcourues = []\n",
    "for lettre in set(chaine):\n",
    "    if lettre in lettres_parcourues:\n",
    "        continue \n",
    "    res.append(chaine.count(lettre))\n",
    "    lettres_parcourues.append(lettre)\n",
    "\n",
    "print(list(zip(lettres_parcourues, res)))"
   ]
  },
  {
   "cell_type": "code",
   "execution_count": null,
   "id": "b75e04b5-9316-4e64-823b-124a912674df",
   "metadata": {},
   "outputs": [],
   "source": []
  },
  {
   "cell_type": "code",
   "execution_count": null,
   "id": "d1ad4315-9bbd-4b3b-8687-c1232db82e44",
   "metadata": {},
   "outputs": [],
   "source": []
  }
 ],
 "metadata": {
  "kernelspec": {
   "display_name": "Python 3 (ipykernel)",
   "language": "python",
   "name": "python3"
  },
  "language_info": {
   "codemirror_mode": {
    "name": "ipython",
    "version": 3
   },
   "file_extension": ".py",
   "mimetype": "text/x-python",
   "name": "python",
   "nbconvert_exporter": "python",
   "pygments_lexer": "ipython3",
   "version": "3.12.0"
  }
 },
 "nbformat": 4,
 "nbformat_minor": 5
}
