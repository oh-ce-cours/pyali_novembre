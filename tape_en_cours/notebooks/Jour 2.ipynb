{
 "cells": [
  {
   "cell_type": "markdown",
   "id": "8b915999-bcde-4786-9794-f0a3d6dad54e",
   "metadata": {},
   "source": [
    "# Rappel du Jour 1 \n",
    "\n",
    "## Matin \n",
    "\n",
    "* QCM de niveau + correction\n",
    "* discussion sur les origines / historique de python\n",
    "* `virtualenv`\n",
    "    * création : `python -m venv NOM_DU_VENV`\n",
    "    * activation :\n",
    "        * windows : `NOM_DU_VENV\\Scripts\\activate`\n",
    "        * unix : `source NOM_DU_VENV\\bin\\activate`\n",
    "    * désactivation :\n",
    "        * `deactivate`\n",
    "        * fermer le shell (les modifications de `PATH` sont uniquement pour le shell en cours)\n",
    "    * destruction : on supprime le dossier \n",
    "* les `wheels` pour l'installation\n",
    "    * ce sont des paquets qui sont compilés pour une architecture précise (définie dans le nom du fichier)\n",
    "    * pip va automatiquement chercher le bon fichier (s'il existe)\n",
    "\n",
    " \n",
    "## Après-midi \n",
    "\n",
    "*"
   ]
  },
  {
   "cell_type": "code",
   "execution_count": null,
   "id": "0aeca5f3-7667-4a16-8be6-af35d5a0fda7",
   "metadata": {},
   "outputs": [],
   "source": []
  }
 ],
 "metadata": {
  "kernelspec": {
   "display_name": "Python 3 (ipykernel)",
   "language": "python",
   "name": "python3"
  },
  "language_info": {
   "codemirror_mode": {
    "name": "ipython",
    "version": 3
   },
   "file_extension": ".py",
   "mimetype": "text/x-python",
   "name": "python",
   "nbconvert_exporter": "python",
   "pygments_lexer": "ipython3",
   "version": "3.12.0"
  }
 },
 "nbformat": 4,
 "nbformat_minor": 5
}
