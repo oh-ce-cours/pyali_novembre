{
 "cells": [
  {
   "cell_type": "markdown",
   "id": "8b915999-bcde-4786-9794-f0a3d6dad54e",
   "metadata": {},
   "source": [
    "# Rappel du Jour 1 \n",
    "\n",
    "## Matin \n",
    "\n",
    "* QCM de niveau + correction\n",
    "* discussion sur les origines / historique de python\n",
    "* `virtualenv`\n",
    "    * création : `python -m venv NOM_DU_VENV`\n",
    "    * activation :\n",
    "        * windows : `NOM_DU_VENV\\Scripts\\activate`\n",
    "        * unix : `source NOM_DU_VENV\\bin\\activate`\n",
    "    * désactivation :\n",
    "        * `deactivate`\n",
    "        * fermer le shell (les modifications de `PATH` sont uniquement pour le shell en cours)\n",
    "    * destruction : on supprime le dossier \n",
    "* intérêt des environnements virtuels :\n",
    "    * on ne peut avoir qu'une seule version d'un paquet par exécutable python\n",
    "    * les `venv` permettent de dupliquer les exécutables pour avoir un environnement isolé des autres \n",
    "* les `wheels` pour l'installation\n",
    "    * ce sont des paquets qui sont compilés pour une architecture précise (définie dans le nom du fichier)\n",
    "    * `pip` va automatiquement chercher le bon fichier (s'il existe)\n",
    "\n",
    " \n",
    "## Après-midi \n",
    "\n",
    "* bonnes pratiques et VScode\n",
    "    * linters (le collègues pointilleux) : mypy / pylint / ruff\n",
    "    * formatter : black / isort\n",
    "\n",
    "* pour répliquer un environnement virtuel, on a juste besoin du `requirements.txt`\n",
    "    * pour le créer / mettre à jour : `pip freeze > requirements.txt`\n",
    "    * pour installer : `pip install -r requirements.txt`\n",
    " * exo `fizzbuzz`\n",
    "     * `match / case` (python > 3.10)"
   ]
  },
  {
   "cell_type": "markdown",
   "id": "54b55f94-7f86-455e-a699-aa8d896932e0",
   "metadata": {},
   "source": [
    "# Types en python \n",
    "\n",
    "## scalaires\n",
    "* int / float\n",
    "* booléens\n",
    "* None\n",
    "\n",
    "## conteneurs \n",
    "\n",
    "* listes\n",
    "* string\n",
    "* dictionnaires\n",
    "* tuples\n",
    "* set "
   ]
  },
  {
   "cell_type": "markdown",
   "id": "d014c855-6635-42df-8320-d2c534168f34",
   "metadata": {},
   "source": [
    "## Vérifier des égalités d'objets \n",
    "\n",
    "* `a == b` : contenu équivalent\n",
    "* `a is b` : meme case mémoire"
   ]
  },
  {
   "cell_type": "code",
   "execution_count": 12,
   "id": "f7aa5f09-8fc6-495e-9a26-61959e5d9de3",
   "metadata": {},
   "outputs": [],
   "source": [
    "a = [1]\n",
    "b = [1]"
   ]
  },
  {
   "cell_type": "code",
   "execution_count": 16,
   "id": "3e137cf1-af08-4003-a701-073bcb8d1fbc",
   "metadata": {},
   "outputs": [
    {
     "data": {
      "text/plain": [
       "(4459333568, 4459159680)"
      ]
     },
     "execution_count": 16,
     "metadata": {},
     "output_type": "execute_result"
    }
   ],
   "source": [
    "id(a), id(b) # on cherche la case mémoire où est stockée la variable "
   ]
  },
  {
   "cell_type": "code",
   "execution_count": 20,
   "id": "66c4eda8-4362-45d4-8549-2acfa78e3156",
   "metadata": {},
   "outputs": [
    {
     "data": {
      "text/plain": [
       "<method-wrapper '__repr__' of list object at 0x109cc07c0>"
      ]
     },
     "execution_count": 20,
     "metadata": {},
     "output_type": "execute_result"
    }
   ],
   "source": [
    "a.__repr__"
   ]
  },
  {
   "cell_type": "code",
   "execution_count": 14,
   "id": "7abbfbf0-3cad-4bad-9503-0cbedd1e6c3d",
   "metadata": {},
   "outputs": [
    {
     "data": {
      "text/plain": [
       "True"
      ]
     },
     "execution_count": 14,
     "metadata": {},
     "output_type": "execute_result"
    }
   ],
   "source": [
    "a == b"
   ]
  },
  {
   "cell_type": "code",
   "execution_count": 15,
   "id": "e9932ab4-73e6-4011-95ce-d6bd842097ca",
   "metadata": {},
   "outputs": [
    {
     "data": {
      "text/plain": [
       "False"
      ]
     },
     "execution_count": 15,
     "metadata": {},
     "output_type": "execute_result"
    }
   ],
   "source": [
    "a is b"
   ]
  },
  {
   "cell_type": "code",
   "execution_count": null,
   "id": "5cf3909f-3660-41e0-bdf6-6c54597f1488",
   "metadata": {},
   "outputs": [],
   "source": []
  },
  {
   "cell_type": "markdown",
   "id": "2fd476e0-19e3-45d3-9122-b4ff2086a381",
   "metadata": {},
   "source": [
    "# Exercice\n",
    "\n",
    "## Fusion de listes \n",
    "\n",
    "On a 3 listes, on veut une fusion sans doublons\n",
    "* a = list(range(5))\n",
    "* b = list(range(3, 7))\n",
    "* c = list(range(10, 15))"
   ]
  },
  {
   "cell_type": "code",
   "execution_count": 22,
   "id": "fbdba9b9-198a-4968-b21f-669824d028b1",
   "metadata": {},
   "outputs": [
    {
     "name": "stdout",
     "output_type": "stream",
     "text": [
      "[0, 1, 2, 3, 4] [3, 4, 5, 6] [10, 11, 12, 13, 14]\n"
     ]
    }
   ],
   "source": [
    "a = list(range(5))\n",
    "b = list(range(3, 7))\n",
    "c = list(range(10, 15))\n",
    "\n",
    "print(a, b, c)"
   ]
  },
  {
   "cell_type": "code",
   "execution_count": 26,
   "id": "16c30dd4-4cc0-411a-a858-99ec8b5a703b",
   "metadata": {},
   "outputs": [
    {
     "data": {
      "text/plain": [
       "'lrto'"
      ]
     },
     "execution_count": 26,
     "metadata": {},
     "output_type": "execute_result"
    }
   ],
   "source": [
    "\"\".join(set(\"trololo\"))"
   ]
  },
  {
   "cell_type": "code",
   "execution_count": null,
   "id": "f114b7c4-6ea6-4118-bed3-a2b00e18cd37",
   "metadata": {},
   "outputs": [],
   "source": []
  }
 ],
 "metadata": {
  "kernelspec": {
   "display_name": "Python 3 (ipykernel)",
   "language": "python",
   "name": "python3"
  },
  "language_info": {
   "codemirror_mode": {
    "name": "ipython",
    "version": 3
   },
   "file_extension": ".py",
   "mimetype": "text/x-python",
   "name": "python",
   "nbconvert_exporter": "python",
   "pygments_lexer": "ipython3",
   "version": "3.12.0"
  }
 },
 "nbformat": 4,
 "nbformat_minor": 5
}
