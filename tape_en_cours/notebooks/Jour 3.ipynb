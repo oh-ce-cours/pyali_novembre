{
 "cells": [
  {
   "cell_type": "markdown",
   "id": "0f7ced59-4945-41c7-a05f-abf1b43ec559",
   "metadata": {},
   "source": [
    "# Rappel du jour 2 \n",
    "\n",
    "* tests\n",
    "* \n",
    "* début de programmation fonctionnelle "
   ]
  }
 ],
 "metadata": {
  "kernelspec": {
   "display_name": "Python 3 (ipykernel)",
   "language": "python",
   "name": "python3"
  },
  "language_info": {
   "codemirror_mode": {
    "name": "ipython",
    "version": 3
   },
   "file_extension": ".py",
   "mimetype": "text/x-python",
   "name": "python",
   "nbconvert_exporter": "python",
   "pygments_lexer": "ipython3",
   "version": "3.12.0"
  }
 },
 "nbformat": 4,
 "nbformat_minor": 5
}
