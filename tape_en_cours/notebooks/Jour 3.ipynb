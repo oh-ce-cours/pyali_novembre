{
 "cells": [
  {
   "cell_type": "markdown",
   "id": "0f7ced59-4945-41c7-a05f-abf1b43ec559",
   "metadata": {},
   "source": [
    "# Rappel du jour 2 \n",
    "\n",
    "* tests\n",
    "    * pyramide de tests\n",
    "* manipulations de types / structures de données\n",
    "    * utilisation de `fstrings`\n",
    "    * dictionnaires et sets \n",
    "* début de programmation fonctionnelle\n",
    "    * les fonctions sont des objets comme les autres "
   ]
  },
  {
   "cell_type": "code",
   "execution_count": 8,
   "id": "397ffd3e-e455-4f2d-a51c-9dd858a66db7",
   "metadata": {},
   "outputs": [],
   "source": [
    "def toto():\n",
    "    global tata \n",
    "    tata += 1 \n",
    "    print(id(tata), tata)"
   ]
  },
  {
   "cell_type": "code",
   "execution_count": 9,
   "id": "f0d888bd-5409-440b-ab5f-21fb1097d5b9",
   "metadata": {},
   "outputs": [
    {
     "name": "stdout",
     "output_type": "stream",
     "text": [
      "4429620304 3.234432\n",
      "4429617904 4.234432\n",
      "4429617904 4.234432\n"
     ]
    }
   ],
   "source": [
    "tata = 3.234432\n",
    "print(id(tata), tata)\n",
    "toto()\n",
    "print(id(tata), tata)"
   ]
  },
  {
   "cell_type": "code",
   "execution_count": 15,
   "id": "da9ce6d4-1509-45ca-8a45-4adcbbad8b61",
   "metadata": {},
   "outputs": [
    {
     "name": "stdout",
     "output_type": "stream",
     "text": [
      "4\n",
      "10\n",
      "11\n",
      "12\n",
      "13\n",
      "14\n"
     ]
    }
   ],
   "source": [
    "fs = []\n",
    "for i in range(5):\n",
    "    def f(x, nombre=i):\n",
    "        return x + nombre\n",
    "    fs.append(f)\n",
    "\n",
    "print(i)\n",
    "for f in fs:\n",
    "    print(f(10))"
   ]
  },
  {
   "cell_type": "code",
   "execution_count": 25,
   "id": "e5cf22c0-6948-4d27-9b00-d25c80dcb446",
   "metadata": {},
   "outputs": [
    {
     "name": "stdout",
     "output_type": "stream",
     "text": [
      "entre spy et append wrong\n",
      "dans spy list\n",
      "apres append wrong\n"
     ]
    }
   ],
   "source": [
    "def spy_list():\n",
    "    print(\"dans spy list\")\n",
    "    return []\n",
    "\n",
    "print(\"entre spy et append wrong\")\n",
    "\n",
    "def append_wrong(val, li=spy_list()):\n",
    "    print(\"dans execution de append wrong\")\n",
    "    li.append(val)\n",
    "    return li\n",
    "\n",
    "print(\"apres append wrong\")\n"
   ]
  },
  {
   "cell_type": "code",
   "execution_count": 32,
   "id": "ce07212f-2d85-4743-a72b-7b0ccc8d38a5",
   "metadata": {},
   "outputs": [
    {
     "name": "stdout",
     "output_type": "stream",
     "text": [
      "dans execution de append wrong\n"
     ]
    },
    {
     "data": {
      "text/plain": [
       "[20, 20, 20, 20, 20, 20, 21]"
      ]
     },
     "execution_count": 32,
     "metadata": {},
     "output_type": "execute_result"
    }
   ],
   "source": [
    "append_wrong(21)"
   ]
  },
  {
   "cell_type": "code",
   "execution_count": 44,
   "id": "cbe097e9-a9db-4ec3-9204-e5adeaa14889",
   "metadata": {},
   "outputs": [],
   "source": [
    "def append_ok(val, li=None):\n",
    "    if li is None:\n",
    "        li = []\n",
    "    print(\"dans execution de append wrong\")\n",
    "    li.append(val)\n",
    "    return li"
   ]
  },
  {
   "cell_type": "code",
   "execution_count": 47,
   "id": "24c4dc53-8d00-4bc3-99f2-38658be79b79",
   "metadata": {},
   "outputs": [
    {
     "name": "stdout",
     "output_type": "stream",
     "text": [
      "dans execution de append wrong\n"
     ]
    },
    {
     "data": {
      "text/plain": [
       "[1, 2, 3]"
      ]
     },
     "execution_count": 47,
     "metadata": {},
     "output_type": "execute_result"
    }
   ],
   "source": [
    "append_ok(3, [1, 2])"
   ]
  },
  {
   "cell_type": "code",
   "execution_count": 65,
   "id": "92abf1ad-3bc6-45ef-96eb-1f0d81f3929d",
   "metadata": {},
   "outputs": [
    {
     "ename": "NotImplementedError",
     "evalue": "operator='/' not supported",
     "output_type": "error",
     "traceback": [
      "\u001b[0;31m---------------------------------------------------------------------------\u001b[0m",
      "\u001b[0;31mNotImplementedError\u001b[0m                       Traceback (most recent call last)",
      "Cell \u001b[0;32mIn[65], line 27\u001b[0m\n\u001b[1;32m     20\u001b[0m \u001b[38;5;66;03m################\u001b[39;00m\n\u001b[1;32m     22\u001b[0m operations \u001b[38;5;241m=\u001b[39m {\n\u001b[1;32m     23\u001b[0m     \u001b[38;5;124m\"\u001b[39m\u001b[38;5;124m+\u001b[39m\u001b[38;5;124m\"\u001b[39m: compute_addition,\n\u001b[1;32m     24\u001b[0m     \u001b[38;5;124m\"\u001b[39m\u001b[38;5;124m-\u001b[39m\u001b[38;5;124m\"\u001b[39m: compute_substraction\n\u001b[1;32m     25\u001b[0m }\n\u001b[0;32m---> 27\u001b[0m \u001b[43moperations\u001b[49m\u001b[38;5;241;43m.\u001b[39;49m\u001b[43mget\u001b[49m\u001b[43m(\u001b[49m\u001b[43moperator\u001b[49m\u001b[43m,\u001b[49m\u001b[43m \u001b[49m\u001b[38;5;28;43;01mlambda\u001b[39;49;00m\u001b[43m \u001b[49m\u001b[43mleft\u001b[49m\u001b[43m,\u001b[49m\u001b[43m \u001b[49m\u001b[43mright\u001b[49m\u001b[43m:\u001b[49m\u001b[43m \u001b[49m\u001b[43munknown_operator\u001b[49m\u001b[43m(\u001b[49m\u001b[43moperator\u001b[49m\u001b[43m)\u001b[49m\u001b[43m)\u001b[49m\u001b[43m(\u001b[49m\u001b[43mleft\u001b[49m\u001b[43m,\u001b[49m\u001b[43m \u001b[49m\u001b[43mright\u001b[49m\u001b[43m)\u001b[49m\n",
      "Cell \u001b[0;32mIn[65], line 27\u001b[0m, in \u001b[0;36m<lambda>\u001b[0;34m(left, right)\u001b[0m\n\u001b[1;32m     20\u001b[0m \u001b[38;5;66;03m################\u001b[39;00m\n\u001b[1;32m     22\u001b[0m operations \u001b[38;5;241m=\u001b[39m {\n\u001b[1;32m     23\u001b[0m     \u001b[38;5;124m\"\u001b[39m\u001b[38;5;124m+\u001b[39m\u001b[38;5;124m\"\u001b[39m: compute_addition,\n\u001b[1;32m     24\u001b[0m     \u001b[38;5;124m\"\u001b[39m\u001b[38;5;124m-\u001b[39m\u001b[38;5;124m\"\u001b[39m: compute_substraction\n\u001b[1;32m     25\u001b[0m }\n\u001b[0;32m---> 27\u001b[0m operations\u001b[38;5;241m.\u001b[39mget(operator, \u001b[38;5;28;01mlambda\u001b[39;00m left, right: \u001b[43munknown_operator\u001b[49m\u001b[43m(\u001b[49m\u001b[43moperator\u001b[49m\u001b[43m)\u001b[49m)(left, right)\n",
      "Cell \u001b[0;32mIn[65], line 13\u001b[0m, in \u001b[0;36munknown_operator\u001b[0;34m(operator)\u001b[0m\n\u001b[1;32m     12\u001b[0m \u001b[38;5;28;01mdef\u001b[39;00m \u001b[38;5;21munknown_operator\u001b[39m(operator):\n\u001b[0;32m---> 13\u001b[0m     \u001b[38;5;28;01mraise\u001b[39;00m \u001b[38;5;167;01mNotImplementedError\u001b[39;00m(\u001b[38;5;124mf\u001b[39m\u001b[38;5;124m\"\u001b[39m\u001b[38;5;132;01m{\u001b[39;00moperator\u001b[38;5;132;01m=}\u001b[39;00m\u001b[38;5;124m not supported\u001b[39m\u001b[38;5;124m\"\u001b[39m)\n",
      "\u001b[0;31mNotImplementedError\u001b[0m: operator='/' not supported"
     ]
    }
   ],
   "source": [
    "s1 = \"3+2\" #=> 5\n",
    "s2 = \"3-2\" #=> 1\n",
    "s3 = \"3/2\"\n",
    "left, operator,right = s3\n",
    "\n",
    "def compute_addition(a, b):\n",
    "    return int(a) + int(b)\n",
    "\n",
    "def compute_substraction(a, b):\n",
    "    return int(a) - int(b) \n",
    "\n",
    "def unknown_operator(operator):\n",
    "    raise NotImplementedError(f\"{operator=} not supported\")\n",
    "\n",
    "if operator == \"+\":\n",
    "    res = compute_addition(left, right)\n",
    "elif operator == \"-\":\n",
    "    res = compute_substraction(left, right)\n",
    "\n",
    "################\n",
    "\n",
    "operations = {\n",
    "    \"+\": compute_addition,\n",
    "    \"-\": compute_substraction\n",
    "}\n",
    "\n",
    "operations.get(operator, lambda left, right: unknown_operator(operator))(left, right)"
   ]
  },
  {
   "cell_type": "code",
   "execution_count": 67,
   "id": "7f99d54b-c394-49ef-b2c0-ea98c1cd2992",
   "metadata": {},
   "outputs": [
    {
     "name": "stdout",
     "output_type": "stream",
     "text": [
      "args=(1, 2), kwargs={'c': 3, 'toto': 'riri'}\n"
     ]
    }
   ],
   "source": [
    "def f(*args, **kwargs):\n",
    "    print(f\"{args=}, {kwargs=}\")\n",
    "\n",
    "\n",
    "f(1, 2, c=3, toto=\"riri\")"
   ]
  },
  {
   "cell_type": "markdown",
   "id": "f41fa7c1-1136-4aad-9dc5-687605390a85",
   "metadata": {},
   "source": [
    "# Attributs de functions"
   ]
  },
  {
   "cell_type": "code",
   "execution_count": 68,
   "id": "e08e93e7-a487-4201-a944-53a2366ee7a4",
   "metadata": {},
   "outputs": [
    {
     "name": "stdout",
     "output_type": "stream",
     "text": [
      "2\n"
     ]
    }
   ],
   "source": [
    "def f():\n",
    "    print(\"toto\")\n",
    "\n",
    "f.a = 2\n",
    "print(f.a)"
   ]
  },
  {
   "cell_type": "code",
   "execution_count": 72,
   "id": "f43afa67-ab84-49ab-8129-71c6e29b0a57",
   "metadata": {},
   "outputs": [
    {
     "name": "stdout",
     "output_type": "stream",
     "text": [
      "1\n"
     ]
    }
   ],
   "source": [
    "# https://stackoverflow.com/questions/67603536/cannot-set-function-attribute-inside-a-decorator\n",
    "\n",
    "def deco(a_deco):\n",
    "    def wrapper():\n",
    "        a_deco()\n",
    "        wrapper.test = 1\n",
    "    return wrapper\n",
    "\n",
    "@deco\n",
    "def f():\n",
    "    pass \n",
    "\n",
    "f()\n",
    "print(f.test)"
   ]
  },
  {
   "cell_type": "code",
   "execution_count": 83,
   "id": "9b4100b9-20b8-4259-821a-ab78fbd350c5",
   "metadata": {},
   "outputs": [],
   "source": [
    "def pain(f):\n",
    "    def wrapper(*args, **kwargs):\n",
    "        print(\"pain\")\n",
    "        res = f(*args, **kwargs)\n",
    "        print(\"pain\")\n",
    "        return res\n",
    "    return wrapper \n",
    "\n",
    "def tomate(f):\n",
    "    def wrapper(*args, **kwargs):\n",
    "        res = f(*args, **kwargs)\n",
    "        print(\"tomate\")\n",
    "        return res\n",
    "    return wrapper \n",
    "\n",
    "def fromage(f):\n",
    "    def wrapper(*args, **kwargs):\n",
    "        print(\"fromage\")\n",
    "        res = f(*args, **kwargs)\n",
    "        return res \n",
    "    return wrapper \n",
    "\n",
    "@pain\n",
    "@tomate\n",
    "@fromage\n",
    "def sandwich(viande=\"steack\"):\n",
    "    print(viande)\n",
    "    return viande"
   ]
  },
  {
   "cell_type": "code",
   "execution_count": 84,
   "id": "d2bc18be-e3b6-4850-84a3-9bc36edba419",
   "metadata": {},
   "outputs": [
    {
     "name": "stdout",
     "output_type": "stream",
     "text": [
      "pain\n",
      "fromage\n",
      "végé\n",
      "tomate\n",
      "pain\n"
     ]
    },
    {
     "data": {
      "text/plain": [
       "'végé'"
      ]
     },
     "execution_count": 84,
     "metadata": {},
     "output_type": "execute_result"
    }
   ],
   "source": [
    "\n",
    "sandwich(\"végé\")"
   ]
  },
  {
   "cell_type": "code",
   "execution_count": 91,
   "id": "e980543e-5f8e-46de-b9dc-2b1d3ded6f77",
   "metadata": {},
   "outputs": [
    {
     "name": "stdout",
     "output_type": "stream",
     "text": [
      "pain\n",
      "fromage\n",
      "steack\n",
      "tomate\n",
      "pain\n",
      "Help on function sandwich in module __main__:\n",
      "\n",
      "sandwich(viande='steack')\n",
      "    un joli sandwich\n",
      "\n"
     ]
    }
   ],
   "source": [
    "import functools\n",
    "\n",
    "def ingredient(nom_ingredient, dessus=False, dessous=False):\n",
    "    def mon_ingredient(f):\n",
    "        @functools.wraps(f)\n",
    "        def wrapper(*args, **kwargs):\n",
    "            if dessus:\n",
    "                print(nom_ingredient)\n",
    "            res = f(*args, **kwargs)\n",
    "            if dessous:\n",
    "                print(nom_ingredient)\n",
    "            return res \n",
    "        return wrapper \n",
    "    return mon_ingredient\n",
    "\n",
    "@ingredient(\"pain\", dessus=True, dessous=True)\n",
    "@ingredient(\"tomate\", dessous=True)\n",
    "@ingredient(\"fromage\", dessus=True)\n",
    "def sandwich(viande=\"steack\"):\n",
    "    \"\"\"un joli sandwich\"\"\"\n",
    "    print(viande)\n",
    "    return viande\n",
    "\n",
    "\n",
    "sandwich()\n",
    "help(sandwich)"
   ]
  },
  {
   "cell_type": "code",
   "execution_count": 92,
   "id": "0ba2f682-cab3-418b-8d0c-fd6aab0b2b6b",
   "metadata": {},
   "outputs": [],
   "source": [
    "def retry(f):\n",
    "    def wrapper(*args, **kwargs):\n",
    "        while True:\n",
    "            try:\n",
    "                f(*args, **kwargs)                \n",
    "            except:\n",
    "                pass\n",
    "            else:\n",
    "                break "
   ]
  },
  {
   "cell_type": "markdown",
   "id": "31a732aa-029d-4842-a655-cab4bcc66422",
   "metadata": {},
   "source": [
    "# Functools cache"
   ]
  },
  {
   "cell_type": "code",
   "execution_count": 120,
   "id": "5215ed70-f17b-4226-b6f1-1818d46fbe82",
   "metadata": {},
   "outputs": [],
   "source": [
    "def fib(n):\n",
    "    if n < 2:\n",
    "        return n\n",
    "    return fib(n-1) + fib(n-2)"
   ]
  },
  {
   "cell_type": "code",
   "execution_count": 121,
   "id": "dfc58fb7-262d-483e-8e06-4b12f1e03936",
   "metadata": {},
   "outputs": [
    {
     "name": "stdout",
     "output_type": "stream",
     "text": [
      "7.63 µs ± 51.9 ns per loop (mean ± std. dev. of 7 runs, 100,000 loops each)\n"
     ]
    }
   ],
   "source": [
    "%timeit fib(11)"
   ]
  },
  {
   "cell_type": "code",
   "execution_count": 122,
   "id": "16731308-8678-4b1b-bfd3-79bdb0ea898f",
   "metadata": {},
   "outputs": [
    {
     "name": "stdout",
     "output_type": "stream",
     "text": [
      "12.4 µs ± 59.2 ns per loop (mean ± std. dev. of 7 runs, 100,000 loops each)\n"
     ]
    }
   ],
   "source": [
    "%timeit fib(12)"
   ]
  },
  {
   "cell_type": "code",
   "execution_count": 133,
   "id": "bb556dda-fd17-4de6-93e8-51852d5159e2",
   "metadata": {},
   "outputs": [],
   "source": [
    "from functools import lru_cache\n",
    "\n",
    "@lru_cache(maxsize=10)\n",
    "def fib(n):\n",
    "    print(n)\n",
    "    if n < 2:\n",
    "        return n\n",
    "    return fib(n-1) + fib(n-2)\n"
   ]
  },
  {
   "cell_type": "code",
   "execution_count": 127,
   "id": "f4b44cbb-1b0d-4b6d-a3a0-d6bf4615af22",
   "metadata": {},
   "outputs": [
    {
     "data": {
      "text/plain": [
       "55"
      ]
     },
     "execution_count": 127,
     "metadata": {},
     "output_type": "execute_result"
    }
   ],
   "source": [
    "fib(10)"
   ]
  },
  {
   "cell_type": "code",
   "execution_count": 128,
   "id": "6f4acdea-4d72-4ead-ae01-4cdaf85824b3",
   "metadata": {},
   "outputs": [
    {
     "name": "stdout",
     "output_type": "stream",
     "text": [
      "24.8 ns ± 0.228 ns per loop (mean ± std. dev. of 7 runs, 10,000,000 loops each)\n"
     ]
    }
   ],
   "source": [
    "%timeit fib(11)"
   ]
  },
  {
   "cell_type": "code",
   "execution_count": 129,
   "id": "d8e356c7-ecf2-4694-aadb-cf744eaea125",
   "metadata": {},
   "outputs": [
    {
     "name": "stdout",
     "output_type": "stream",
     "text": [
      "24.7 ns ± 0.104 ns per loop (mean ± std. dev. of 7 runs, 10,000,000 loops each)\n"
     ]
    }
   ],
   "source": [
    "%timeit fib(12)"
   ]
  },
  {
   "cell_type": "code",
   "execution_count": 130,
   "id": "fc718d4b-1dbe-44f8-b820-7a4e0106aab0",
   "metadata": {},
   "outputs": [
    {
     "name": "stdout",
     "output_type": "stream",
     "text": [
      "25.1 ns ± 0.347 ns per loop (mean ± std. dev. of 7 runs, 10,000,000 loops each)\n"
     ]
    }
   ],
   "source": [
    "%timeit fib(40)"
   ]
  },
  {
   "cell_type": "code",
   "execution_count": 135,
   "id": "00406d5d-366e-446f-b967-f597d21603e8",
   "metadata": {},
   "outputs": [
    {
     "name": "stdout",
     "output_type": "stream",
     "text": [
      "100\n",
      "99\n",
      "98\n",
      "97\n",
      "96\n",
      "95\n",
      "94\n",
      "93\n",
      "92\n",
      "91\n",
      "90\n",
      "89\n",
      "88\n",
      "87\n",
      "86\n",
      "85\n",
      "84\n",
      "83\n",
      "82\n",
      "81\n",
      "80\n",
      "79\n",
      "78\n",
      "77\n",
      "76\n",
      "75\n",
      "74\n",
      "73\n",
      "72\n",
      "71\n",
      "70\n",
      "69\n",
      "68\n",
      "67\n",
      "66\n",
      "65\n",
      "64\n",
      "63\n",
      "62\n",
      "61\n",
      "60\n",
      "59\n",
      "58\n",
      "57\n",
      "56\n",
      "55\n",
      "54\n",
      "53\n",
      "52\n",
      "51\n",
      "50\n",
      "49\n",
      "48\n",
      "47\n",
      "46\n",
      "45\n",
      "44\n",
      "43\n",
      "42\n",
      "41\n"
     ]
    },
    {
     "data": {
      "text/plain": [
       "354224848179261915075"
      ]
     },
     "execution_count": 135,
     "metadata": {},
     "output_type": "execute_result"
    }
   ],
   "source": [
    "fib(100)"
   ]
  },
  {
   "cell_type": "code",
   "execution_count": 136,
   "id": "71e66289-199e-42a5-85c8-a138024d1bc4",
   "metadata": {},
   "outputs": [
    {
     "data": {
      "text/plain": [
       "CacheInfo(hits=99, misses=101, maxsize=10, currsize=10)"
      ]
     },
     "execution_count": 136,
     "metadata": {},
     "output_type": "execute_result"
    }
   ],
   "source": [
    "fib.cache_info()"
   ]
  },
  {
   "cell_type": "code",
   "execution_count": 161,
   "id": "27e4f750-9abe-4e88-86b0-3cc63c881e89",
   "metadata": {},
   "outputs": [],
   "source": [
    "def my_cache(f):\n",
    "    cache = {}\n",
    "    def wrapper(*args):\n",
    "        if args not in cache:\n",
    "            res = f(*args)\n",
    "            cache[args] = res\n",
    "        return cache[args]\n",
    "    wrapper.cache = cache # on passe le cache en attribut de notre fonction\n",
    "    return wrapper\n",
    "\n",
    "@my_cache\n",
    "def fibo(n):\n",
    "    if n < 2:\n",
    "        return n\n",
    "    return fibo(n-1) + fibo(n-2)\n",
    "\n",
    "@my_cache\n",
    "def toto(n):\n",
    "    return 12\n"
   ]
  },
  {
   "cell_type": "code",
   "execution_count": 157,
   "id": "c3acdf09-e184-4f09-8c74-efd4da65fbcf",
   "metadata": {},
   "outputs": [
    {
     "data": {
      "text/plain": [
       "55"
      ]
     },
     "execution_count": 157,
     "metadata": {},
     "output_type": "execute_result"
    }
   ],
   "source": [
    "fibo(10)"
   ]
  },
  {
   "cell_type": "code",
   "execution_count": 158,
   "id": "ce09d20c-42c9-4555-9d99-e8dcc480582d",
   "metadata": {},
   "outputs": [
    {
     "data": {
      "text/plain": [
       "12"
      ]
     },
     "execution_count": 158,
     "metadata": {},
     "output_type": "execute_result"
    }
   ],
   "source": [
    "toto(5)"
   ]
  },
  {
   "cell_type": "code",
   "execution_count": 159,
   "id": "138d4bcc-b373-4527-a4ea-49a3bd82084f",
   "metadata": {},
   "outputs": [
    {
     "data": {
      "text/plain": [
       "5"
      ]
     },
     "execution_count": 159,
     "metadata": {},
     "output_type": "execute_result"
    }
   ],
   "source": [
    "fibo(5)"
   ]
  },
  {
   "cell_type": "code",
   "execution_count": 160,
   "id": "cbee0f9b-298a-41d4-bf67-a7eeab78ffa8",
   "metadata": {},
   "outputs": [
    {
     "data": {
      "text/plain": [
       "{(5,): 12}"
      ]
     },
     "execution_count": 160,
     "metadata": {},
     "output_type": "execute_result"
    }
   ],
   "source": [
    "toto.cache"
   ]
  },
  {
   "cell_type": "code",
   "execution_count": 152,
   "id": "e72c99fa-ef5e-419b-854b-dfe5d687b698",
   "metadata": {},
   "outputs": [
    {
     "data": {
      "text/plain": [
       "{(1,): 1,\n",
       " (0,): 0,\n",
       " (2,): 1,\n",
       " (3,): 2,\n",
       " (4,): 3,\n",
       " (5,): 5,\n",
       " (6,): 8,\n",
       " (7,): 13,\n",
       " (8,): 21,\n",
       " (9,): 34,\n",
       " (10,): 55}"
      ]
     },
     "execution_count": 152,
     "metadata": {},
     "output_type": "execute_result"
    }
   ],
   "source": [
    "fibo.cache"
   ]
  },
  {
   "cell_type": "markdown",
   "id": "a9fd6c7a-6d65-49bd-adc3-5b58a06728c9",
   "metadata": {},
   "source": [
    "# Slicing "
   ]
  },
  {
   "cell_type": "code",
   "execution_count": 169,
   "id": "ca74641a-de44-49a6-9e0a-e825b238d873",
   "metadata": {},
   "outputs": [
    {
     "data": {
      "text/plain": [
       "True"
      ]
     },
     "execution_count": 169,
     "metadata": {},
     "output_type": "execute_result"
    }
   ],
   "source": [
    "a = list(range(30))\n",
    "s = slice(0, 15, 2)\n",
    "a[s] == a[0:15:2]"
   ]
  },
  {
   "cell_type": "code",
   "execution_count": 172,
   "id": "ae724c25-0156-4e5f-bcc4-f230accbd765",
   "metadata": {},
   "outputs": [
    {
     "data": {
      "text/plain": [
       "[29,\n",
       " 28,\n",
       " 27,\n",
       " 26,\n",
       " 25,\n",
       " 24,\n",
       " 23,\n",
       " 22,\n",
       " 21,\n",
       " 20,\n",
       " 19,\n",
       " 18,\n",
       " 17,\n",
       " 16,\n",
       " 15,\n",
       " 14,\n",
       " 13,\n",
       " 12,\n",
       " 11,\n",
       " 10,\n",
       " 9,\n",
       " 8,\n",
       " 7,\n",
       " 6,\n",
       " 5,\n",
       " 4,\n",
       " 3,\n",
       " 2,\n",
       " 1,\n",
       " 0]"
      ]
     },
     "execution_count": 172,
     "metadata": {},
     "output_type": "execute_result"
    }
   ],
   "source": [
    "a[::-1]"
   ]
  },
  {
   "cell_type": "markdown",
   "id": "ae4f76dc-f293-4fb1-90c0-fff1a6f11915",
   "metadata": {},
   "source": [
    "# Itérable "
   ]
  },
  {
   "cell_type": "code",
   "execution_count": 173,
   "id": "ce3996ee-f783-4d8a-ab4c-a2b93f456a9e",
   "metadata": {},
   "outputs": [
    {
     "name": "stdout",
     "output_type": "stream",
     "text": [
      "[1, 2, 3] <class 'list'>\n"
     ]
    }
   ],
   "source": [
    "a = [1, 2, 3]\n",
    "print(a, type(a)) # [1, 2, 3] <class 'list'>"
   ]
  },
  {
   "cell_type": "code",
   "execution_count": 174,
   "id": "f8c0f77a-1e7c-468f-8a5b-c894621bea04",
   "metadata": {},
   "outputs": [
    {
     "name": "stdout",
     "output_type": "stream",
     "text": [
      "<list_iterator object at 0x10936b730>\n",
      "<class 'list_iterator'>\n"
     ]
    }
   ],
   "source": [
    "it = iter(a)\n",
    "print(it) # <list_iterator object at 0x7fa8359057b8>Générateurs / Itérateurs\n",
    "print(type(it)) # <class 'list_iterator'>"
   ]
  },
  {
   "cell_type": "code",
   "execution_count": 175,
   "id": "9cf8a59d-af9b-46c0-8850-2a63fb7997ed",
   "metadata": {},
   "outputs": [
    {
     "data": {
      "text/plain": [
       "1"
      ]
     },
     "execution_count": 175,
     "metadata": {},
     "output_type": "execute_result"
    }
   ],
   "source": [
    "next(it)"
   ]
  },
  {
   "cell_type": "code",
   "execution_count": 176,
   "id": "42e29fe5-c17c-41ae-9b78-97a06b15737f",
   "metadata": {},
   "outputs": [
    {
     "data": {
      "text/plain": [
       "2"
      ]
     },
     "execution_count": 176,
     "metadata": {},
     "output_type": "execute_result"
    }
   ],
   "source": [
    "next(it)"
   ]
  },
  {
   "cell_type": "code",
   "execution_count": 177,
   "id": "ac4fc819-11ec-4be8-b380-9ea503f5ef5d",
   "metadata": {},
   "outputs": [
    {
     "data": {
      "text/plain": [
       "3"
      ]
     },
     "execution_count": 177,
     "metadata": {},
     "output_type": "execute_result"
    }
   ],
   "source": [
    "next(it)"
   ]
  },
  {
   "cell_type": "code",
   "execution_count": 178,
   "id": "5b2bdacf-89ae-43dd-a8fc-06e80a15c013",
   "metadata": {},
   "outputs": [
    {
     "ename": "StopIteration",
     "evalue": "",
     "output_type": "error",
     "traceback": [
      "\u001b[0;31m---------------------------------------------------------------------------\u001b[0m",
      "\u001b[0;31mStopIteration\u001b[0m                             Traceback (most recent call last)",
      "Cell \u001b[0;32mIn[178], line 1\u001b[0m\n\u001b[0;32m----> 1\u001b[0m \u001b[38;5;28;43mnext\u001b[39;49m\u001b[43m(\u001b[49m\u001b[43mit\u001b[49m\u001b[43m)\u001b[49m\n",
      "\u001b[0;31mStopIteration\u001b[0m: "
     ]
    }
   ],
   "source": [
    "next(it)"
   ]
  },
  {
   "cell_type": "code",
   "execution_count": 181,
   "id": "0c8b818c-ddae-4dcc-b743-1c1b5fc0475d",
   "metadata": {},
   "outputs": [
    {
     "name": "stdout",
     "output_type": "stream",
     "text": [
      "1\n",
      "2\n",
      "3\n"
     ]
    }
   ],
   "source": [
    "it = iter(a)\n",
    "while True:\n",
    "    try:\n",
    "        val = next(it)\n",
    "        print(val)\n",
    "    except StopIteration:\n",
    "        break "
   ]
  },
  {
   "cell_type": "code",
   "execution_count": 182,
   "id": "c5b27d9c-9816-4a0f-bb57-0f02cfb04d36",
   "metadata": {},
   "outputs": [
    {
     "name": "stdout",
     "output_type": "stream",
     "text": [
      "1\n",
      "2\n",
      "3\n"
     ]
    }
   ],
   "source": [
    "for index in range(len(a)):\n",
    "    print(a[index])"
   ]
  },
  {
   "cell_type": "code",
   "execution_count": 185,
   "id": "9c280091-393c-492b-8833-ed7b468ede21",
   "metadata": {},
   "outputs": [],
   "source": [
    "a = [1, 2]\n",
    "for i in a:\n",
    "    pass \n",
    "    # a.append(1)\n",
    "    # print(i)"
   ]
  },
  {
   "cell_type": "markdown",
   "id": "9e0c5d36-4b62-4940-b3f4-4f64cb47e97f",
   "metadata": {},
   "source": [
    "## Yield"
   ]
  },
  {
   "cell_type": "code",
   "execution_count": 188,
   "id": "fa4e30b4-f068-4cfb-b646-f25e83d64722",
   "metadata": {},
   "outputs": [],
   "source": [
    "def example():\n",
    "    print(\"avant 1\")\n",
    "    yield 1\n",
    "    print(\"avant 2\")\n",
    "    yield 2\n",
    "    print(\"avant 3\")\n",
    "    yield 3"
   ]
  },
  {
   "cell_type": "code",
   "execution_count": 195,
   "id": "8a68019d-02ea-4361-910d-6f2d47f1ea3e",
   "metadata": {},
   "outputs": [
    {
     "name": "stdout",
     "output_type": "stream",
     "text": [
      "avant 1\n",
      "1\n",
      "avant 2\n",
      "2\n",
      "avant 3\n",
      "3\n"
     ]
    }
   ],
   "source": [
    "e = example()\n",
    "for element in example():\n",
    "    print(element)"
   ]
  },
  {
   "cell_type": "code",
   "execution_count": 196,
   "id": "8389694a-40ff-4b2b-90b0-04f098a4d555",
   "metadata": {},
   "outputs": [],
   "source": [
    "def mymap(f, *iterables):\n",
    "    print(iterables)\n",
    "    for elem in zip(*iterables):\n",
    "        print(elem)\n",
    "        tmp = f(*elem)\n",
    "        yield tmp "
   ]
  },
  {
   "cell_type": "code",
   "execution_count": 197,
   "id": "14981936-9834-4b7f-a513-ad46df7b76b3",
   "metadata": {},
   "outputs": [
    {
     "data": {
      "text/plain": [
       "<generator object mymap at 0x109384660>"
      ]
     },
     "execution_count": 197,
     "metadata": {},
     "output_type": "execute_result"
    }
   ],
   "source": [
    "mymap(lambda x: x*2, range(10))"
   ]
  },
  {
   "cell_type": "code",
   "execution_count": null,
   "id": "9bbe006b-edc7-46b5-86e9-1268c468703a",
   "metadata": {},
   "outputs": [],
   "source": []
  }
 ],
 "metadata": {
  "kernelspec": {
   "display_name": "Python 3 (ipykernel)",
   "language": "python",
   "name": "python3"
  },
  "language_info": {
   "codemirror_mode": {
    "name": "ipython",
    "version": 3
   },
   "file_extension": ".py",
   "mimetype": "text/x-python",
   "name": "python",
   "nbconvert_exporter": "python",
   "pygments_lexer": "ipython3",
   "version": "3.12.0"
  }
 },
 "nbformat": 4,
 "nbformat_minor": 5
}
