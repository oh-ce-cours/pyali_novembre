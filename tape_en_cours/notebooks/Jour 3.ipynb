{
 "cells": [
  {
   "cell_type": "markdown",
   "id": "0f7ced59-4945-41c7-a05f-abf1b43ec559",
   "metadata": {},
   "source": [
    "# Rappel du jour 2 \n",
    "\n",
    "* tests\n",
    "    * pyramide de tests\n",
    "* manipulations de types / structures de données\n",
    "    * utilisation de `fstrings`\n",
    "    * dictionnaires et sets \n",
    "* début de programmation fonctionnelle\n",
    "    * les fonctions sont des objets comme les autres "
   ]
  },
  {
   "cell_type": "code",
   "execution_count": 8,
   "id": "397ffd3e-e455-4f2d-a51c-9dd858a66db7",
   "metadata": {},
   "outputs": [],
   "source": [
    "def toto():\n",
    "    global tata \n",
    "    tata += 1 \n",
    "    print(id(tata), tata)"
   ]
  },
  {
   "cell_type": "code",
   "execution_count": 9,
   "id": "f0d888bd-5409-440b-ab5f-21fb1097d5b9",
   "metadata": {},
   "outputs": [
    {
     "name": "stdout",
     "output_type": "stream",
     "text": [
      "4429620304 3.234432\n",
      "4429617904 4.234432\n",
      "4429617904 4.234432\n"
     ]
    }
   ],
   "source": [
    "tata = 3.234432\n",
    "print(id(tata), tata)\n",
    "toto()\n",
    "print(id(tata), tata)"
   ]
  },
  {
   "cell_type": "code",
   "execution_count": 15,
   "id": "da9ce6d4-1509-45ca-8a45-4adcbbad8b61",
   "metadata": {},
   "outputs": [
    {
     "name": "stdout",
     "output_type": "stream",
     "text": [
      "4\n",
      "10\n",
      "11\n",
      "12\n",
      "13\n",
      "14\n"
     ]
    }
   ],
   "source": [
    "fs = []\n",
    "for i in range(5):\n",
    "    def f(x, nombre=i):\n",
    "        return x + nombre\n",
    "    fs.append(f)\n",
    "\n",
    "print(i)\n",
    "for f in fs:\n",
    "    print(f(10))"
   ]
  },
  {
   "cell_type": "code",
   "execution_count": 25,
   "id": "e5cf22c0-6948-4d27-9b00-d25c80dcb446",
   "metadata": {},
   "outputs": [
    {
     "name": "stdout",
     "output_type": "stream",
     "text": [
      "entre spy et append wrong\n",
      "dans spy list\n",
      "apres append wrong\n"
     ]
    }
   ],
   "source": [
    "def spy_list():\n",
    "    print(\"dans spy list\")\n",
    "    return []\n",
    "\n",
    "print(\"entre spy et append wrong\")\n",
    "\n",
    "def append_wrong(val, li=spy_list()):\n",
    "    print(\"dans execution de append wrong\")\n",
    "    li.append(val)\n",
    "    return li\n",
    "\n",
    "print(\"apres append wrong\")\n"
   ]
  },
  {
   "cell_type": "code",
   "execution_count": 32,
   "id": "ce07212f-2d85-4743-a72b-7b0ccc8d38a5",
   "metadata": {},
   "outputs": [
    {
     "name": "stdout",
     "output_type": "stream",
     "text": [
      "dans execution de append wrong\n"
     ]
    },
    {
     "data": {
      "text/plain": [
       "[20, 20, 20, 20, 20, 20, 21]"
      ]
     },
     "execution_count": 32,
     "metadata": {},
     "output_type": "execute_result"
    }
   ],
   "source": [
    "append_wrong(21)"
   ]
  },
  {
   "cell_type": "code",
   "execution_count": 44,
   "id": "cbe097e9-a9db-4ec3-9204-e5adeaa14889",
   "metadata": {},
   "outputs": [],
   "source": [
    "def append_ok(val, li=None):\n",
    "    if li is None:\n",
    "        li = []\n",
    "    print(\"dans execution de append wrong\")\n",
    "    li.append(val)\n",
    "    return li"
   ]
  },
  {
   "cell_type": "code",
   "execution_count": 47,
   "id": "24c4dc53-8d00-4bc3-99f2-38658be79b79",
   "metadata": {},
   "outputs": [
    {
     "name": "stdout",
     "output_type": "stream",
     "text": [
      "dans execution de append wrong\n"
     ]
    },
    {
     "data": {
      "text/plain": [
       "[1, 2, 3]"
      ]
     },
     "execution_count": 47,
     "metadata": {},
     "output_type": "execute_result"
    }
   ],
   "source": [
    "append_ok(3, [1, 2])"
   ]
  },
  {
   "cell_type": "code",
   "execution_count": 60,
   "id": "92abf1ad-3bc6-45ef-96eb-1f0d81f3929d",
   "metadata": {},
   "outputs": [
    {
     "ename": "TypeError",
     "evalue": "'NoneType' object is not callable",
     "output_type": "error",
     "traceback": [
      "\u001b[0;31m---------------------------------------------------------------------------\u001b[0m",
      "\u001b[0;31mTypeError\u001b[0m                                 Traceback (most recent call last)",
      "Cell \u001b[0;32mIn[60], line 24\u001b[0m\n\u001b[1;32m     17\u001b[0m \u001b[38;5;66;03m################\u001b[39;00m\n\u001b[1;32m     19\u001b[0m operations \u001b[38;5;241m=\u001b[39m {\n\u001b[1;32m     20\u001b[0m     \u001b[38;5;124m\"\u001b[39m\u001b[38;5;124m+\u001b[39m\u001b[38;5;124m\"\u001b[39m: compute_addition,\n\u001b[1;32m     21\u001b[0m     \u001b[38;5;124m\"\u001b[39m\u001b[38;5;124m-\u001b[39m\u001b[38;5;124m\"\u001b[39m: compute_substraction\n\u001b[1;32m     22\u001b[0m }\n\u001b[0;32m---> 24\u001b[0m \u001b[43moperations\u001b[49m\u001b[38;5;241;43m.\u001b[39;49m\u001b[43mget\u001b[49m\u001b[43m(\u001b[49m\u001b[43moperator\u001b[49m\u001b[43m)\u001b[49m\u001b[43m(\u001b[49m\u001b[43mleft\u001b[49m\u001b[43m,\u001b[49m\u001b[43m \u001b[49m\u001b[43mright\u001b[49m\u001b[43m)\u001b[49m\n",
      "\u001b[0;31mTypeError\u001b[0m: 'NoneType' object is not callable"
     ]
    }
   ],
   "source": [
    "s1 = \"3+2\" #=> 5\n",
    "s2 = \"3-2\" #=> 1\n",
    "s3 = \"3/2\"\n",
    "left, operator,right = s3\n",
    "\n",
    "def compute_addition(a, b):\n",
    "    return int(a) + int(b)\n",
    "\n",
    "def compute_substraction(a, b):\n",
    "    return int(a) - int(b) \n",
    "\n",
    "def unknown_operator(operator):\n",
    "    raise NotImplementedError(f\"operator {operator} not supported\")\n",
    "\n",
    "if operator == \"+\":\n",
    "    res = compute_addition(left, right)\n",
    "elif operator == \"-\":\n",
    "    res = compute_substraction(left, right)\n",
    "\n",
    "################\n",
    "\n",
    "operations = {\n",
    "    \"+\": compute_addition,\n",
    "    \"-\": compute_substraction\n",
    "}\n",
    "\n",
    "operations.get(operator, u)(left, right)"
   ]
  },
  {
   "cell_type": "code",
   "execution_count": null,
   "id": "7f99d54b-c394-49ef-b2c0-ea98c1cd2992",
   "metadata": {},
   "outputs": [],
   "source": []
  },
  {
   "cell_type": "code",
   "execution_count": null,
   "id": "756ab160-f1b0-49e0-9b67-338eac607ee0",
   "metadata": {},
   "outputs": [],
   "source": []
  }
 ],
 "metadata": {
  "kernelspec": {
   "display_name": "Python 3 (ipykernel)",
   "language": "python",
   "name": "python3"
  },
  "language_info": {
   "codemirror_mode": {
    "name": "ipython",
    "version": 3
   },
   "file_extension": ".py",
   "mimetype": "text/x-python",
   "name": "python",
   "nbconvert_exporter": "python",
   "pygments_lexer": "ipython3",
   "version": "3.12.0"
  }
 },
 "nbformat": 4,
 "nbformat_minor": 5
}
