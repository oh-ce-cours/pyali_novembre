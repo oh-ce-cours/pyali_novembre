{
 "cells": [
  {
   "cell_type": "markdown",
   "id": "0f7ced59-4945-41c7-a05f-abf1b43ec559",
   "metadata": {},
   "source": [
    "# Rappel du jour 2 \n",
    "\n",
    "* tests\n",
    "    * pyramide de tests\n",
    "* manipulations de types / structures de données\n",
    "    * utilisation de `fstrings`\n",
    "    * dictionnaires et sets \n",
    "* début de programmation fonctionnelle\n",
    "    * les fonctions sont des objets comme les autres "
   ]
  },
  {
   "cell_type": "code",
   "execution_count": 5,
   "id": "397ffd3e-e455-4f2d-a51c-9dd858a66db7",
   "metadata": {},
   "outputs": [],
   "source": [
    "def toto():\n",
    "    global tata \n",
    "    tata += 1 \n",
    "    print(locals(), globals())\n",
    "    print(id(tata), tata)\n",
    "\n"
   ]
  },
  {
   "cell_type": "code",
   "execution_count": 6,
   "id": "f0d888bd-5409-440b-ab5f-21fb1097d5b9",
   "metadata": {},
   "outputs": [
    {
     "name": "stdout",
     "output_type": "stream",
     "text": [
      "4438279600 3.234432\n",
      "{} {'__name__': '__main__', '__doc__': 'Automatically created module for IPython interactive environment', '__package__': None, '__loader__': None, '__spec__': None, '__builtin__': <module 'builtins' (built-in)>, '__builtins__': <module 'builtins' (built-in)>, '_ih': ['', 'def toto():\\n    global tata \\n    tata += 1 \\n    print(id(tata), tata)', 'toto()', 'tata = 3.234432\\nprint(id(tata, tata))\\ntoto()\\nprint(id(tata, tata))', 'tata = 3.234432\\nprint(id(tata), tata)\\ntoto()\\nprint(id(tata), tata)', 'def toto():\\n    global tata \\n    tata += 1 \\n    print(locals(), globals())\\n    print(id(tata), tata)', 'tata = 3.234432\\nprint(id(tata), tata)\\ntoto()\\nprint(id(tata), tata)'], '_oh': {}, '_dh': [PosixPath('/Users/mfalce/Desktop/pyali_novembre/tape_en_cours/notebooks')], 'In': ['', 'def toto():\\n    global tata \\n    tata += 1 \\n    print(id(tata), tata)', 'toto()', 'tata = 3.234432\\nprint(id(tata, tata))\\ntoto()\\nprint(id(tata, tata))', 'tata = 3.234432\\nprint(id(tata), tata)\\ntoto()\\nprint(id(tata), tata)', 'def toto():\\n    global tata \\n    tata += 1 \\n    print(locals(), globals())\\n    print(id(tata), tata)', 'tata = 3.234432\\nprint(id(tata), tata)\\ntoto()\\nprint(id(tata), tata)'], 'Out': {}, 'get_ipython': <bound method InteractiveShell.get_ipython of <ipykernel.zmqshell.ZMQInteractiveShell object at 0x108186ba0>>, 'exit': <IPython.core.autocall.ZMQExitAutocall object at 0x108187260>, 'quit': <IPython.core.autocall.ZMQExitAutocall object at 0x108187260>, 'open': <function open at 0x106fb9ee0>, '_': '', '__': '', '___': '', '__session__': '/Users/mfalce/Desktop/pyali_novembre/tape_en_cours/notebooks/Untitled.ipynb', '_i': 'def toto():\\n    global tata \\n    tata += 1 \\n    print(locals(), globals())\\n    print(id(tata), tata)', '_ii': 'tata = 3.234432\\nprint(id(tata), tata)\\ntoto()\\nprint(id(tata), tata)', '_iii': 'tata = 3.234432\\nprint(id(tata, tata))\\ntoto()\\nprint(id(tata, tata))', '_i1': 'def toto():\\n    global tata \\n    tata += 1 \\n    print(id(tata), tata)', 'toto': <function toto at 0x10847ac00>, '_i2': 'toto()', '_i3': 'tata = 3.234432\\nprint(id(tata, tata))\\ntoto()\\nprint(id(tata, tata))', 'tata': 4.234432, '_i4': 'tata = 3.234432\\nprint(id(tata), tata)\\ntoto()\\nprint(id(tata), tata)', '_i5': 'def toto():\\n    global tata \\n    tata += 1 \\n    print(locals(), globals())\\n    print(id(tata), tata)', '_i6': 'tata = 3.234432\\nprint(id(tata), tata)\\ntoto()\\nprint(id(tata), tata)'}\n",
      "4429617904 4.234432\n",
      "4429617904 4.234432\n"
     ]
    }
   ],
   "source": [
    "tata = 3.234432\n",
    "print(id(tata), tata)\n",
    "toto()\n",
    "print(id(tata), tata)"
   ]
  },
  {
   "cell_type": "code",
   "execution_count": null,
   "id": "da9ce6d4-1509-45ca-8a45-4adcbbad8b61",
   "metadata": {},
   "outputs": [],
   "source": []
  }
 ],
 "metadata": {
  "kernelspec": {
   "display_name": "Python 3 (ipykernel)",
   "language": "python",
   "name": "python3"
  },
  "language_info": {
   "codemirror_mode": {
    "name": "ipython",
    "version": 3
   },
   "file_extension": ".py",
   "mimetype": "text/x-python",
   "name": "python",
   "nbconvert_exporter": "python",
   "pygments_lexer": "ipython3",
   "version": "3.12.0"
  }
 },
 "nbformat": 4,
 "nbformat_minor": 5
}
