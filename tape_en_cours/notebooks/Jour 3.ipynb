{
 "cells": [
  {
   "cell_type": "markdown",
   "id": "0f7ced59-4945-41c7-a05f-abf1b43ec559",
   "metadata": {},
   "source": [
    "# Rappel du jour 2 \n",
    "\n",
    "* tests\n",
    "    * pyramide de tests\n",
    "* manipulations de types / structures de données\n",
    "    * utilisation de `fstrings`\n",
    "    * dictionnaires et sets \n",
    "* début de programmation fonctionnelle\n",
    "    * les fonctions sont des objets comme les autres "
   ]
  },
  {
   "cell_type": "code",
   "execution_count": 8,
   "id": "397ffd3e-e455-4f2d-a51c-9dd858a66db7",
   "metadata": {},
   "outputs": [],
   "source": [
    "def toto():\n",
    "    global tata \n",
    "    tata += 1 \n",
    "    print(id(tata), tata)"
   ]
  },
  {
   "cell_type": "code",
   "execution_count": 9,
   "id": "f0d888bd-5409-440b-ab5f-21fb1097d5b9",
   "metadata": {},
   "outputs": [
    {
     "name": "stdout",
     "output_type": "stream",
     "text": [
      "4429620304 3.234432\n",
      "4429617904 4.234432\n",
      "4429617904 4.234432\n"
     ]
    }
   ],
   "source": [
    "tata = 3.234432\n",
    "print(id(tata), tata)\n",
    "toto()\n",
    "print(id(tata), tata)"
   ]
  },
  {
   "cell_type": "code",
   "execution_count": 15,
   "id": "da9ce6d4-1509-45ca-8a45-4adcbbad8b61",
   "metadata": {},
   "outputs": [
    {
     "name": "stdout",
     "output_type": "stream",
     "text": [
      "4\n",
      "10\n",
      "11\n",
      "12\n",
      "13\n",
      "14\n"
     ]
    }
   ],
   "source": [
    "fs = []\n",
    "for i in range(5):\n",
    "    def f(x, nombre=i):\n",
    "        return x + nombre\n",
    "    fs.append(f)\n",
    "\n",
    "print(i)\n",
    "for f in fs:\n",
    "    print(f(10))"
   ]
  },
  {
   "cell_type": "code",
   "execution_count": 21,
   "id": "e5cf22c0-6948-4d27-9b00-d25c80dcb446",
   "metadata": {},
   "outputs": [
    {
     "name": "stdout",
     "output_type": "stream",
     "text": [
      "1\n",
      "3\n"
     ]
    }
   ],
   "source": [
    "def spy_list():\n",
    "    print(1)\n",
    "    return []\n",
    "\n",
    "def append_wrong(val, li=spy_list()):\n",
    "    print(2)\n",
    "    li.append(val)\n",
    "    return li\n",
    "\n",
    "print(3)"
   ]
  },
  {
   "cell_type": "code",
   "execution_count": 23,
   "id": "ce07212f-2d85-4743-a72b-7b0ccc8d38a5",
   "metadata": {},
   "outputs": [
    {
     "name": "stdout",
     "output_type": "stream",
     "text": [
      "2\n"
     ]
    },
    {
     "data": {
      "text/plain": [
       "[2, 20]"
      ]
     },
     "execution_count": 23,
     "metadata": {},
     "output_type": "execute_result"
    }
   ],
   "source": [
    "append_wrong(20)"
   ]
  },
  {
   "cell_type": "code",
   "execution_count": null,
   "id": "cbe097e9-a9db-4ec3-9204-e5adeaa14889",
   "metadata": {},
   "outputs": [],
   "source": []
  },
  {
   "cell_type": "code",
   "execution_count": null,
   "id": "24c4dc53-8d00-4bc3-99f2-38658be79b79",
   "metadata": {},
   "outputs": [],
   "source": []
  }
 ],
 "metadata": {
  "kernelspec": {
   "display_name": "Python 3 (ipykernel)",
   "language": "python",
   "name": "python3"
  },
  "language_info": {
   "codemirror_mode": {
    "name": "ipython",
    "version": 3
   },
   "file_extension": ".py",
   "mimetype": "text/x-python",
   "name": "python",
   "nbconvert_exporter": "python",
   "pygments_lexer": "ipython3",
   "version": "3.12.0"
  }
 },
 "nbformat": 4,
 "nbformat_minor": 5
}
