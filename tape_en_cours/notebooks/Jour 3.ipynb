{
 "cells": [
  {
   "cell_type": "markdown",
   "id": "0f7ced59-4945-41c7-a05f-abf1b43ec559",
   "metadata": {},
   "source": [
    "# Rappel du jour 2 \n",
    "\n",
    "* tests\n",
    "    * pyramide de tests\n",
    "* manipulations de types / structures de données\n",
    "    * utilisation de `fstrings`\n",
    "    * dictionnaires et sets \n",
    "* début de programmation fonctionnelle\n",
    "    * les fonctions sont des objets comme les autres "
   ]
  },
  {
   "cell_type": "code",
   "execution_count": 8,
   "id": "397ffd3e-e455-4f2d-a51c-9dd858a66db7",
   "metadata": {},
   "outputs": [],
   "source": [
    "def toto():\n",
    "    global tata \n",
    "    tata += 1 \n",
    "    print(id(tata), tata)"
   ]
  },
  {
   "cell_type": "code",
   "execution_count": 9,
   "id": "f0d888bd-5409-440b-ab5f-21fb1097d5b9",
   "metadata": {},
   "outputs": [
    {
     "name": "stdout",
     "output_type": "stream",
     "text": [
      "4429620304 3.234432\n",
      "4429617904 4.234432\n",
      "4429617904 4.234432\n"
     ]
    }
   ],
   "source": [
    "tata = 3.234432\n",
    "print(id(tata), tata)\n",
    "toto()\n",
    "print(id(tata), tata)"
   ]
  },
  {
   "cell_type": "code",
   "execution_count": 15,
   "id": "da9ce6d4-1509-45ca-8a45-4adcbbad8b61",
   "metadata": {},
   "outputs": [
    {
     "name": "stdout",
     "output_type": "stream",
     "text": [
      "4\n",
      "10\n",
      "11\n",
      "12\n",
      "13\n",
      "14\n"
     ]
    }
   ],
   "source": [
    "fs = []\n",
    "for i in range(5):\n",
    "    def f(x, nombre=i):\n",
    "        return x + nombre\n",
    "    fs.append(f)\n",
    "\n",
    "print(i)\n",
    "for f in fs:\n",
    "    print(f(10))"
   ]
  },
  {
   "cell_type": "code",
   "execution_count": 25,
   "id": "e5cf22c0-6948-4d27-9b00-d25c80dcb446",
   "metadata": {},
   "outputs": [
    {
     "name": "stdout",
     "output_type": "stream",
     "text": [
      "entre spy et append wrong\n",
      "dans spy list\n",
      "apres append wrong\n"
     ]
    }
   ],
   "source": [
    "def spy_list():\n",
    "    print(\"dans spy list\")\n",
    "    return []\n",
    "\n",
    "print(\"entre spy et append wrong\")\n",
    "\n",
    "def append_wrong(val, li=spy_list()):\n",
    "    print(\"dans execution de append wrong\")\n",
    "    li.append(val)\n",
    "    return li\n",
    "\n",
    "print(\"apres append wrong\")\n"
   ]
  },
  {
   "cell_type": "code",
   "execution_count": 32,
   "id": "ce07212f-2d85-4743-a72b-7b0ccc8d38a5",
   "metadata": {},
   "outputs": [
    {
     "name": "stdout",
     "output_type": "stream",
     "text": [
      "dans execution de append wrong\n"
     ]
    },
    {
     "data": {
      "text/plain": [
       "[20, 20, 20, 20, 20, 20, 21]"
      ]
     },
     "execution_count": 32,
     "metadata": {},
     "output_type": "execute_result"
    }
   ],
   "source": [
    "append_wrong(21)"
   ]
  },
  {
   "cell_type": "code",
   "execution_count": 44,
   "id": "cbe097e9-a9db-4ec3-9204-e5adeaa14889",
   "metadata": {},
   "outputs": [],
   "source": [
    "def append_ok(val, li=None):\n",
    "    if li is None:\n",
    "        li = []\n",
    "    print(\"dans execution de append wrong\")\n",
    "    li.append(val)\n",
    "    return li"
   ]
  },
  {
   "cell_type": "code",
   "execution_count": 47,
   "id": "24c4dc53-8d00-4bc3-99f2-38658be79b79",
   "metadata": {},
   "outputs": [
    {
     "name": "stdout",
     "output_type": "stream",
     "text": [
      "dans execution de append wrong\n"
     ]
    },
    {
     "data": {
      "text/plain": [
       "[1, 2, 3]"
      ]
     },
     "execution_count": 47,
     "metadata": {},
     "output_type": "execute_result"
    }
   ],
   "source": [
    "append_ok(3, [1, 2])"
   ]
  },
  {
   "cell_type": "code",
   "execution_count": 65,
   "id": "92abf1ad-3bc6-45ef-96eb-1f0d81f3929d",
   "metadata": {},
   "outputs": [
    {
     "ename": "NotImplementedError",
     "evalue": "operator='/' not supported",
     "output_type": "error",
     "traceback": [
      "\u001b[0;31m---------------------------------------------------------------------------\u001b[0m",
      "\u001b[0;31mNotImplementedError\u001b[0m                       Traceback (most recent call last)",
      "Cell \u001b[0;32mIn[65], line 27\u001b[0m\n\u001b[1;32m     20\u001b[0m \u001b[38;5;66;03m################\u001b[39;00m\n\u001b[1;32m     22\u001b[0m operations \u001b[38;5;241m=\u001b[39m {\n\u001b[1;32m     23\u001b[0m     \u001b[38;5;124m\"\u001b[39m\u001b[38;5;124m+\u001b[39m\u001b[38;5;124m\"\u001b[39m: compute_addition,\n\u001b[1;32m     24\u001b[0m     \u001b[38;5;124m\"\u001b[39m\u001b[38;5;124m-\u001b[39m\u001b[38;5;124m\"\u001b[39m: compute_substraction\n\u001b[1;32m     25\u001b[0m }\n\u001b[0;32m---> 27\u001b[0m \u001b[43moperations\u001b[49m\u001b[38;5;241;43m.\u001b[39;49m\u001b[43mget\u001b[49m\u001b[43m(\u001b[49m\u001b[43moperator\u001b[49m\u001b[43m,\u001b[49m\u001b[43m \u001b[49m\u001b[38;5;28;43;01mlambda\u001b[39;49;00m\u001b[43m \u001b[49m\u001b[43mleft\u001b[49m\u001b[43m,\u001b[49m\u001b[43m \u001b[49m\u001b[43mright\u001b[49m\u001b[43m:\u001b[49m\u001b[43m \u001b[49m\u001b[43munknown_operator\u001b[49m\u001b[43m(\u001b[49m\u001b[43moperator\u001b[49m\u001b[43m)\u001b[49m\u001b[43m)\u001b[49m\u001b[43m(\u001b[49m\u001b[43mleft\u001b[49m\u001b[43m,\u001b[49m\u001b[43m \u001b[49m\u001b[43mright\u001b[49m\u001b[43m)\u001b[49m\n",
      "Cell \u001b[0;32mIn[65], line 27\u001b[0m, in \u001b[0;36m<lambda>\u001b[0;34m(left, right)\u001b[0m\n\u001b[1;32m     20\u001b[0m \u001b[38;5;66;03m################\u001b[39;00m\n\u001b[1;32m     22\u001b[0m operations \u001b[38;5;241m=\u001b[39m {\n\u001b[1;32m     23\u001b[0m     \u001b[38;5;124m\"\u001b[39m\u001b[38;5;124m+\u001b[39m\u001b[38;5;124m\"\u001b[39m: compute_addition,\n\u001b[1;32m     24\u001b[0m     \u001b[38;5;124m\"\u001b[39m\u001b[38;5;124m-\u001b[39m\u001b[38;5;124m\"\u001b[39m: compute_substraction\n\u001b[1;32m     25\u001b[0m }\n\u001b[0;32m---> 27\u001b[0m operations\u001b[38;5;241m.\u001b[39mget(operator, \u001b[38;5;28;01mlambda\u001b[39;00m left, right: \u001b[43munknown_operator\u001b[49m\u001b[43m(\u001b[49m\u001b[43moperator\u001b[49m\u001b[43m)\u001b[49m)(left, right)\n",
      "Cell \u001b[0;32mIn[65], line 13\u001b[0m, in \u001b[0;36munknown_operator\u001b[0;34m(operator)\u001b[0m\n\u001b[1;32m     12\u001b[0m \u001b[38;5;28;01mdef\u001b[39;00m \u001b[38;5;21munknown_operator\u001b[39m(operator):\n\u001b[0;32m---> 13\u001b[0m     \u001b[38;5;28;01mraise\u001b[39;00m \u001b[38;5;167;01mNotImplementedError\u001b[39;00m(\u001b[38;5;124mf\u001b[39m\u001b[38;5;124m\"\u001b[39m\u001b[38;5;132;01m{\u001b[39;00moperator\u001b[38;5;132;01m=}\u001b[39;00m\u001b[38;5;124m not supported\u001b[39m\u001b[38;5;124m\"\u001b[39m)\n",
      "\u001b[0;31mNotImplementedError\u001b[0m: operator='/' not supported"
     ]
    }
   ],
   "source": [
    "s1 = \"3+2\" #=> 5\n",
    "s2 = \"3-2\" #=> 1\n",
    "s3 = \"3/2\"\n",
    "left, operator,right = s3\n",
    "\n",
    "def compute_addition(a, b):\n",
    "    return int(a) + int(b)\n",
    "\n",
    "def compute_substraction(a, b):\n",
    "    return int(a) - int(b) \n",
    "\n",
    "def unknown_operator(operator):\n",
    "    raise NotImplementedError(f\"{operator=} not supported\")\n",
    "\n",
    "if operator == \"+\":\n",
    "    res = compute_addition(left, right)\n",
    "elif operator == \"-\":\n",
    "    res = compute_substraction(left, right)\n",
    "\n",
    "################\n",
    "\n",
    "operations = {\n",
    "    \"+\": compute_addition,\n",
    "    \"-\": compute_substraction\n",
    "}\n",
    "\n",
    "operations.get(operator, lambda left, right: unknown_operator(operator))(left, right)"
   ]
  },
  {
   "cell_type": "code",
   "execution_count": 67,
   "id": "7f99d54b-c394-49ef-b2c0-ea98c1cd2992",
   "metadata": {},
   "outputs": [
    {
     "name": "stdout",
     "output_type": "stream",
     "text": [
      "args=(1, 2), kwargs={'c': 3, 'toto': 'riri'}\n"
     ]
    }
   ],
   "source": [
    "def f(*args, **kwargs):\n",
    "    print(f\"{args=}, {kwargs=}\")\n",
    "\n",
    "\n",
    "f(1, 2, c=3, toto=\"riri\")"
   ]
  },
  {
   "cell_type": "markdown",
   "id": "f41fa7c1-1136-4aad-9dc5-687605390a85",
   "metadata": {},
   "source": [
    "# Attributs de functions"
   ]
  },
  {
   "cell_type": "code",
   "execution_count": 68,
   "id": "e08e93e7-a487-4201-a944-53a2366ee7a4",
   "metadata": {},
   "outputs": [
    {
     "name": "stdout",
     "output_type": "stream",
     "text": [
      "2\n"
     ]
    }
   ],
   "source": [
    "def f():\n",
    "    print(\"toto\")\n",
    "\n",
    "f.a = 2\n",
    "print(f.a)"
   ]
  },
  {
   "cell_type": "code",
   "execution_count": 72,
   "id": "f43afa67-ab84-49ab-8129-71c6e29b0a57",
   "metadata": {},
   "outputs": [
    {
     "name": "stdout",
     "output_type": "stream",
     "text": [
      "1\n"
     ]
    }
   ],
   "source": [
    "# https://stackoverflow.com/questions/67603536/cannot-set-function-attribute-inside-a-decorator\n",
    "\n",
    "def deco(a_deco):\n",
    "    def wrapper():\n",
    "        a_deco()\n",
    "        wrapper.test = 1\n",
    "    return wrapper\n",
    "\n",
    "@deco\n",
    "def f():\n",
    "    pass \n",
    "\n",
    "f()\n",
    "print(f.test)"
   ]
  },
  {
   "cell_type": "code",
   "execution_count": 83,
   "id": "9b4100b9-20b8-4259-821a-ab78fbd350c5",
   "metadata": {},
   "outputs": [],
   "source": [
    "def pain(f):\n",
    "    def wrapper(*args, **kwargs):\n",
    "        print(\"pain\")\n",
    "        res = f(*args, **kwargs)\n",
    "        print(\"pain\")\n",
    "        return res\n",
    "    return wrapper \n",
    "\n",
    "def tomate(f):\n",
    "    def wrapper(*args, **kwargs):\n",
    "        res = f(*args, **kwargs)\n",
    "        print(\"tomate\")\n",
    "        return res\n",
    "    return wrapper \n",
    "\n",
    "def fromage(f):\n",
    "    def wrapper(*args, **kwargs):\n",
    "        print(\"fromage\")\n",
    "        res = f(*args, **kwargs)\n",
    "        return res \n",
    "    return wrapper \n",
    "\n",
    "@pain\n",
    "@tomate\n",
    "@fromage\n",
    "def sandwich(viande=\"steack\"):\n",
    "    print(viande)\n",
    "    return viande"
   ]
  },
  {
   "cell_type": "code",
   "execution_count": 84,
   "id": "d2bc18be-e3b6-4850-84a3-9bc36edba419",
   "metadata": {},
   "outputs": [
    {
     "name": "stdout",
     "output_type": "stream",
     "text": [
      "pain\n",
      "fromage\n",
      "végé\n",
      "tomate\n",
      "pain\n"
     ]
    },
    {
     "data": {
      "text/plain": [
       "'végé'"
      ]
     },
     "execution_count": 84,
     "metadata": {},
     "output_type": "execute_result"
    }
   ],
   "source": [
    "sandwich(\"végé\")"
   ]
  },
  {
   "cell_type": "code",
   "execution_count": 85,
   "id": "e980543e-5f8e-46de-b9dc-2b1d3ded6f77",
   "metadata": {},
   "outputs": [
    {
     "ename": "NameError",
     "evalue": "name 'ingredient' is not defined",
     "output_type": "error",
     "traceback": [
      "\u001b[0;31m---------------------------------------------------------------------------\u001b[0m",
      "\u001b[0;31mNameError\u001b[0m                                 Traceback (most recent call last)",
      "Cell \u001b[0;32mIn[85], line 1\u001b[0m\n\u001b[0;32m----> 1\u001b[0m \u001b[38;5;129m@ingredient\u001b[39m(\u001b[38;5;124m\"\u001b[39m\u001b[38;5;124mpain\u001b[39m\u001b[38;5;124m\"\u001b[39m, dessus\u001b[38;5;241m=\u001b[39m\u001b[38;5;28;01mTrue\u001b[39;00m, dessous\u001b[38;5;241m=\u001b[39m\u001b[38;5;28;01mTrue\u001b[39;00m)\n\u001b[1;32m      2\u001b[0m \u001b[38;5;129m@ingredient\u001b[39m(\u001b[38;5;124m\"\u001b[39m\u001b[38;5;124mtomate\u001b[39m\u001b[38;5;124m\"\u001b[39m, dessous\u001b[38;5;241m=\u001b[39m\u001b[38;5;28;01mTrue\u001b[39;00m)\n\u001b[1;32m      3\u001b[0m \u001b[38;5;129m@ingredient\u001b[39m(\u001b[38;5;124m\"\u001b[39m\u001b[38;5;124mfromage\u001b[39m\u001b[38;5;124m\"\u001b[39m, dessus\u001b[38;5;241m=\u001b[39m\u001b[38;5;28;01mTrue\u001b[39;00m)\n\u001b[1;32m      4\u001b[0m \u001b[38;5;28;01mdef\u001b[39;00m \u001b[38;5;21msandwich\u001b[39m(viande\u001b[38;5;241m=\u001b[39m\u001b[38;5;124m\"\u001b[39m\u001b[38;5;124msteack\u001b[39m\u001b[38;5;124m\"\u001b[39m):\n\u001b[1;32m      5\u001b[0m     \u001b[38;5;28mprint\u001b[39m(viande)\n\u001b[1;32m      6\u001b[0m     \u001b[38;5;28;01mreturn\u001b[39;00m viande\n",
      "\u001b[0;31mNameError\u001b[0m: name 'ingredient' is not defined"
     ]
    }
   ],
   "source": [
    "def ingredient(...):\n",
    "    def fromage(f):\n",
    "        def wrapper(*args, **kwargs):\n",
    "            print(\"fromage\")\n",
    "            res = f(*args, **kwargs)\n",
    "            return res \n",
    "        return wrapper \n",
    "    return fromage\n",
    "\n",
    "@ingredient(\"pain\", dessus=True, dessous=True)\n",
    "@ingredient(\"tomate\", dessous=True)\n",
    "@ingredient(\"fromage\", dessus=True)\n",
    "def sandwich(viande=\"steack\"):\n",
    "    print(viande)\n",
    "    return viande\n",
    "\n",
    "\n"
   ]
  },
  {
   "cell_type": "code",
   "execution_count": null,
   "id": "0ba2f682-cab3-418b-8d0c-fd6aab0b2b6b",
   "metadata": {},
   "outputs": [],
   "source": [
    "@deco\n",
    "def f(): pass \n",
    "\n",
    "f = deco(f)"
   ]
  }
 ],
 "metadata": {
  "kernelspec": {
   "display_name": "Python 3 (ipykernel)",
   "language": "python",
   "name": "python3"
  },
  "language_info": {
   "codemirror_mode": {
    "name": "ipython",
    "version": 3
   },
   "file_extension": ".py",
   "mimetype": "text/x-python",
   "name": "python",
   "nbconvert_exporter": "python",
   "pygments_lexer": "ipython3",
   "version": "3.12.0"
  }
 },
 "nbformat": 4,
 "nbformat_minor": 5
}
